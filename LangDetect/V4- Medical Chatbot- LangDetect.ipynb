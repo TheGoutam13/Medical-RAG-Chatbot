{
 "cells": [
  {
   "cell_type": "markdown",
   "id": "9416ed9e-adfb-40d9-b41e-2c7a8c3f4528",
   "metadata": {},
   "source": [
    "# Medical Conversational Chatbot- G Version 4- LangDetect\n",
    "This Pipeline answers questions strictly from a provided PDF or text file. It loads the document, counts tokens for query + document_text, and compresses the text via LLM summarisation if it exceeds the model’s context limit. An input guardrail blocks unsafe or disallowed queries before any model call. A strict prompt instructs the LLM to answer only from the document or reply “Not found in document.” The output guardrail then checks numeric grounding, token overlap, and entity presence to prevent hallucinations. Modular functions, logging, and error handling make it production‑ready, safe, and maintainable for enterprise‑level document‑based QA."
   ]
  },
  {
   "cell_type": "markdown",
   "id": "361d9af3-584e-434d-83b5-6f8354226e84",
   "metadata": {
    "execution": {
     "iopub.execute_input": "2025-09-22T12:55:39.248500Z",
     "iopub.status.busy": "2025-09-22T12:55:39.248158Z",
     "iopub.status.idle": "2025-09-22T12:55:39.253030Z",
     "shell.execute_reply": "2025-09-22T12:55:39.252227Z",
     "shell.execute_reply.started": "2025-09-22T12:55:39.248473Z"
    }
   },
   "source": [
    "\n",
    "## Out of 71 Languages Provided, 52 Languages are LangDetect Supported.\n",
    "### 51/52 Successfully Detected With High Confidence.\n",
    "\n",
    "Afrikaans (af), Albanian (sq), Arabic (ar), Bengali (bn), Bulgarian (bg), Catalan (ca), Chinese (Simplified) (zh-cn), Croatian (hr), Czech (cs), Danish (da), Dutch (nl), English (en), Estonian (et), Farsi / Persian (fa), Finnish (fi), French (fr), German (de), Greek (el), Gujarati (gu), Hebrew (he), Hindi (hi), Hungarian (hu), Indonesian (id), Italian (it), Japanese (ja), Kannada (kn), Korean (ko), Latvian (lv), Lithuanian (lt), Macedonian (mk), Malayalam (ml), Marathi (mr), Norwegian (no), Polish (pl), Portuguese (pt), Punjabi (pa), Romanian (ro), Russian (ru), Slovak (sk), Slovene (sl), Spanish (es), Swahili (sw), Swedish (sv), Tamil (ta), Telugu (te), Thai (th), Tagalog (tl), Turkish (tr), Ukrainian (uk), Urdu (ur), Vietnamese (vi).\n",
    "\n",
    "### Not Detected- Chinese (Traditional)- \"zh-tw\""
   ]
  },
  {
   "cell_type": "code",
   "execution_count": 1,
   "id": "31c36d74-a830-4b90-94b5-dca52712c097",
   "metadata": {
    "execution": {
     "iopub.execute_input": "2025-09-22T08:46:44.852836Z",
     "iopub.status.busy": "2025-09-22T08:46:44.852462Z",
     "iopub.status.idle": "2025-09-22T08:46:45.050911Z",
     "shell.execute_reply": "2025-09-22T08:46:45.050198Z",
     "shell.execute_reply.started": "2025-09-22T08:46:44.852811Z"
    }
   },
   "outputs": [],
   "source": [
    "import os\n",
    "import sys\n",
    "import re\n",
    "import time\n",
    "import json\n",
    "import logging\n",
    "from typing import Tuple, Optional, List, Deque, Dict\n",
    "from collections import deque\n",
    "import boto3\n",
    "import tiktoken\n",
    "from PyPDF2 import PdfReader\n",
    "from langdetect import detect, detect_langs, DetectorFactory"
   ]
  },
  {
   "cell_type": "markdown",
   "id": "4d51cc65-6eeb-4124-8c4b-37eef1d634b3",
   "metadata": {},
   "source": [
    "## Logging Configuration\n",
    "\n",
    "A logger is used to record messages about what your program is doing while it runs — like a running diary for your code.\n",
    "\n",
    "In Our case, it’s configured to Capture events (info, warnings, errors) from the “Medical Chatbot G‑Version” pipeline, Format them with a timestamp, severity level, and message so they’re easy to read.Output them to the console in real time via StreamHandler.Avoid duplicates by checking if handlers already exist."
   ]
  },
  {
   "cell_type": "code",
   "execution_count": 2,
   "id": "cf451694-2fad-4439-971e-a5283e52a381",
   "metadata": {
    "execution": {
     "iopub.execute_input": "2025-09-22T08:46:46.189975Z",
     "iopub.status.busy": "2025-09-22T08:46:46.188962Z",
     "iopub.status.idle": "2025-09-22T08:46:46.194783Z",
     "shell.execute_reply": "2025-09-22T08:46:46.194068Z",
     "shell.execute_reply.started": "2025-09-22T08:46:46.189941Z"
    }
   },
   "outputs": [],
   "source": [
    "logger = logging.getLogger(\"Medical Chatbot G-Version\")\n",
    "if not logger.handlers:\n",
    "    logger.setLevel(logging.INFO)\n",
    "    ch = logging.StreamHandler(stream=sys.stdout)\n",
    "    ch.setLevel(logging.INFO)\n",
    "    formatter = logging.Formatter(\"[%(levelname)s] %(asctime)s - %(name)s - %(message)s\")\n",
    "    ch.setFormatter(formatter)\n",
    "    logger.addHandler(ch)"
   ]
  },
  {
   "cell_type": "markdown",
   "id": "a97c2308-280e-432a-990b-e7cb52f6584b",
   "metadata": {},
   "source": [
    "## Configuration"
   ]
  },
  {
   "cell_type": "code",
   "execution_count": 3,
   "id": "4f62c97a-d607-458b-89d9-19bcae01b7ad",
   "metadata": {
    "execution": {
     "iopub.execute_input": "2025-09-22T08:46:46.688052Z",
     "iopub.status.busy": "2025-09-22T08:46:46.687737Z",
     "iopub.status.idle": "2025-09-22T08:46:46.693945Z",
     "shell.execute_reply": "2025-09-22T08:46:46.692782Z",
     "shell.execute_reply.started": "2025-09-22T08:46:46.688005Z"
    }
   },
   "outputs": [],
   "source": [
    "AWS_REGION = os.environ.get(\"AWS_REGION\", \"us-east-1\")\n",
    "BEDROCK_MODEL_ID = os.environ.get(\"BEDROCK_MODEL_ID\", \"anthropic.claude-3-5-sonnet-20240620-v1:0\")\n",
    "\n",
    "MODEL_CONTEXT_TOKENS = int(os.environ.get(\"MODEL_CONTEXT_TOKENS\", \"128000\"))  # Conservative default\n",
    "DEFAULT_MAX_TOKENS = int(os.environ.get(\"MAX_TOKENS\", \"1024\"))\n",
    "\n",
    "# Language enforcement config\n",
    "LANG_ENFORCEMENT_ENABLED = os.environ.get(\"LANG_ENFORCEMENT_ENABLED\", \"true\").lower() == \"true\"\n",
    "LANG_MIN_CHARS_FOR_DETECTION = int(os.environ.get(\"LANG_MIN_CHARS_FOR_DETECTION\", \"10\"))\n",
    "LANG_REPROMPT_MAX_ATTEMPTS = int(os.environ.get(\"LANG_REPROMPT_MAX_ATTEMPTS\", \"1\"))\n",
    "\n",
    "# Conversation history config\n",
    "CONVO_HISTORY_ENABLED = os.environ.get(\"CONVO_HISTORY_ENABLED\", \"false\").lower() == \"true\"\n",
    "CONVO_MAX_TURNS = int(os.environ.get(\"CONVO_MAX_TURNS\", \"8\"))  # rolling turn count cap\n",
    "CONVO_MAX_TOKENS = int(os.environ.get(\"CONVO_MAX_TOKENS\", \"3000\"))  # token budget for history\n",
    "CONVO_INCLUDE_ASSISTANT = os.environ.get(\"CONVO_INCLUDE_ASSISTANT\", \"true\").lower() == \"true\"\n",
    "CONVO_POLICY_NOTE = (\n",
    "    \"Use past turns only to resolve pronouns, clarify references, or maintain continuity. \"\n",
    "    \"Do not treat past assistant statements as authoritative facts. All factual content must be derived only \"\n",
    "    \"from the provided Document section.\"\n",
    ")"
   ]
  },
  {
   "cell_type": "markdown",
   "id": "c6b93abc-b4d8-4402-aa7e-9a94f6405b4b",
   "metadata": {},
   "source": [
    "## Tokenization\n",
    "\n",
    "The code defines a function to get a tokenizer from tiktoken, defaulting to \"cl100k_base\" for stable token counting. If initialization fails, it logs a warning and falls back. Another function uses the encoder to count tokens in any input string, ensuring consistent token budgeting for LLM usage."
   ]
  },
  {
   "cell_type": "code",
   "execution_count": 4,
   "id": "f4d84f23-a7bd-4d10-919d-bc70e4c03494",
   "metadata": {
    "execution": {
     "iopub.execute_input": "2025-09-22T08:46:46.743049Z",
     "iopub.status.busy": "2025-09-22T08:46:46.742761Z",
     "iopub.status.idle": "2025-09-22T08:46:46.951862Z",
     "shell.execute_reply": "2025-09-22T08:46:46.950997Z",
     "shell.execute_reply.started": "2025-09-22T08:46:46.743027Z"
    }
   },
   "outputs": [],
   "source": [
    "# Tokenizer\n",
    "# =========================\n",
    "def get_encoder(model_name: str = \"cl100k_base\"):\n",
    "    \"\"\"\n",
    "    Use a stable tokenizer for budgeting. cl100k_base approximates modern LLMs well.\n",
    "    \"\"\"\n",
    "    try:\n",
    "        return tiktoken.get_encoding(model_name)\n",
    "    except Exception:\n",
    "        logger.warning(\"Falling back to cl100k_base tokenizer.\")\n",
    "        return tiktoken.get_encoding(\"cl100k_base\")\n",
    "\n",
    "ENCODER = get_encoder(\"cl100k_base\")\n",
    "\n",
    "def count_tokens(text: str) -> int:\n",
    "    \"\"\"Count tokens in a string using tiktoken.\"\"\"\n",
    "    return len(ENCODER.encode(text or \"\"))"
   ]
  },
  {
   "cell_type": "markdown",
   "id": "c133e8a4-9dc6-47c6-89cc-a7cce4e397cd",
   "metadata": {},
   "source": [
    "## Load the Document"
   ]
  },
  {
   "cell_type": "code",
   "execution_count": 5,
   "id": "2508383d-c3c3-4fb5-9d7a-70841f4f5447",
   "metadata": {
    "execution": {
     "iopub.execute_input": "2025-09-22T08:46:46.954075Z",
     "iopub.status.busy": "2025-09-22T08:46:46.953024Z",
     "iopub.status.idle": "2025-09-22T08:46:46.961679Z",
     "shell.execute_reply": "2025-09-22T08:46:46.960830Z",
     "shell.execute_reply.started": "2025-09-22T08:46:46.954047Z"
    }
   },
   "outputs": [],
   "source": [
    "# Document loading\n",
    "# =========================\n",
    "def load_document(file_path: str) -> str:\n",
    "    \"\"\"\n",
    "    Load a document from a .pdf or .txt/.md and return text.\n",
    "    Raises FileNotFoundError, ValueError, Exception.\n",
    "    \"\"\"\n",
    "    if not os.path.exists(file_path):\n",
    "        logger.error(f\"File not found: {file_path}\")\n",
    "        raise FileNotFoundError(f\"File not found: {file_path}\")\n",
    "\n",
    "    ext = os.path.splitext(file_path)[1].lower()\n",
    "    try:\n",
    "        if ext == \".pdf\":\n",
    "            logger.info(f\"Loading PDF: {file_path}\")\n",
    "            reader = PdfReader(file_path)\n",
    "            pages_text = []\n",
    "            for i, page in enumerate(reader.pages):\n",
    "                try:\n",
    "                    page_text = page.extract_text() or \"\"\n",
    "                except Exception as e:\n",
    "                    logger.warning(f\"Failed to extract text from page {i}: {e}\")\n",
    "                    page_text = \"\"\n",
    "                pages_text.append(page_text)\n",
    "            document_text = \"\\n\".join(pages_text).strip()\n",
    "        elif ext in [\".txt\", \".md\"]:\n",
    "            logger.info(f\"Loading text file: {file_path}\")\n",
    "            with open(file_path, \"r\", encoding=\"utf-8\") as f:\n",
    "                document_text = f.read().strip()\n",
    "        else:\n",
    "            raise ValueError(\"Unsupported file type. Only .pdf and .txt/.md are supported.\")\n",
    "    except Exception as e:\n",
    "        logger.exception(\"Unexpected error while loading document.\")\n",
    "        raise e\n",
    "\n",
    "    if not document_text:\n",
    "        raise ValueError(\"Document appears to be empty after extraction.\")\n",
    "    return document_text"
   ]
  },
  {
   "cell_type": "markdown",
   "id": "cb098694-911e-4b0b-9832-dc4c03c9a6a7",
   "metadata": {},
   "source": [
    "## Token Budget Check\n",
    "\n",
    "This function checks if your query plus document text will fit inside the model’s context window.\n",
    "\n",
    "It works by Counting tokens in the query and document using count_tokens().Adding them to get total_tokens.Comparing total_tokens to budget_tokens (the model’s max context size) to set fits as True or False.Logging the result with details for debugging and monitoring.\n",
    "\n",
    "Returning a tuple:\n",
    "\n",
    "fits → whether it’s within budget\n",
    "\n",
    "total_tokens → the actual combined token count\n",
    "\n",
    "This ensures you don’t send more text than the model can handle, preventing truncation or errors."
   ]
  },
  {
   "cell_type": "code",
   "execution_count": 6,
   "id": "b8a4e6b5-9fa9-4cd3-834c-7c9e5ab353da",
   "metadata": {
    "execution": {
     "iopub.execute_input": "2025-09-22T08:46:46.962758Z",
     "iopub.status.busy": "2025-09-22T08:46:46.962530Z",
     "iopub.status.idle": "2025-09-22T08:46:46.968273Z",
     "shell.execute_reply": "2025-09-22T08:46:46.967552Z",
     "shell.execute_reply.started": "2025-09-22T08:46:46.962739Z"
    }
   },
   "outputs": [],
   "source": [
    "# Token budgeting & chunking\n",
    "# =========================\n",
    "def check_token_budget(query: str, document_text: str, budget_tokens: int) -> Tuple[bool, int]:\n",
    "    \"\"\"\n",
    "    Return whether query + document_text fits within the model's context window,\n",
    "    and the total tokens used for that pair.\n",
    "    \"\"\"\n",
    "    total_tokens = count_tokens(query) + count_tokens(document_text)\n",
    "    fits = total_tokens <= budget_tokens\n",
    "    logger.info(f\"Token check: total={total_tokens}, budget={budget_tokens}, fits={fits}\")\n",
    "    return fits, total_tokens"
   ]
  },
  {
   "cell_type": "code",
   "execution_count": 7,
   "id": "1e6ec887-4863-46c6-b2cd-cb23b5ce2ed5",
   "metadata": {
    "execution": {
     "iopub.execute_input": "2025-09-22T08:46:46.969905Z",
     "iopub.status.busy": "2025-09-22T08:46:46.969678Z",
     "iopub.status.idle": "2025-09-22T08:46:46.974897Z",
     "shell.execute_reply": "2025-09-22T08:46:46.974079Z",
     "shell.execute_reply.started": "2025-09-22T08:46:46.969886Z"
    }
   },
   "outputs": [],
   "source": [
    "def chunk_text(text: str, max_tokens_per_chunk: int, overlap: int = 100) -> List[str]:\n",
    "    \"\"\"\n",
    "    Chunk text into token-bounded segments with overlap to preserve context for summarization.\n",
    "    \"\"\"\n",
    "    tokens = ENCODER.encode(text)\n",
    "    chunks = []\n",
    "    start = 0\n",
    "    max_len = max_tokens_per_chunk\n",
    "    ov = min(overlap, max(0, max_len // 10))\n",
    "    while start < len(tokens):\n",
    "        end = min(start + max_len, len(tokens))\n",
    "        chunk = ENCODER.decode(tokens[start:end])\n",
    "        chunks.append(chunk)\n",
    "        if end == len(tokens):\n",
    "            break\n",
    "        start = end - ov  # overlap\n",
    "    return chunks"
   ]
  },
  {
   "cell_type": "markdown",
   "id": "fe021659-28ea-434c-9d31-f5354f2e3a0c",
   "metadata": {},
   "source": [
    "## Input Guardrail"
   ]
  },
  {
   "cell_type": "code",
   "execution_count": 8,
   "id": "de29f53b-50da-4bd2-9a9a-f082d4c04375",
   "metadata": {
    "execution": {
     "iopub.execute_input": "2025-09-22T08:46:46.975900Z",
     "iopub.status.busy": "2025-09-22T08:46:46.975673Z",
     "iopub.status.idle": "2025-09-22T08:46:46.981685Z",
     "shell.execute_reply": "2025-09-22T08:46:46.979766Z",
     "shell.execute_reply.started": "2025-09-22T08:46:46.975882Z"
    }
   },
   "outputs": [],
   "source": [
    "# Input guardrail\n",
    "# =========================\n",
    "def apply_input_guardrail(query: str, document_text: str) -> Tuple[bool, Optional[str]]:\n",
    "    \"\"\"\n",
    "    Validate input safety and relevance.\n",
    "    \"\"\"\n",
    "    q_lower = query.lower()\n",
    "    disallowed_patterns = [\n",
    "        r\"make\\s+(a|an)\\s+(bomb|weapon|explosive)\",\n",
    "        r\"how\\s+to\\s+(manufacture|create)\\s+(biological|chemical)\\s+(weapon|agent)\",\n",
    "        r\"bypass\\s+(security|authentication)\",\n",
    "        r\"exploit\\s+(a|the)\\s+vulnerability\",\n",
    "        r\"harm\\s+(someone|people)\",\n",
    "        r\"kill\\s+(someone|people)\",\n",
    "    ]\n",
    "    for pat in disallowed_patterns:\n",
    "        if re.search(pat, q_lower):\n",
    "            logger.warning(\"Input guardrail: disallowed/harmful request detected.\")\n",
    "            return False, \"Your request cannot be processed because it seeks unsafe or disallowed information.\"\n",
    "    return True, None"
   ]
  },
  {
   "cell_type": "markdown",
   "id": "ed487f41-ed4c-41cd-b365-649b62c147fc",
   "metadata": {},
   "source": [
    "## Output Guardrail"
   ]
  },
  {
   "cell_type": "code",
   "execution_count": 9,
   "id": "bd633afd-b8c1-46ee-9e8b-329552dacfab",
   "metadata": {
    "execution": {
     "iopub.execute_input": "2025-09-22T08:46:46.983153Z",
     "iopub.status.busy": "2025-09-22T08:46:46.982920Z",
     "iopub.status.idle": "2025-09-22T08:46:46.989804Z",
     "shell.execute_reply": "2025-09-22T08:46:46.988723Z",
     "shell.execute_reply.started": "2025-09-22T08:46:46.983133Z"
    }
   },
   "outputs": [],
   "source": [
    "# Output guardrail helpers\n",
    "# =========================\n",
    "FALLBACK_MESSAGES: Dict[str, str] = {\n",
    "    \"af\": \"Nie in dokument gevind nie.\",   # Afrikaans\n",
    "    \"sq\": \"Nuk u gjet në dokument.\",       # Albanian\n",
    "    \"ar\": \"غير موجود في المستند.\",        # Arabic\n",
    "    \"bn\": \"দস্তাবেজে পাওয়া যায়নি।\",      # Bengali\n",
    "    \"bg\": \"Не е намерено в документа.\",    # Bulgarian\n",
    "    \"ca\": \"No s'ha trobat al document.\",   # Catalan\n",
    "    \"zh-cn\": \"文档中未找到。\",              # Chinese (Simplified)\n",
    "    \"zh-tw\": \"文件中未找到。\",              # Chinese (Traditional)\n",
    "    \"hr\": \"Nije pronađeno u dokumentu.\",   # Croatian\n",
    "    \"cs\": \"V dokumentu nebylo nalezeno.\",  # Czech\n",
    "    \"da\": \"Ikke fundet i dokumentet.\",     # Danish\n",
    "    \"nl\": \"Niet gevonden in het document.\",# Dutch / Flemish\n",
    "    \"en\": \"Not found in document.\",        # English\n",
    "    \"et\": \"Dokumendist ei leitud.\",        # Estonian\n",
    "    \"fa\": \"در سند یافت نشد.\",              # Farsi / Persian\n",
    "    \"fi\": \"Ei löytynyt asiakirjasta.\",     # Finnish\n",
    "    \"fr\": \"Non trouvé dans le document.\",  # French\n",
    "    \"de\": \"Nicht im Dokument gefunden.\",   # German\n",
    "    \"el\": \"Δεν βρέθηκε στο έγγραφο.\",      # Greek\n",
    "    \"gu\": \"દસ્તાવેજમાં મળ્યું નથી.\",       # Gujarati\n",
    "    \"he\": \"לא נמצא במסמך.\",                # Hebrew\n",
    "    \"hi\": \"दस्तावेज़ में नहीं मिला।\",       # Hindi\n",
    "    \"hu\": \"Nem található a dokumentumban.\",# Hungarian\n",
    "    \"id\": \"Tidak ditemukan dalam dokumen.\",# Indonesian / Malay\n",
    "    \"it\": \"Non trovato nel documento.\",    # Italian\n",
    "    \"ja\": \"文書内に見つかりませんでした。\", # Japanese\n",
    "    \"kn\": \"ದಾಖಲೆಯಲ್ಲಿಲ್ಲ.\",                # Kannada\n",
    "    \"ko\": \"문서에서 찾을 수 없습니다.\",      # Korean\n",
    "    \"lv\": \"Dokumentā nav atrasts.\",        # Latvian\n",
    "    \"lt\": \"Dokumente nerasta.\",            # Lithuanian\n",
    "    \"mk\": \"Не е најдено во документот.\",   # Macedonian\n",
    "    \"ml\": \"രേഖയിൽ കണ്ടെത്തിയില്ല.\",        # Malayalam\n",
    "    \"mr\": \"दस्तऐवजात सापडले नाही.\",        # Marathi\n",
    "    \"no\": \"Ikke funnet i dokumentet.\",     # Norwegian\n",
    "    \"pl\": \"Nie znaleziono w dokumencie.\",  # Polish\n",
    "    \"pt\": \"Não encontrado no documento.\",  # Portuguese\n",
    "    \"pa\": \"ਦਸਤਾਵੇਜ਼ ਵਿੱਚ ਨਹੀਂ ਮਿਲਿਆ।\",      # Punjabi\n",
    "    \"ro\": \"Nu a fost găsit în document.\",  # Romanian\n",
    "    \"ru\": \"Не найдено в документе.\",       # Russian\n",
    "    \"sk\": \"V dokumente sa nenašlo.\",       # Slovak\n",
    "    \"sl\": \"Ni najdeno v dokumentu.\",       # Slovene\n",
    "    \"es\": \"No se encontró en el documento.\",# Spanish\n",
    "    \"sw\": \"Haikupatikana kwenye hati.\",    # Swahili\n",
    "    \"sv\": \"Hittades inte i dokumentet.\",   # Swedish\n",
    "    \"ta\": \"ஆவணத்தில் கிடைக்கவில்லை.\",       # Tamil\n",
    "    \"te\": \"పత్రంలో కనబడలేదు.\",              # Telugu\n",
    "    \"th\": \"ไม่พบในเอกสาร.\",                # Thai\n",
    "    \"tl\": \"Hindi natagpuan sa dokumento.\", # Tagalog\n",
    "    \"tr\": \"Belgede bulunamadı.\",           # Turkish\n",
    "    \"uk\": \"Не знайдено в документі.\",      # Ukrainian\n",
    "    \"ur\": \"دستاویز میں نہیں ملا۔\",          # Urdu\n",
    "    \"vi\": \"Không tìm thấy trong tài liệu.\" # Vietnamese\n",
    "}"
   ]
  },
  {
   "cell_type": "code",
   "execution_count": 10,
   "id": "f1338bb2-3c00-4c9a-8634-e6c162dac415",
   "metadata": {
    "execution": {
     "iopub.execute_input": "2025-09-22T08:46:46.991452Z",
     "iopub.status.busy": "2025-09-22T08:46:46.990605Z",
     "iopub.status.idle": "2025-09-22T08:46:47.001602Z",
     "shell.execute_reply": "2025-09-22T08:46:47.000202Z",
     "shell.execute_reply.started": "2025-09-22T08:46:46.991426Z"
    }
   },
   "outputs": [],
   "source": [
    "def apply_output_guardrail(\n",
    "    answer: str,\n",
    "    document_text: str,\n",
    "    expected_lang: str,\n",
    "    allow_summary_mode: bool = False\n",
    ") -> str:\n",
    "    \"\"\"\n",
    "    Guardrail to ensure the model's answer is grounded in the document.\n",
    "    If grounding fails, returns a localized 'Not found in document' message\n",
    "    based on the expected language.\n",
    "    \"\"\"\n",
    "    grounded = True\n",
    "\n",
    "    # 1) Empty or trivial answer\n",
    "    if not answer or len(answer.strip()) < 3:\n",
    "        grounded = False\n",
    "\n",
    "    # 2) If not in summary mode, require some token overlap\n",
    "    if grounded and not allow_summary_mode:\n",
    "        overlap = len(set(answer.lower().split()) & set(document_text.lower().split()))\n",
    "        if overlap < 1:\n",
    "            grounded = False\n",
    "            logger.warning(\"Output guardrail: insufficient overlap with document.\")\n",
    "\n",
    "    # 3) Optional numeric grounding check: ensure numbers in answer appear in document\n",
    "    if grounded:\n",
    "        nums_in_answer = re.findall(r\"\\d+\", answer)\n",
    "        for n in nums_in_answer:\n",
    "            if n not in document_text:\n",
    "                grounded = False\n",
    "                logger.warning(f\"Output guardrail: numeric value '{n}' not grounded in document.\")\n",
    "                break\n",
    "\n",
    "    if not grounded:\n",
    "        return FALLBACK_MESSAGES.get(expected_lang.lower(), FALLBACK_MESSAGES[\"en\"])\n",
    "    return answer"
   ]
  },
  {
   "cell_type": "markdown",
   "id": "1a91c482-5bad-4095-bf4a-aea260ac844b",
   "metadata": {},
   "source": [
    "## Language Enforcer\n",
    "This class manages language control by detecting input, enforcing output language in prompts, checking if the model’s response matches expectations, retrying when mismatched, and offering predefined fallback responses."
   ]
  },
  {
   "cell_type": "code",
   "execution_count": 11,
   "id": "fd8cfadb-9b8d-4d18-9997-23527a8463b6",
   "metadata": {
    "execution": {
     "iopub.execute_input": "2025-09-22T08:46:47.047897Z",
     "iopub.status.busy": "2025-09-22T08:46:47.047613Z",
     "iopub.status.idle": "2025-09-22T08:46:47.071208Z",
     "shell.execute_reply": "2025-09-22T08:46:47.070205Z",
     "shell.execute_reply.started": "2025-09-22T08:46:47.047877Z"
    }
   },
   "outputs": [],
   "source": [
    "# Language enforcer\n",
    "# =========================\n",
    "class LanguageEnforcer:\n",
    "    \"\"\"\n",
    "    Modular language detection and enforcement.\n",
    "    - Detects input language from the user's query.\n",
    "    - Injects strict instruction into the prompt to mirror that language.\n",
    "    - Verifies output language and optionally re-prompts once.\n",
    "    - Logs only language codes and lengths for audit safety.\n",
    "    \"\"\"\n",
    "    LANG_NAMES = {\n",
    "        \"af\": \"Afrikaans\",\n",
    "        \"sq\": \"Albanian\",\n",
    "        \"ar\": \"Arabic\",\n",
    "        \"bn\": \"Bengali\",\n",
    "        \"bg\": \"Bulgarian\",\n",
    "        \"ca\": \"Catalan\",\n",
    "        \"zh-cn\": \"Chinese (Simplified)\",\n",
    "        \"zh-tw\": \"Chinese (Traditional)\",\n",
    "        \"hr\": \"Croatian\",\n",
    "        \"cs\": \"Czech\",\n",
    "        \"da\": \"Danish\",\n",
    "        \"nl\": \"Dutch\",\n",
    "        \"en\": \"English\",\n",
    "        \"et\": \"Estonian\",\n",
    "        \"fa\": \"Farsi / Persian\",\n",
    "        \"fi\": \"Finnish\",\n",
    "        \"fr\": \"French\",\n",
    "        \"de\": \"German\",\n",
    "        \"el\": \"Greek\",\n",
    "        \"gu\": \"Gujarati\",\n",
    "        \"he\": \"Hebrew\",\n",
    "        \"hi\": \"Hindi\",\n",
    "        \"hu\": \"Hungarian\",\n",
    "        \"id\": \"Indonesian\",\n",
    "        \"it\": \"Italian\",\n",
    "        \"ja\": \"Japanese\",\n",
    "        \"kn\": \"Kannada\",\n",
    "        \"ko\": \"Korean\",\n",
    "        \"lv\": \"Latvian\",\n",
    "        \"lt\": \"Lithuanian\",\n",
    "        \"mk\": \"Macedonian\",\n",
    "        \"ml\": \"Malayalam\",\n",
    "        \"mr\": \"Marathi\",\n",
    "        \"no\": \"Norwegian\",\n",
    "        \"pl\": \"Polish\",\n",
    "        \"pt\": \"Portuguese\",\n",
    "        \"pa\": \"Punjabi\",\n",
    "        \"ro\": \"Romanian\",\n",
    "        \"ru\": \"Russian\",\n",
    "        \"sk\": \"Slovak\",\n",
    "        \"sl\": \"Slovene\",\n",
    "        \"es\": \"Spanish\",\n",
    "        \"sw\": \"Swahili\",\n",
    "        \"sv\": \"Swedish\",\n",
    "        \"ta\": \"Tamil\",\n",
    "        \"te\": \"Telugu\",\n",
    "        \"th\": \"Thai\",\n",
    "        \"tl\": \"Tagalog\",\n",
    "        \"tr\": \"Turkish\",\n",
    "        \"uk\": \"Ukrainian\",\n",
    "        \"ur\": \"Urdu\",\n",
    "        \"vi\": \"Vietnamese\",\n",
    "    }\n",
    "    NORMALIZE = {\n",
    "        \"zh\": \"zh-cn\",\n",
    "        \"zh-cn\": \"zh-cn\",\n",
    "        \"zh-tw\": \"zh-tw\",\n",
    "    }\n",
    "\n",
    "    def __init__(self, enabled: bool = True, min_chars: int = 15, max_reprompts: int = 1):\n",
    "        self.enabled = enabled\n",
    "        self.min_chars = min_chars\n",
    "        self.max_reprompts = max_reprompts\n",
    "        try:\n",
    "            from langdetect import detect, detect_langs, DetectorFactory  # type: ignore\n",
    "            DetectorFactory.seed = 0\n",
    "            self.has_langdetect = True\n",
    "            self._detect = detect\n",
    "            self._detect_langs = detect_langs\n",
    "        except Exception:\n",
    "            self.has_langdetect = False\n",
    "            self._detect = None\n",
    "            self._detect_langs = None\n",
    "\n",
    "    def _fallback_detect(self, text: str) -> Tuple[str, float]:\n",
    "        \"\"\"Very conservative heuristic fallback.\"\"\"\n",
    "        if re.search(r\"[\\u0900-\\u097F]\", text):\n",
    "            return \"hi\", 0.8\n",
    "        if re.search(r\"[\\u4e00-\\u9fff]\", text):  # CJK Unified Ideographs\n",
    "            return \"zh-cn\", 0.8\n",
    "        return \"en\", 0.5\n",
    "\n",
    "    def detect_language(self, text: str) -> Tuple[str, float]:\n",
    "        \"\"\"Return (language_code, confidence).\"\"\"\n",
    "        if not self.enabled:\n",
    "            return \"en\", 1.0\n",
    "        safe_len = len(text or \"\")\n",
    "        if not self.has_langdetect or safe_len < self.min_chars:\n",
    "            code, conf = self._fallback_detect(text or \"\")\n",
    "            logger.info(f\"Language detection (fallback): code={code}, conf≈{conf:.2f}, length={safe_len}\")\n",
    "            return code, conf\n",
    "        try:\n",
    "            langs = self._detect_langs(text or \"\")\n",
    "            if not langs:\n",
    "                return self._fallback_detect(text or \"\")\n",
    "            top = sorted(langs, key=lambda x: x.prob, reverse=True)[0]\n",
    "            code = self.NORMALIZE.get(top.lang.lower(), top.lang.lower())\n",
    "            return code, float(top.prob)\n",
    "        except Exception as e:\n",
    "            logger.warning(f\"Language detection failed, reverting to fallback. err={e}\")\n",
    "            return self._fallback_detect(text or \"\")\n",
    "\n",
    "    def language_name(self, code: str) -> str:\n",
    "        return self.LANG_NAMES.get(code, code)\n",
    "\n",
    "    def augment_prompt_with_language(self, messages: List[dict], lang_code: str) -> List[dict]:\n",
    "        \"\"\"Add system instruction enforcing output language.\"\"\"\n",
    "        if not self.enabled:\n",
    "            return messages\n",
    "        lang_name = self.language_name(lang_code)\n",
    "        enforcement = (\n",
    "            f\"Respond only in {lang_name} ({lang_code}). \"\n",
    "            f\"Do not use any other language. \"\n",
    "            f\"Maintain tone and terminology appropriate for clinical QA in {lang_name}.\"\n",
    "        )\n",
    "        new_messages: List[dict] = []\n",
    "        inserted = False\n",
    "        for m in messages:\n",
    "            if m.get(\"role\") == \"system\":\n",
    "                combined = (m.get(\"content\", \"\") or \"\").strip()\n",
    "                combined = (enforcement + \"\\n\" + combined).strip()\n",
    "                new_messages.append({\"role\": \"system\", \"content\": combined})\n",
    "                inserted = True\n",
    "            else:\n",
    "                new_messages.append(m)\n",
    "        if not inserted:\n",
    "            new_messages.insert(0, {\"role\": \"system\", \"content\": enforcement})\n",
    "        return new_messages\n",
    "\n",
    "    def _detect_answer_lang(self, answer: str) -> Optional[str]:\n",
    "        \"\"\"Detect language of the model's answer.\"\"\"\n",
    "        if not answer or len(answer) < 3:\n",
    "            return None\n",
    "        if not self.has_langdetect:\n",
    "            return self._fallback_detect(answer)[0]\n",
    "        try:\n",
    "            return self._detect(answer)\n",
    "        except Exception:\n",
    "            return None\n",
    "\n",
    "    def verify_language(self, expected_lang: str, answer: str) -> bool:\n",
    "        \"\"\"Verify that the output language matches expected language.\"\"\"\n",
    "        if not self.enabled:\n",
    "            return True\n",
    "        if len(answer or \"\") < self.min_chars // 2:\n",
    "            return True\n",
    "        detected = self._detect_answer_lang(answer)\n",
    "        if not detected:\n",
    "            return True\n",
    "        detected = self.NORMALIZE.get(detected.lower(), detected.lower())\n",
    "        match = (detected == expected_lang.lower())\n",
    "        if not match:\n",
    "            logger.warning(f\"Language mismatch: expected={expected_lang}, detected={detected}\")\n",
    "        else:\n",
    "            logger.info(f\"Language verify OK: expected={expected_lang}, detected={detected}\")\n",
    "        return match\n",
    "\n",
    "    def safe_fallback_message(self, expected_lang: str) -> str:\n",
    "        \"\"\"Provide a minimal, safe fallback message in the expected language.\"\"\"\n",
    "        fallback_map = {\n",
    "            \"af\": \"Jammer, ek kon nie die antwoord in jou taal verseker nie. Probeer asseblief weer.\",\n",
    "            \"sq\": \"Na vjen keq, nuk munda të siguroj përgjigjen në gjuhën tuaj. Ju lutem provoni përsëri.\",\n",
    "            \"ar\": \"عذرًا، لم أتمكن من ضمان الرد بلغتك. يرجى المحاولة مرة أخرى.\",\n",
    "            \"bn\": \"দুঃখিত, আমি আপনার ভাষায় উত্তর নিশ্চিত করতে পারিনি। অনুগ্রহ করে আবার চেষ্টা করুন।\",\n",
    "            \"bg\": \"Съжалявам, не успях да осигуря отговор на вашия език. Моля, опитайте отново.\",\n",
    "            \"ca\": \"Ho sento, no he pogut assegurar la resposta en el teu idioma. Si us plau, torna-ho a provar.\",\n",
    "            \"zh-cn\": \"抱歉，我无法确保用您的语言回答。请再试一次。\",\n",
    "            \"zh-tw\": \"抱歉，我無法確保用您的語言回答。請再試一次。\",\n",
    "            \"hr\": \"Žao mi je, nisam mogao osigurati odgovor na vašem jeziku. Molimo pokušajte ponovno.\",\n",
    "            \"cs\": \"Omlouvám se, nepodařilo se mi zajistit odpověď ve vašem jazyku. Zkuste to prosím znovu.\",\n",
    "            \"da\": \"Beklager, jeg kunne ikke sikre svaret på dit sprog. Prøv venligst igen.\",\n",
    "            \"nl\": \"Sorry, ik kon het antwoord in uw taal niet garanderen. Probeer het alstublieft opnieuw.\",\n",
    "            \"en\": \"Sorry, I could not ensure the response in your language. Please try again.\",\n",
    "            \"et\": \"Vabandust, ma ei saanud vastust teie keeles tagada. Palun proovige uuesti.\",\n",
    "            \"fa\": \"متأسفم، نتوانستم پاسخ را به زبان شما تضمین کنم. لطفاً دوباره تلاش کنید.\",\n",
    "            \"fi\": \"Anteeksi, en voinut varmistaa vastausta kielelläsi. Yritä uudelleen.\",\n",
    "            \"fr\": \"Désolé, je n’ai pas pu garantir la réponse dans votre langue. Veuillez réessayer.\",\n",
    "            \"de\": \"Entschuldigung, ich konnte die Antwort in Ihrer Sprache nicht sicherstellen. Bitte versuchen Sie es erneut.\",\n",
    "            \"el\": \"Συγγνώμη, δεν μπόρεσα να διασφαλίσω την απάντηση στη γλώσσα σας. Παρακαλώ δοκιμάστε ξανά.\",\n",
    "            \"gu\": \"માફ કરશો, હું તમારી ભાષામાં જવાબ સુનિશ્ચિત કરી શક્યો નથી. કૃપા કરીને ફરી પ્રયાસ કરો.\",\n",
    "            \"he\": \"מצטער, לא הצלחתי להבטיח את התשובה בשפתך. אנא נסה שוב.\",\n",
    "            \"hi\": \"क्षमा करें, मैं आपकी भाषा में उत्तर सुनिश्चित नहीं कर सका। कृपया पुनः प्रयास करें।\",\n",
    "            \"hu\": \"Sajnálom, nem tudtam biztosítani a választ az Ön nyelvén. Kérjük, próbálja újra.\",\n",
    "            \"id\": \"Maaf, saya tidak dapat memastikan jawaban dalam bahasa Anda. Silakan coba lagi.\",\n",
    "            \"it\": \"Spiacente, non sono riuscito a garantire la risposta nella tua lingua. Per favore riprova.\",\n",
    "            \"ja\": \"申し訳ありませんが、ご希望の言語で回答できませんでした。もう一度お試しください。\",\n",
    "            \"kn\": \"ಕ್ಷಮಿಸಿ, ನಾನು ನಿಮ್ಮ ಭಾಷೆಯಲ್ಲಿ ಉತ್ತರವನ್ನು ಖಚಿತಪಡಿಸಲು ಸಾಧ್ಯವಾಗಲಿಲ್ಲ. ದಯವಿಟ್ಟು ಮತ್ತೆ ಪ್ರಯತ್ನಿಸಿ.\",\n",
    "            \"ko\": \"죄송합니다. 귀하의 언어로 응답을 보장할 수 없습니다. 다시 시도해 주세요.\",\n",
    "            \"lv\": \"Atvainojiet, es nevarēju nodrošināt atbildi jūsu valodā. Lūdzu, mēģiniet vēlreiz.\",\n",
    "            \"lt\": \"Atsiprašau, negalėjau užtikrinti atsakymo jūsų kalba. Bandykite dar kartą.\",\n",
    "            \"mk\": \"Жалам, не можев да го обезбедам одговорот на вашиот јазик. Ве молиме обидете се повторно.\",\n",
    "            \"ml\": \"ക്ഷമിക്കണം, നിങ്ങളുടെ ഭാഷയിൽ മറുപടി ഉറപ്പാക്കാൻ കഴിഞ്ഞില്ല. ദയവായി വീണ്ടും ശ്രമിക്കുക.\",\n",
    "            \"mr\": \"क्षमस्व, मी तुमच्या भाषेत उत्तर सुनिश्चित करू शकलो नाही. कृपया पुन्हा प्रयत्न करा.\",\n",
    "            \"no\": \"Beklager, jeg kunne ikke sikre svaret på språket ditt. Vennligst prøv igjen.\",\n",
    "            \"pl\": \"Przepraszam, nie mogłem zapewnić odpowiedzi w twoim języku. Spróbuj ponownie.\",\n",
    "            \"pt\": \"Desculpe, não consegui garantir a resposta no seu idioma. Por favor, tente novamente.\",\n",
    "            \"pa\": \"ਮਾਫ਼ ਕਰਨਾ, ਮੈਂ ਤੁਹਾਡੀ ਭਾਸ਼ਾ ਵਿੱਚ ਜਵਾਬ ਯਕੀਨੀ ਨਹੀਂ ਬਣਾ ਸਕਿਆ। ਕਿਰਪਾ ਕਰਕੇ ਦੁਬਾਰਾ ਕੋਸ਼ਿਸ਼ ਕਰੋ।\",\n",
    "            \"ro\": \"Ne pare rău, nu am putut asigura răspunsul în limba dvs. Vă rugăm să încercați din nou.\",\n",
    "            \"ru\": \"Извините, я не смог обеспечить ответ на вашем языке. Пожалуйста, попробуйте снова.\",\n",
    "            \"sk\": \"Ospravedlňujem sa, nepodarilo sa mi zabezpečiť odpoveď vo vašom jazyku. Skúste to znova.\",\n",
    "            \"sl\": \"Opravičujem se, nisem mogel zagotoviti odgovora v vašem jeziku. Prosimo, poskusite znova.\",\n",
    "            \"es\": \"Lo siento, no pude asegurar la respuesta en tu idioma. Por favor, inténtalo de nuevo.\",\n",
    "            \"sw\": \"Samahani, sikuweza kuhakikisha jibu kwa lugha yako. Tafadhali jaribu tena.\",\n",
    "            \"sv\": \"Tyvärr, jag kunde inte säkerställa svaret på ditt språk. Försök igen.\",\n",
    "            \"ta\": \"மன்னிக்கவும், உங்கள் மொழியில் பதிலை உறுதிப்படுத்த முடியவில்லை. தயவுசெய்து மீண்டும் முயற்சிக்கவும்.\",\n",
    "            \"te\": \"క్షమించండి, మీ భాషలో సమాధానాన్ని నిర్ధారించలేకపోయాను. దయచేసి మళ్లీ ప్రయత్నించండి.\",\n",
    "            \"th\": \"ขออภัย ฉันไม่สามารถยืนยันคำตอบในภาษาของคุณได้ โปรดลองอีกครั้ง.\",\n",
    "            \"tl\": \"Paumanhin, hindi ko masiguro ang tugon sa iyong wika. Pakisubukang muli.\",\n",
    "            \"tr\": \"Üzgünüm, yanıtı dilinizde sağlayamadım. Lütfen tekrar deneyin.\",\n",
    "            \"uk\": \"Вибачте, я не зміг забезпечити відповідь вашою мовою. Будь ласка, спробуйте ще раз.\",\n",
    "            \"ur\": \"معاف کیجیے، میں آپ کی زبان میں جواب کو یقینی نہیں بنا सका۔ براہ کرم دوبارہ کوشش کریں۔\",\n",
    "            \"vi\": \"Xin lỗi, tôi không thể đảm bảo câu trả lời bằng ngôn ngữ của bạn. Vui lòng thử lại.\",\n",
    "        }\n",
    "        return fallback_map.get(expected_lang.lower(), fallback_map[\"en\"])\n",
    "\n",
    "LANG = LanguageEnforcer(\n",
    "    enabled=LANG_ENFORCEMENT_ENABLED,\n",
    "    min_chars=LANG_MIN_CHARS_FOR_DETECTION,\n",
    "    max_reprompts=LANG_REPROMPT_MAX_ATTEMPTS,\n",
    ")"
   ]
  },
  {
   "cell_type": "markdown",
   "id": "aa466184-3471-4312-a08b-bb77c545239c",
   "metadata": {},
   "source": [
    "## Conversation history manager"
   ]
  },
  {
   "cell_type": "code",
   "execution_count": 12,
   "id": "c2fbce90-7108-4f03-a783-6106d28b5f3b",
   "metadata": {
    "execution": {
     "iopub.execute_input": "2025-09-22T08:46:47.076234Z",
     "iopub.status.busy": "2025-09-22T08:46:47.075829Z",
     "iopub.status.idle": "2025-09-22T08:46:47.085336Z",
     "shell.execute_reply": "2025-09-22T08:46:47.084182Z",
     "shell.execute_reply.started": "2025-09-22T08:46:47.076205Z"
    }
   },
   "outputs": [],
   "source": [
    "# Conversation history manager (modular, compliant)\n",
    "# =========================\n",
    "class ConversationTurn:\n",
    "    def __init__(self, role: str, content: str):\n",
    "        self.role = role  # \"user\" or \"assistant\"\n",
    "        self.content = content\n",
    "\n",
    "class ConversationManager:\n",
    "    \"\"\"\n",
    "    Minimal in-memory rolling buffer for conversation history.\n",
    "    - Stores last N turns (configurable).\n",
    "    - Caps token usage for history injection (CONVO_MAX_TOKENS).\n",
    "    - Optionally includes assistant messages.\n",
    "    - Avoids logging message contents; logs only counts and sizes.\n",
    "    \"\"\"\n",
    "    def __init__(\n",
    "        self,\n",
    "        max_turns: int = CONVO_MAX_TURNS,\n",
    "        max_tokens: int = CONVO_MAX_TOKENS,\n",
    "        include_assistant: bool = CONVO_INCLUDE_ASSISTANT,\n",
    "    ):\n",
    "        self.max_turns = max_turns\n",
    "        self.max_tokens = max_tokens\n",
    "        self.include_assistant = include_assistant\n",
    "        self._store: Dict[str, Deque[ConversationTurn]] = {}\n",
    "\n",
    "    def _get_session(self, session_id: str) -> Deque[ConversationTurn]:\n",
    "        if session_id not in self._store:\n",
    "            self._store[session_id] = deque(maxlen=self.max_turns)\n",
    "        return self._store[session_id]\n",
    "\n",
    "    def add_turn(self, session_id: str, role: str, content: str) -> None:\n",
    "        if not CONVO_HISTORY_ENABLED:\n",
    "            return\n",
    "        dq = self._get_session(session_id)\n",
    "        dq.append(ConversationTurn(role=role, content=content))\n",
    "        logger.info(f\"Conversation stored: sid={session_id}, turns={len(dq)}\")\n",
    "\n",
    "    def build_history_messages(self, session_id: str) -> List[dict]:\n",
    "        \"\"\"\n",
    "        Returns a list of messages appropriate for Anthropic 'messages' API, constrained by token budget.\n",
    "        Includes only user turns or both user+assistant based on include_assistant.\n",
    "        \"\"\"\n",
    "        if not CONVO_HISTORY_ENABLED:\n",
    "            return []\n",
    "\n",
    "        dq = self._get_session(session_id)\n",
    "        # Build candidate turns respecting include_assistant\n",
    "        turns = []\n",
    "        for t in dq:\n",
    "            if t.role == \"assistant\" and not self.include_assistant:\n",
    "                continue\n",
    "            turns.append({\"role\": t.role, \"content\": t.content})\n",
    "\n",
    "        # Trim by token budget, from the end (most recent) backward\n",
    "        total = 0\n",
    "        kept: List[dict] = []\n",
    "        for m in reversed(turns):\n",
    "            tkn = count_tokens(m[\"content\"])\n",
    "            if total + tkn > self.max_tokens:\n",
    "                break\n",
    "            kept.append(m)\n",
    "            total += tkn\n",
    "        kept.reverse()\n",
    "        logger.info(f\"History prepared: sid={session_id}, injected_turns={len(kept)}, tokens≈{total}\")\n",
    "        return kept\n",
    "\n",
    "CONVO = ConversationManager()"
   ]
  },
  {
   "cell_type": "markdown",
   "id": "b9d1be66-ec6d-4f88-b136-f1a640f94e0b",
   "metadata": {},
   "source": [
    "## Prompt building"
   ]
  },
  {
   "cell_type": "code",
   "execution_count": 13,
   "id": "f8a24cac-2b36-4510-b5f7-b63e68cc1447",
   "metadata": {
    "execution": {
     "iopub.execute_input": "2025-09-22T08:46:47.166073Z",
     "iopub.status.busy": "2025-09-22T08:46:47.165805Z",
     "iopub.status.idle": "2025-09-22T08:46:47.171579Z",
     "shell.execute_reply": "2025-09-22T08:46:47.170744Z",
     "shell.execute_reply.started": "2025-09-22T08:46:47.166053Z"
    }
   },
   "outputs": [],
   "source": [
    "# Prompt building\n",
    "# =========================\n",
    "def build_prompt(\n",
    "    query: str,\n",
    "    document_text: str,\n",
    "    lang_code: Optional[str] = None,\n",
    "    history_messages: Optional[List[dict]] = None\n",
    ") -> List[dict]:\n",
    "    \"\"\"\n",
    "    Build strict prompt instructing the model to use only the provided document text.\n",
    "    If answer not in document, it must reply exactly: 'Not found in document.'\n",
    "    Optionally enforces response language via system instruction and includes conversation history.\n",
    "    \"\"\"\n",
    "    system = (\n",
    "        \"You are an expert clinical QA assistant. Follow instructions exactly.\\n\"\n",
    "        f\"{CONVO_POLICY_NOTE}\"\n",
    "    )\n",
    "\n",
    "    # History section (optional, before the current user turn)\n",
    "    history_block = \"\"\n",
    "    if history_messages:\n",
    "        # We insert an assistant-readable block summarizing that previous turns exist;\n",
    "        # we will add them as actual messages in the payload rather than concatenating into the user content.\n",
    "        history_block = \"Prior conversation context is provided above (for continuity only).\\n\"\n",
    "\n",
    "    user = (\n",
    "        f\"{history_block}\"\n",
    "        \"You must answer using ONLY the following document.\\n\"\n",
    "        \"If the answer is not in the document, reply exactly: 'Not found in document.'\\n\\n\"\n",
    "        \"Document:\\n\"\n",
    "        \"-----\\n\"\n",
    "        f\"{document_text}\\n\"\n",
    "        \"-----\\n\\n\"\n",
    "        f\"Question: {query}\\n\"\n",
    "        \"Answer:\"\n",
    "    )\n",
    "\n",
    "    base_messages: List[dict] = [{\"role\": \"system\", \"content\": system}]\n",
    "\n",
    "    # If history exists, append it as separate messages before the current user turn\n",
    "    if history_messages:\n",
    "        # Anthropic format requires content blocks; we keep it simple with a single text block per message\n",
    "        for hm in history_messages:\n",
    "            base_messages.append({\n",
    "                \"role\": hm[\"role\"],\n",
    "                \"content\": hm[\"content\"]\n",
    "            })\n",
    "\n",
    "    base_messages.append({\"role\": \"user\", \"content\": user})\n",
    "\n",
    "    # Language enforcement\n",
    "    if lang_code:\n",
    "        base_messages = LANG.augment_prompt_with_language(base_messages, lang_code)\n",
    "    return base_messages"
   ]
  },
  {
   "cell_type": "markdown",
   "id": "0914ec9f-71fc-424f-9c10-d3935cc3f3c5",
   "metadata": {},
   "source": [
    "## Bedrock Anthropic adapter"
   ]
  },
  {
   "cell_type": "code",
   "execution_count": 14,
   "id": "9b67d0ed-e328-4fe7-be3c-0630e2832e71",
   "metadata": {
    "execution": {
     "iopub.execute_input": "2025-09-22T08:46:47.173353Z",
     "iopub.status.busy": "2025-09-22T08:46:47.172828Z",
     "iopub.status.idle": "2025-09-22T08:46:47.244724Z",
     "shell.execute_reply": "2025-09-22T08:46:47.243988Z",
     "shell.execute_reply.started": "2025-09-22T08:46:47.173327Z"
    }
   },
   "outputs": [],
   "source": [
    "# Bedrock Anthropic adapter\n",
    "# =========================\n",
    "class BedrockAnthropicClient:\n",
    "    \"\"\"\n",
    "    Minimal adapter for Anthropic Claude models on Amazon Bedrock (messages API).\n",
    "    \"\"\"\n",
    "    def __init__(self, model_id: str, region: str):\n",
    "        self.model_id = model_id\n",
    "        self.client = boto3.client(\"bedrock-runtime\", region_name=region)\n",
    "\n",
    "    def chat(self, messages: List[dict], temperature: float = 0.0, max_tokens: int = DEFAULT_MAX_TOKENS) -> str:\n",
    "        \"\"\"\n",
    "        Send a chat-style request to Anthropic Claude via Bedrock.\n",
    "        - messages: list like [{\"role\": \"system\"/\"user\"/\"assistant\", \"content\": \"...\"}]\n",
    "        - Returns assistant text content.\n",
    "        \"\"\"\n",
    "        # Separate system prompt and other messages into Anthropic \"messages\"\n",
    "        system_prompt = \"\"\n",
    "        convo: List[dict] = []\n",
    "        for m in messages:\n",
    "            role = m.get(\"role\")\n",
    "            content = m.get(\"content\", \"\")\n",
    "            if role == \"system\":\n",
    "                system_prompt += (content + \"\\n\").strip() + \"\\n\"\n",
    "            elif role in (\"user\", \"assistant\"):\n",
    "                convo.append({\"role\": role, \"content\": [{\"type\": \"text\", \"text\": content}]})\n",
    "\n",
    "        body = {\n",
    "            \"anthropic_version\": \"bedrock-2023-05-31\",\n",
    "            \"max_tokens\": max_tokens,\n",
    "            \"temperature\": temperature,\n",
    "            \"system\": system_prompt.strip() if system_prompt else None,\n",
    "            \"messages\": convo if convo else [{\"role\": \"user\", \"content\": [{\"type\": \"text\", \"text\": \"\"}]}],\n",
    "        }\n",
    "        body = {k: v for k, v in body.items() if v is not None}\n",
    "\n",
    "        response = self.client.invoke_model(\n",
    "            modelId=self.model_id,\n",
    "            body=json.dumps(body),\n",
    "        )\n",
    "        payload = response[\"body\"].read()\n",
    "        data = json.loads(payload)\n",
    "\n",
    "        try:\n",
    "            content_blocks = data.get(\"content\", [])\n",
    "            if content_blocks and content_blocks[0].get(\"type\") == \"text\":\n",
    "                return content_blocks[0].get(\"text\", \"\").strip()\n",
    "            texts = [b.get(\"text\", \"\") for b in content_blocks if b.get(\"type\") == \"text\"]\n",
    "            return \"\\n\".join(t for t in texts if t).strip()\n",
    "        except Exception:\n",
    "            logger.exception(\"Unexpected Bedrock response format.\")\n",
    "            return \"\"\n",
    "\n",
    "bedrock_llm = BedrockAnthropicClient(model_id=BEDROCK_MODEL_ID, region=AWS_REGION)"
   ]
  },
  {
   "cell_type": "markdown",
   "id": "922836fe-2978-49b1-a331-2fb6c22c2833",
   "metadata": {},
   "source": [
    "## LLM Query Execution\n",
    "`query_llm` sends messages to the LLM, retries on transient errors, logs failures, and returns the model’s response. It limits retries, delays between attempts, and raises exceptions after exceeding the maximum."
   ]
  },
  {
   "cell_type": "code",
   "execution_count": 15,
   "id": "314fc178-3698-45db-838a-23a28afff648",
   "metadata": {
    "execution": {
     "iopub.execute_input": "2025-09-22T08:46:47.246107Z",
     "iopub.status.busy": "2025-09-22T08:46:47.245814Z",
     "iopub.status.idle": "2025-09-22T08:46:47.252505Z",
     "shell.execute_reply": "2025-09-22T08:46:47.251715Z",
     "shell.execute_reply.started": "2025-09-22T08:46:47.246085Z"
    }
   },
   "outputs": [],
   "source": [
    "def query_llm(\n",
    "    messages: List[dict],\n",
    "    temperature: float = 0.0,\n",
    "    max_retries: int = 2,\n",
    "    retry_delay: float = 1.0,\n",
    "    max_tokens: int = DEFAULT_MAX_TOKENS\n",
    ") -> str:\n",
    "    \"\"\"\n",
    "    Query the LLM with retries on transient errors (Bedrock).\n",
    "    \"\"\"\n",
    "    attempt = 0\n",
    "    while True:\n",
    "        try:\n",
    "            answer = bedrock_llm.chat(messages, temperature=temperature, max_tokens=max_tokens)\n",
    "            return answer.strip()\n",
    "        except Exception as e:\n",
    "            attempt += 1\n",
    "            logger.warning(f\"LLM query failed (attempt {attempt}): {e}\")\n",
    "            if attempt > max_retries:\n",
    "                logger.exception(\"Exceeded max retries for LLM call.\")\n",
    "                raise\n",
    "            time.sleep(retry_delay)"
   ]
  },
  {
   "cell_type": "markdown",
   "id": "7869fde3-c59e-4cea-a1d5-272649212408",
   "metadata": {},
   "source": [
    "## LLM Summarize\n",
    "`_llm_summarize` summarizes medical text using Bedrock LLM. It builds a strict prompt, queries the model for concise factual summaries, and falls back to truncation if LLM fails."
   ]
  },
  {
   "cell_type": "code",
   "execution_count": 16,
   "id": "8ed66682-315e-4a4b-a8c7-81933b5fb794",
   "metadata": {
    "execution": {
     "iopub.execute_input": "2025-09-22T08:46:47.254033Z",
     "iopub.status.busy": "2025-09-22T08:46:47.253540Z",
     "iopub.status.idle": "2025-09-22T08:46:47.259376Z",
     "shell.execute_reply": "2025-09-22T08:46:47.258518Z",
     "shell.execute_reply.started": "2025-09-22T08:46:47.254006Z"
    }
   },
   "outputs": [],
   "source": [
    "# Summarization for compression\n",
    "# =========================\n",
    "def _llm_summarize(text: str, max_words: int = 250) -> str:\n",
    "    \"\"\"\n",
    "    Summarize text using Bedrock LLM into a concise, factual summary.\n",
    "    \"\"\"\n",
    "    prompt = (\n",
    "        \"You are a precise summarizer. Create a concise, faithful summary capturing key facts, \"\n",
    "        f\"definitions, indications, contraindications, doses, adverse effects, and monitoring steps in <= {max_words} words. \"\n",
    "        \"Do not invent information. Only use the provided text.\\n\\n\"\n",
    "        f\"Text:\\n{text}\\n\\nSummary:\"\n",
    "    )\n",
    "    messages = [\n",
    "        {\"role\": \"system\", \"content\": \"You are a careful, faithful medical summarizer.\"},\n",
    "        {\"role\": \"user\", \"content\": prompt},\n",
    "    ]\n",
    "    try:\n",
    "        resp = query_llm(messages, temperature=0.0, max_tokens=DEFAULT_MAX_TOKENS)\n",
    "        return (resp or \"\").strip()\n",
    "    except Exception:\n",
    "        logger.exception(\"LLM summarization failed.\")\n",
    "        words = re.split(r\"\\s+\", text or \"\")\n",
    "        return \" \".join(words[:max_words])"
   ]
  },
  {
   "cell_type": "markdown",
   "id": "9abeb1e9-d3b5-4828-b7f6-2bbdcf39409a",
   "metadata": {},
   "source": [
    "## Compress Document\n",
    "\n",
    "This `compress_document` function compresses a document to fit within a token budget by chunking text, summarizing each chunk with LLM, then iteratively re-summarizing until query + document stay under limit."
   ]
  },
  {
   "cell_type": "code",
   "execution_count": 17,
   "id": "bb25a5bf-299a-43e1-ad02-056339e993b4",
   "metadata": {
    "execution": {
     "iopub.execute_input": "2025-09-22T08:46:47.260985Z",
     "iopub.status.busy": "2025-09-22T08:46:47.260448Z",
     "iopub.status.idle": "2025-09-22T08:46:47.267165Z",
     "shell.execute_reply": "2025-09-22T08:46:47.266484Z",
     "shell.execute_reply.started": "2025-09-22T08:46:47.260959Z"
    }
   },
   "outputs": [],
   "source": [
    "def compress_document(document_text: str, query: str, budget_tokens: int) -> str:\n",
    "    \"\"\"\n",
    "    Compress the document so that query + compressed_document fits within the budget.\n",
    "    Strategy:\n",
    "    - Chunk the document to safe sizes.\n",
    "    - Summarize each chunk.\n",
    "    - Iteratively reduce until within budget.\n",
    "    \"\"\"\n",
    "    reserved_for_prompt = 1000\n",
    "    per_chunk_limit = 4000  # tokenizer tokens heuristic\n",
    "    chunk_tokens_limit = min(per_chunk_limit, max(1000, (budget_tokens - reserved_for_prompt) // 4))\n",
    "    chunks = chunk_text(document_text, chunk_tokens_limit)\n",
    "    logger.info(f\"Compress: initial chunks={len(chunks)}, tokens per chunk≈{chunk_tokens_limit}\")\n",
    "\n",
    "    summaries = []\n",
    "    for i, ch in enumerate(chunks):\n",
    "        logger.info(f\"Summarizing chunk {i+1}/{len(chunks)}\")\n",
    "        summaries.append(_llm_summarize(ch, max_words=250))\n",
    "    combined = \"\\n\".join(summaries)\n",
    "\n",
    "    fits, total = check_token_budget(query, combined, budget_tokens)\n",
    "    iteration = 0\n",
    "    while not fits and iteration < 3:\n",
    "        iteration += 1\n",
    "        logger.info(f\"Re-summarizing (iteration {iteration}) because tokens={total} exceed budget={budget_tokens}\")\n",
    "        combined = _llm_summarize(combined, max_words=200)\n",
    "        fits, total = check_token_budget(query, combined, budget_tokens)\n",
    "    return combined"
   ]
  },
  {
   "cell_type": "markdown",
   "id": "18e58b0d-4853-4abc-9181-5b7139fe5870",
   "metadata": {},
   "source": [
    "## Orchestration"
   ]
  },
  {
   "cell_type": "code",
   "execution_count": 28,
   "id": "eea6ecb5-e5b4-49f2-8e22-3e6d3a5ffba1",
   "metadata": {
    "execution": {
     "iopub.execute_input": "2025-09-22T08:48:42.664778Z",
     "iopub.status.busy": "2025-09-22T08:48:42.664493Z",
     "iopub.status.idle": "2025-09-22T08:48:42.676691Z",
     "shell.execute_reply": "2025-09-22T08:48:42.675795Z",
     "shell.execute_reply.started": "2025-09-22T08:48:42.664757Z"
    }
   },
   "outputs": [],
   "source": [
    "# Orchestrator\n",
    "# =========================\n",
    "def run_direct_document_qa(\n",
    "    file_path: str,\n",
    "    query: str,\n",
    "    model_context_tokens: int = MODEL_CONTEXT_TOKENS,\n",
    "    session_id: Optional[str] = None\n",
    ") -> str:\n",
    "    \"\"\"\n",
    "    Orchestrates the full Direct-Document QA workflow on Bedrock.\n",
    "    Steps:\n",
    "    1) Detect language (with confidence guard)\n",
    "    2) Load document\n",
    "    3) Token budget check; compress if needed\n",
    "    4) Input guardrail\n",
    "    5) Build prompt (with language enforcement + optional conversation history)\n",
    "    6) Query LLM (+ language verification and optional re-prompt)\n",
    "    7) Output guardrail (grounding)\n",
    "    8) Store turn in conversation history (if enabled)\n",
    "    \"\"\"\n",
    "\n",
    "    # 1) Language detect\n",
    "    expected_lang, lang_conf = LANG.detect_language(query)\n",
    "    lang_name = LANG.language_name(expected_lang) \n",
    "    logger.info(f\"Query language: code={expected_lang} ({lang_name}), conf≈{lang_conf:.2f}\")\n",
    "    sid = session_id or \"default-session\"\n",
    "\n",
    "    # NEW: enforce confidence threshold\n",
    "    LANG_CONF_THRESHOLD = 0.8  # configurable\n",
    "    if lang_conf < LANG_CONF_THRESHOLD:\n",
    "        msg = \"I am unable to recognize your language with sufficient confidence.\"\n",
    "        logger.warning(f\"Low-confidence language detection: {expected_lang}, conf≈{lang_conf:.2f}\")\n",
    "\n",
    "        if CONVO_HISTORY_ENABLED:\n",
    "            CONVO.add_turn(sid, \"user\", query)\n",
    "            CONVO.add_turn(sid, \"assistant\", msg)\n",
    "\n",
    "        return msg\n",
    "\n",
    "    # 2) Load\n",
    "    document_text = load_document(file_path)\n",
    "\n",
    "    # 3) Budget\n",
    "    fits, total_tokens = check_token_budget(query, document_text, model_context_tokens)\n",
    "    if not fits:\n",
    "        logger.info(\"Query + document exceeds context. Compressing document.\")\n",
    "        document_text = compress_document(document_text, query, model_context_tokens)\n",
    "        fits, _ = check_token_budget(query, document_text, model_context_tokens)\n",
    "        if not fits:\n",
    "            logger.warning(\"After compression, content still too large. Applying hard truncation.\")\n",
    "            doc_tokens = ENCODER.encode(document_text)\n",
    "            keep = max(1000, model_context_tokens // 2)\n",
    "            document_text = ENCODER.decode(doc_tokens[-keep:])\n",
    "\n",
    "    # 4) Input guardrail\n",
    "    allowed, message = apply_input_guardrail(query, document_text)\n",
    "    if not allowed:\n",
    "        if CONVO_HISTORY_ENABLED:\n",
    "            CONVO.add_turn(sid, \"user\", query)\n",
    "            CONVO.add_turn(sid, \"assistant\", message or \"Your request cannot be processed at this time.\")\n",
    "        return message or \"Your request cannot be processed at this time.\"\n",
    "\n",
    "    # Prepare conversation history\n",
    "    history_msgs = CONVO.build_history_messages(sid) if CONVO_HISTORY_ENABLED else []\n",
    "\n",
    "    # 5) Prompt (enforce output language + include history)\n",
    "    messages = build_prompt(query, document_text, lang_code=expected_lang, history_messages=history_msgs)\n",
    "\n",
    "    # 6) Execute (+ language verify and optional re-prompt)\n",
    "    raw_answer = query_llm(messages, temperature=0.0, max_retries=2,\n",
    "                           retry_delay=1.0, max_tokens=DEFAULT_MAX_TOKENS)\n",
    "\n",
    "    attempts = 0\n",
    "    while LANG.enabled and not LANG.verify_language(expected_lang, raw_answer) and attempts < LANG.max_reprompts:\n",
    "        attempts += 1\n",
    "        logger.info(f\"Re-prompting due to language mismatch (attempt {attempts}/{LANG.max_reprompts}).\")\n",
    "        corrective_system = (\n",
    "            f\"CRITICAL: The previous response was not in {LANG.language_name(expected_lang)} \"\n",
    "            f\"({expected_lang}). Respond strictly in {LANG.language_name(expected_lang)} only.\"\n",
    "        )\n",
    "        corrective_messages = [{\"role\": \"system\", \"content\": corrective_system}] + messages\n",
    "        raw_answer = query_llm(corrective_messages, temperature=0.0, max_retries=2,\n",
    "                               retry_delay=1.0, max_tokens=DEFAULT_MAX_TOKENS)\n",
    "\n",
    "    if LANG.enabled and not LANG.verify_language(expected_lang, raw_answer):\n",
    "        final_answer = LANG.safe_fallback_message(expected_lang)\n",
    "        if CONVO_HISTORY_ENABLED:\n",
    "            CONVO.add_turn(sid, \"user\", query)\n",
    "            CONVO.add_turn(sid, \"assistant\", final_answer)\n",
    "        return final_answer\n",
    "\n",
    "    # 7) Output guardrail (grounding)\n",
    "    summary_keywords = [\"summary\", \"summarise\", \"résumé\", \"résumez\", \"सारांश\", \"सार\"]\n",
    "    is_summary_query = any(kw in query.lower() for kw in summary_keywords)\n",
    "    doc_lang, _ = LANG.detect_language(document_text)\n",
    "    is_crosslingual = (expected_lang != doc_lang)\n",
    "\n",
    "    final_answer = apply_output_guardrail(\n",
    "        raw_answer,\n",
    "        document_text,\n",
    "        expected_lang=expected_lang,\n",
    "        allow_summary_mode=is_summary_query or is_crosslingual\n",
    "    )\n",
    "\n",
    "    # 8) Store turn in conversation history (if enabled)\n",
    "    if CONVO_HISTORY_ENABLED:\n",
    "        CONVO.add_turn(sid, \"user\", query)\n",
    "        CONVO.add_turn(sid, \"assistant\", final_answer)\n",
    "\n",
    "    return final_answer"
   ]
  },
  {
   "cell_type": "markdown",
   "id": "b8f54795-1d50-4aee-ad04-02b7037864cb",
   "metadata": {},
   "source": [
    "## Test Query- English"
   ]
  },
  {
   "cell_type": "code",
   "execution_count": 29,
   "id": "0a7f34f7-a2e4-4345-914d-468b71a6cf00",
   "metadata": {
    "execution": {
     "iopub.execute_input": "2025-09-22T08:48:44.703553Z",
     "iopub.status.busy": "2025-09-22T08:48:44.702863Z",
     "iopub.status.idle": "2025-09-22T08:48:50.415569Z",
     "shell.execute_reply": "2025-09-22T08:48:50.414779Z",
     "shell.execute_reply.started": "2025-09-22T08:48:44.703522Z"
    }
   },
   "outputs": [
    {
     "name": "stdout",
     "output_type": "stream",
     "text": [
      "[INFO] 2025-09-22 08:48:44,710 - Medical Chatbot G-Version - Query language: code=en (English), conf≈1.00\n",
      "[INFO] 2025-09-22 08:48:44,712 - Medical Chatbot G-Version - Loading PDF: Drug Information Sheet.pdf\n",
      "[INFO] 2025-09-22 08:48:44,750 - Medical Chatbot G-Version - Token check: total=390, budget=128000, fits=True\n",
      "[INFO] 2025-09-22 08:48:50,399 - Medical Chatbot G-Version - Language verify OK: expected=en, detected=en\n",
      "[INFO] 2025-09-22 08:48:50,405 - Medical Chatbot G-Version - Language verify OK: expected=en, detected=en\n",
      "\n",
      "=== Answer ===\n",
      "This drug information sheet provides details on remdesivir, an antiviral agent used for COVID-19 treatment. Remdesivir is a nucleoside analogue RNA polymerase inhibitor that works by inhibiting viral RNA-dependent RNA polymerase, thus reducing SARS-CoV-2 replication. It is indicated for hospitalized COVID-19 patients requiring supplemental oxygen but not on invasive ventilation. The dosage consists of a 200 mg IV loading dose on Day 1, followed by a 100 mg IV daily maintenance dose for 4 to 9 days, depending on clinical response. Common adverse effects include nausea and transaminase elevations, with rare occurrences of hypersensitivity reactions and renal dysfunction. Monitoring requires baseline liver and renal function tests, with periodic follow-ups during treatment. Remdesivir is contraindicated in patients with severe renal impairment (eGFR <30 mL/min) and those with known hypersensitivity to the drug. The document includes metadata about the information sheet, such as document type, specialty, keywords, and date. It also provides two references for further reading on remdesivir's use in COVID-19 management and safety monitoring in hospitalized patients.\n"
     ]
    }
   ],
   "source": [
    "if __name__ == \"__main__\":\n",
    "    example_file = \"Drug Information Sheet.pdf\"\n",
    "    example_query = \"Summarise the entire document in 200 words\" #English\n",
    "    example_session = os.environ.get(\"EXAMPLE_SESSION_ID\", \"demo-session-1\")\n",
    "\n",
    "    # Enable history for demo by setting CONVO_HISTORY_ENABLED=true\n",
    "    try:\n",
    "        response = run_direct_document_qa(\n",
    "            example_file,\n",
    "            example_query,\n",
    "            MODEL_CONTEXT_TOKENS,\n",
    "            session_id=example_session\n",
    "        )\n",
    "        print(\"\\n=== Answer ===\")\n",
    "        print(response)\n",
    "    except Exception as e:\n",
    "        logger.exception(\"Pipeline execution failed.\")\n",
    "        raise"
   ]
  },
  {
   "cell_type": "markdown",
   "id": "eabfaabe-e888-4e02-a8fa-bbe383e42dad",
   "metadata": {},
   "source": [
    "## Test Query- Afrikaans"
   ]
  },
  {
   "cell_type": "code",
   "execution_count": 30,
   "id": "41f16660-f37f-469f-a0f2-5e7add3bf2cb",
   "metadata": {
    "execution": {
     "iopub.execute_input": "2025-09-22T08:48:50.417350Z",
     "iopub.status.busy": "2025-09-22T08:48:50.416999Z",
     "iopub.status.idle": "2025-09-22T08:48:58.857578Z",
     "shell.execute_reply": "2025-09-22T08:48:58.856743Z",
     "shell.execute_reply.started": "2025-09-22T08:48:50.417326Z"
    }
   },
   "outputs": [
    {
     "name": "stdout",
     "output_type": "stream",
     "text": [
      "[INFO] 2025-09-22 08:48:50,426 - Medical Chatbot G-Version - Query language: code=af (Afrikaans), conf≈1.00\n",
      "[INFO] 2025-09-22 08:48:50,427 - Medical Chatbot G-Version - Loading PDF: Drug Information Sheet.pdf\n",
      "[INFO] 2025-09-22 08:48:50,462 - Medical Chatbot G-Version - Token check: total=391, budget=128000, fits=True\n",
      "[INFO] 2025-09-22 08:48:58,840 - Medical Chatbot G-Version - Language verify OK: expected=af, detected=af\n",
      "[INFO] 2025-09-22 08:48:58,846 - Medical Chatbot G-Version - Language verify OK: expected=af, detected=af\n",
      "\n",
      "=== Answer ===\n",
      "Hierdie dokument is 'n inligtingsblad oor remdesivir, 'n antivirale middel vir COVID-19-behandeling. Dit bevat die volgende hoofpunte:\n",
      "\n",
      "Klas: Remdesivir is 'n antivirale middel, spesifiek 'n nukleosied-analoog RNA-polimerase-inhibeerder.\n",
      "\n",
      "Werkingsmeganisme: Dit inhibeer virale RNA-afhanklike RNA-polimerase, wat SARS-CoV-2-replikasie verminder.\n",
      "\n",
      "Indikasies: Dit word gebruik vir gehospitaliseerde COVID-19-pasiënte wat aanvullende suurstof benodig, maar nie op indringende ventilasie is nie.\n",
      "\n",
      "Dosering: 'n Laaidosis van 200 mg IV op Dag 1, gevolg deur 'n onderhoudsdosis van 100 mg IV daagliks vir 4 tot 9 dae.\n",
      "\n",
      "Newe-effekte: Naarheid en verhoogde transaminase-vlakke is algemeen. Seldsame effekte sluit hipersensitiwiteitsreaksies en nierdisfunksie in.\n",
      "\n",
      "Monitering: Basislyn- en periodieke lewer- en nierfunksietoetse word aanbeveel.\n",
      "\n",
      "Kontra-indikasies: Ernstige nierversaking (eGFR <30 mL/min) en bekende hipersensitiwiteit vir remdesivir.\n",
      "\n",
      "Die dokument sluit af met twee verwysings na onlangse studies oor remdesivir se gebruik en veiligheidsmonitoring in COVID-19-behandeling.\n"
     ]
    }
   ],
   "source": [
    "if __name__ == \"__main__\":\n",
    "    example_file = \"Drug Information Sheet.pdf\"\n",
    "    example_query = \"Sommeer die hele dokument in 200 woorde\" # Afrikaans\n",
    "    example_session = os.environ.get(\"EXAMPLE_SESSION_ID\", \"demo-session-1\")\n",
    "\n",
    "    # Enable history for demo by setting CONVO_HISTORY_ENABLED=true\n",
    "    try:\n",
    "        response = run_direct_document_qa(\n",
    "            example_file,\n",
    "            example_query,\n",
    "            MODEL_CONTEXT_TOKENS,\n",
    "            session_id=example_session\n",
    "        )\n",
    "        print(\"\\n=== Answer ===\")\n",
    "        print(response)\n",
    "    except Exception as e:\n",
    "        logger.exception(\"Pipeline execution failed.\")\n",
    "        raise"
   ]
  },
  {
   "cell_type": "markdown",
   "id": "fb872c0a-cdd2-4f38-b3a3-ab09573897d3",
   "metadata": {},
   "source": [
    "## Test Query- Albanian"
   ]
  },
  {
   "cell_type": "code",
   "execution_count": 31,
   "id": "9f9a2766-dbd1-4c84-aa50-a67434682e48",
   "metadata": {
    "execution": {
     "iopub.execute_input": "2025-09-22T08:48:58.858785Z",
     "iopub.status.busy": "2025-09-22T08:48:58.858441Z",
     "iopub.status.idle": "2025-09-22T08:49:08.743887Z",
     "shell.execute_reply": "2025-09-22T08:49:08.743048Z",
     "shell.execute_reply.started": "2025-09-22T08:48:58.858755Z"
    }
   },
   "outputs": [
    {
     "name": "stdout",
     "output_type": "stream",
     "text": [
      "[INFO] 2025-09-22 08:48:58,861 - Medical Chatbot G-Version - Query language: code=sq (Albanian), conf≈1.00\n",
      "[INFO] 2025-09-22 08:48:58,863 - Medical Chatbot G-Version - Loading PDF: Drug Information Sheet.pdf\n",
      "[INFO] 2025-09-22 08:48:58,897 - Medical Chatbot G-Version - Token check: total=398, budget=128000, fits=True\n",
      "[INFO] 2025-09-22 08:49:08,728 - Medical Chatbot G-Version - Language verify OK: expected=sq, detected=sq\n",
      "[INFO] 2025-09-22 08:49:08,733 - Medical Chatbot G-Version - Language verify OK: expected=sq, detected=sq\n",
      "\n",
      "=== Answer ===\n",
      "Ky dokument është një fletë informacioni për barnat që përshkruan remdesivirin, një agjent antiviral për trajtimin e COVID-19. Ai ofron informacion të detajuar për klinicistët në lidhje me mekanizmin e veprimit, indikacionet, dozimin, efektet anësore dhe kërkesat e monitorimit të remdesivirit.\n",
      "\n",
      "Remdesiviri është një inhibitor i polimerazës RNA që vepron duke reduktuar replikimin e SARS-CoV-2. Indikohet për pacientët e shtruar në spital me COVID-19 të konfirmuar që kërkojnë oksigjen suplementar, por jo ventilim invaziv.\n",
      "\n",
      "Dozimi përfshin një dozë ngarkuese prej 200 mg IV në ditën e parë, pasuar nga një dozë mirëmbajtjeje prej 100 mg IV në ditë për 4-9 ditë. Efektet anësore përfshijnë nauze dhe rritje të transaminazave, me reaksione të rralla hipersensitiviteti dhe disfunksion renal.\n",
      "\n",
      "Monitorimi kërkon teste bazë të funksionit të mëlçisë dhe veshkave, me monitorim periodik gjatë trajtimit. Kundërindikacionet përfshijnë dëmtimin e rëndë renal dhe hipersensitivitetin e njohur ndaj remdesivirit.\n",
      "\n",
      "Dokumenti përfundon me dy referenca nga revista shkencore që diskutojnë përdorimin dhe sigurinë e remdesivirit në menaxhimin e COVID-19.\n"
     ]
    }
   ],
   "source": [
    "if __name__ == \"__main__\":\n",
    "    example_file = \"Drug Information Sheet.pdf\"\n",
    "    example_query = \"Përmbledhni të gjithë dokumentin në 200 fjalë\" # Albanian\n",
    "    example_session = os.environ.get(\"EXAMPLE_SESSION_ID\", \"demo-session-1\")\n",
    "\n",
    "    # Enable history for demo by setting CONVO_HISTORY_ENABLED=true\n",
    "    try:\n",
    "        response = run_direct_document_qa(\n",
    "            example_file,\n",
    "            example_query,\n",
    "            MODEL_CONTEXT_TOKENS,\n",
    "            session_id=example_session\n",
    "        )\n",
    "        print(\"\\n=== Answer ===\")\n",
    "        print(response)\n",
    "    except Exception as e:\n",
    "        logger.exception(\"Pipeline execution failed.\")\n",
    "        raise"
   ]
  },
  {
   "cell_type": "markdown",
   "id": "7964beb3-2145-4cc7-87a2-ecbbbeca0962",
   "metadata": {},
   "source": [
    "## Test Query- Arabic"
   ]
  },
  {
   "cell_type": "code",
   "execution_count": 32,
   "id": "b6c80947-2bde-4ac0-a359-91084fdb1fac",
   "metadata": {
    "execution": {
     "iopub.execute_input": "2025-09-22T08:49:08.745765Z",
     "iopub.status.busy": "2025-09-22T08:49:08.745361Z",
     "iopub.status.idle": "2025-09-22T08:49:21.205603Z",
     "shell.execute_reply": "2025-09-22T08:49:21.191020Z",
     "shell.execute_reply.started": "2025-09-22T08:49:08.745744Z"
    }
   },
   "outputs": [
    {
     "name": "stdout",
     "output_type": "stream",
     "text": [
      "[INFO] 2025-09-22 08:49:08,748 - Medical Chatbot G-Version - Query language: code=ar (Arabic), conf≈1.00\n",
      "[INFO] 2025-09-22 08:49:08,749 - Medical Chatbot G-Version - Loading PDF: Drug Information Sheet.pdf\n",
      "[INFO] 2025-09-22 08:49:08,784 - Medical Chatbot G-Version - Token check: total=400, budget=128000, fits=True\n",
      "[INFO] 2025-09-22 08:49:21,176 - Medical Chatbot G-Version - Language verify OK: expected=ar, detected=ar\n",
      "[INFO] 2025-09-22 08:49:21,180 - Medical Chatbot G-Version - Language verify OK: expected=ar, detected=ar\n",
      "\n",
      "=== Answer ===\n",
      "تلخيص المستند في حوالي 200 كلمة:\n",
      "\n",
      "هذه نشرة معلومات دوائية عن عقار ريمديسيفير، وهو مضاد فيروسي لعلاج كوفيد-19. ريمديسيفير هو مثبط لإنزيم RNA بوليميراز المعتمد على RNA الفيروسي، مما يقلل من تكاثر فيروس سارس-كوف-2. \n",
      "\n",
      "يستخدم للمرضى المصابين بكوفيد-19 المؤكد والذين يحتاجون إلى أكسجين تكميلي ولكن ليسوا على التنفس الصناعي. \n",
      "\n",
      "الجرعة الموصى بها هي 200 ملغ عن طريق الوريد في اليوم الأول، ثم 100 ملغ يوميًا لمدة 4-9 أيام حسب الاستجابة السريرية.\n",
      "\n",
      "الآثار الجانبية تشمل الغثيان وارتفاع إنزيمات الكبد، ونادرًا تفاعلات فرط الحساسية واختلال وظائف الكلى.\n",
      "\n",
      "يجب مراقبة وظائف الكبد والكلى قبل وأثناء العلاج. \n",
      "\n",
      "موانع الاستعمال تشمل القصور الكلوي الشديد (معدل الترشيح الكبيبي <30 مل/دقيقة) وفرط الحساسية المعروف للريمديسيفير.\n",
      "\n",
      "تحتوي النشرة أيضًا على مراجع لمزيد من المعلومات حول استخدام ومراقبة سلامة ريمديسيفير في علاج كوفيد-19.\n"
     ]
    }
   ],
   "source": [
    "if __name__ == \"__main__\":\n",
    "    example_file = \"Drug Information Sheet.pdf\"\n",
    "    example_query = \"لخص المستند بأكمله في 200 كلمة\" # Arabic\n",
    "    example_session = os.environ.get(\"EXAMPLE_SESSION_ID\", \"demo-session-1\")\n",
    "\n",
    "    # Enable history for demo by setting CONVO_HISTORY_ENABLED=true\n",
    "    try:\n",
    "        response = run_direct_document_qa(\n",
    "            example_file,\n",
    "            example_query,\n",
    "            MODEL_CONTEXT_TOKENS,\n",
    "            session_id=example_session\n",
    "        )\n",
    "        print(\"\\n=== Answer ===\")\n",
    "        print(response)\n",
    "    except Exception as e:\n",
    "        logger.exception(\"Pipeline execution failed.\")\n",
    "        raise"
   ]
  },
  {
   "cell_type": "markdown",
   "id": "4b189e88-3fe9-482a-a9e1-0c5e849ac12d",
   "metadata": {},
   "source": [
    "## Test Query- Bengali"
   ]
  },
  {
   "cell_type": "code",
   "execution_count": 33,
   "id": "f9639587-82ac-4cd6-8d1a-101b2cc2fec5",
   "metadata": {
    "execution": {
     "iopub.execute_input": "2025-09-22T08:49:21.206968Z",
     "iopub.status.busy": "2025-09-22T08:49:21.206683Z",
     "iopub.status.idle": "2025-09-22T08:49:41.649897Z",
     "shell.execute_reply": "2025-09-22T08:49:41.647507Z",
     "shell.execute_reply.started": "2025-09-22T08:49:21.206946Z"
    }
   },
   "outputs": [
    {
     "name": "stdout",
     "output_type": "stream",
     "text": [
      "[INFO] 2025-09-22 08:49:21,209 - Medical Chatbot G-Version - Query language: code=bn (Bengali), conf≈1.00\n",
      "[INFO] 2025-09-22 08:49:21,210 - Medical Chatbot G-Version - Loading PDF: Drug Information Sheet.pdf\n",
      "[INFO] 2025-09-22 08:49:21,248 - Medical Chatbot G-Version - Token check: total=425, budget=128000, fits=True\n",
      "[INFO] 2025-09-22 08:49:41,629 - Medical Chatbot G-Version - Language verify OK: expected=bn, detected=bn\n",
      "[INFO] 2025-09-22 08:49:41,634 - Medical Chatbot G-Version - Language verify OK: expected=bn, detected=bn\n",
      "\n",
      "=== Answer ===\n",
      "এই ড্রাগ ইনফরমেশন শীটটি রেমডেসিভির সম্পর্কে তথ্য প্রদান করে, যা COVID-19 এর চিকিৎসায় ব্যবহৃত একটি অ্যান্টিভাইরাল ঔষধ। এটি একটি নিউক্লিওসাইড অ্যানালগ RNA পলিমারেজ ইনহিবিটর যা ভাইরাল RNA-নির্ভর RNA পলিমারেজকে বাধা দেয়, যার ফলে SARS-CoV-2 এর প্রতিলিপি তৈরি কমে যায়।\n",
      "\n",
      "রেমডেসিভির হাসপাতালে ভর্তি COVID-19 রোগীদের জন্য নির্দেশিত যারা অতিরিক্ত অক্সিজেন প্রয়োজন করে কিন্তু ইনভেসিভ ভেন্টিলেশনে নেই। প্রথম দিনে 200 mg IV লোডিং ডোজ দেওয়া হয়, তারপর 4-9 দিন পর্যন্ত দৈনিক 100 mg IV মেইনটেন্যান্স ডোজ দেওয়া হয়।\n",
      "\n",
      "পার্শ্বপ্রতিক্রিয়াগুলির মধ্যে বমি বমি ভাব এবং ট্রান্সামিনেজ বৃদ্ধি অন্তর্ভুক্ত। বিরল ক্ষেত্রে অতিসংবেদনশীলতা প্রতিক্রিয়া এবং কিডনির ক্রিয়াকলাপের অস্বাভাবিকতা দেখা যেতে পারে। চিকিৎসার আগে এবং চলাকালীন সময়ে লিভার ও কিডনির কার্যকারিতা পরীক্ষা করা উচিত।\n",
      "\n",
      "গুরুতর কিডনির অকার্যকারিতা (eGFR <30 mL/min) এবং রেমডেসিভিরের প্রতি জ্ঞাত অতিসংবেদনশীলতা এর ব্যবহারের ক্ষেত্রে বিপরীত নির্দেশনা।\n"
     ]
    }
   ],
   "source": [
    "if __name__ == \"__main__\":\n",
    "    example_file = \"Drug Information Sheet.pdf\"\n",
    "    example_query = \"পুরো নথিটি ২০০ শব্দে সংক্ষেপ করুন\" # Bengali\n",
    "    example_session = os.environ.get(\"EXAMPLE_SESSION_ID\", \"demo-session-1\")\n",
    "\n",
    "    # Enable history for demo by setting CONVO_HISTORY_ENABLED=true\n",
    "    try:\n",
    "        response = run_direct_document_qa(\n",
    "            example_file,\n",
    "            example_query,\n",
    "            MODEL_CONTEXT_TOKENS,\n",
    "            session_id=example_session\n",
    "        )\n",
    "        print(\"\\n=== Answer ===\")\n",
    "        print(response)\n",
    "    except Exception as e:\n",
    "        logger.exception(\"Pipeline execution failed.\")\n",
    "        raise"
   ]
  },
  {
   "cell_type": "markdown",
   "id": "891b38a6-77d4-43b5-b197-ac94b20e62c2",
   "metadata": {},
   "source": [
    "## Test Query- Bulgarian"
   ]
  },
  {
   "cell_type": "code",
   "execution_count": 34,
   "id": "5d95c483-0f9b-4be1-a385-163468e61648",
   "metadata": {
    "execution": {
     "iopub.execute_input": "2025-09-22T08:49:41.652087Z",
     "iopub.status.busy": "2025-09-22T08:49:41.651414Z",
     "iopub.status.idle": "2025-09-22T08:49:49.848397Z",
     "shell.execute_reply": "2025-09-22T08:49:49.847592Z",
     "shell.execute_reply.started": "2025-09-22T08:49:41.652041Z"
    }
   },
   "outputs": [
    {
     "name": "stdout",
     "output_type": "stream",
     "text": [
      "[INFO] 2025-09-22 08:49:41,675 - Medical Chatbot G-Version - Query language: code=bg (Bulgarian), conf≈1.00\n",
      "[INFO] 2025-09-22 08:49:41,675 - Medical Chatbot G-Version - Loading PDF: Drug Information Sheet.pdf\n",
      "[INFO] 2025-09-22 08:49:41,710 - Medical Chatbot G-Version - Token check: total=395, budget=128000, fits=True\n",
      "[INFO] 2025-09-22 08:49:49,830 - Medical Chatbot G-Version - Language verify OK: expected=bg, detected=bg\n",
      "[INFO] 2025-09-22 08:49:49,838 - Medical Chatbot G-Version - Language verify OK: expected=bg, detected=bg\n",
      "\n",
      "=== Answer ===\n",
      "Този документ е информационен лист за лекарството ремдесивир, използвано за лечение на COVID-19. Ремдесивир е антивирусен агент от клас нуклеозидни аналози, инхибитори на РНК полимеразата. Той действа чрез инхибиране на вирусната РНК-зависима РНК полимераза, намалявайки репликацията на SARS-CoV-2. \n",
      "\n",
      "Показан е за хоспитализирани пациенти с потвърден COVID-19, нуждаещи се от допълнителен кислород, но не на инвазивна вентилация. Дозировката включва натоварваща доза от 200 mg интравенозно в първия ден, последвана от поддържаща доза от 100 mg интравенозно дневно за 4 до 9 дни.\n",
      "\n",
      "Възможните нежелани ефекти включват гадене и повишаване на трансаминазите, а по-рядко - реакции на свръхчувствителност и бъбречна дисфункция. Необходимо е проследяване на чернодробната и бъбречната функция преди и по време на лечението.\n",
      "\n",
      "Противопоказания са тежко бъбречно увреждане (eGFR <30 mL/min) и известна свръхчувствителност към ремдесивир.\n",
      "\n",
      "Документът съдържа и две референции към научни статии, фокусирани върху употребата и безопасността на ремдесивир при лечението на COVID-19.\n"
     ]
    }
   ],
   "source": [
    "if __name__ == \"__main__\":\n",
    "    example_file = \"Drug Information Sheet.pdf\"\n",
    "    example_query = \"Обобщете целия документ в 200 думи\" # Bulgarian\n",
    "    example_session = os.environ.get(\"EXAMPLE_SESSION_ID\", \"demo-session-1\")\n",
    "\n",
    "    # Enable history for demo by setting CONVO_HISTORY_ENABLED=true\n",
    "    try:\n",
    "        response = run_direct_document_qa(\n",
    "            example_file,\n",
    "            example_query,\n",
    "            MODEL_CONTEXT_TOKENS,\n",
    "            session_id=example_session\n",
    "        )\n",
    "        print(\"\\n=== Answer ===\")\n",
    "        print(response)\n",
    "    except Exception as e:\n",
    "        logger.exception(\"Pipeline execution failed.\")\n",
    "        raise"
   ]
  },
  {
   "cell_type": "markdown",
   "id": "8ef7ab4a-c8c4-4f43-a37a-dba61f95a6e0",
   "metadata": {},
   "source": [
    "## Test Query- Catalan"
   ]
  },
  {
   "cell_type": "code",
   "execution_count": 35,
   "id": "33563fcc-6238-44e3-916d-2cdcb5d4afd3",
   "metadata": {
    "execution": {
     "iopub.execute_input": "2025-09-22T08:49:49.849503Z",
     "iopub.status.busy": "2025-09-22T08:49:49.849271Z",
     "iopub.status.idle": "2025-09-22T08:49:56.188677Z",
     "shell.execute_reply": "2025-09-22T08:49:56.187966Z",
     "shell.execute_reply.started": "2025-09-22T08:49:49.849484Z"
    }
   },
   "outputs": [
    {
     "name": "stdout",
     "output_type": "stream",
     "text": [
      "[INFO] 2025-09-22 08:49:49,856 - Medical Chatbot G-Version - Query language: code=ca (Catalan), conf≈1.00\n",
      "[INFO] 2025-09-22 08:49:49,858 - Medical Chatbot G-Version - Loading PDF: Drug Information Sheet.pdf\n",
      "[INFO] 2025-09-22 08:49:49,892 - Medical Chatbot G-Version - Token check: total=390, budget=128000, fits=True\n",
      "[INFO] 2025-09-22 08:49:56,171 - Medical Chatbot G-Version - Language verify OK: expected=ca, detected=ca\n",
      "[INFO] 2025-09-22 08:49:56,177 - Medical Chatbot G-Version - Language verify OK: expected=ca, detected=ca\n",
      "\n",
      "=== Answer ===\n",
      "Aquest document és un full d'informació sobre el medicament remdesivir per al tractament de la COVID-19. Proporciona detalls clínics sobre aquest antiviral, que és un inhibidor de l'ARN polimerasa. El seu mecanisme d'acció consisteix a inhibir la replicació del SARS-CoV-2. \n",
      "\n",
      "Està indicat per a pacients hospitalitzats amb COVID-19 confirmada que requereixen oxigen suplementari però no ventilació invasiva. La dosificació inclou una dosi de càrrega de 200 mg IV el primer dia, seguida de 100 mg IV diaris durant 4-9 dies segons la resposta clínica.\n",
      "\n",
      "Els efectes adversos més comuns són nàusees i elevacions de transaminases, amb reaccions d'hipersensibilitat i disfunció renal com a efectes rars. Cal monitoritzar la funció hepàtica i renal abans i durant el tractament.\n",
      "\n",
      "Està contraindicat en pacients amb insuficiència renal greu (TFGe <30 mL/min) i en cas d'hipersensibilitat coneguda al remdesivir.\n",
      "\n",
      "El document inclou referències a dos articles científics sobre l'ús i la seguretat del remdesivir en el maneig de la COVID-19.\n"
     ]
    }
   ],
   "source": [
    "if __name__ == \"__main__\":\n",
    "    example_file = \"Drug Information Sheet.pdf\"\n",
    "    example_query = \"Resumeix tot el document en 200 paraules\" # Catalan\n",
    "    example_session = os.environ.get(\"EXAMPLE_SESSION_ID\", \"demo-session-1\")\n",
    "\n",
    "    # Enable history for demo by setting CONVO_HISTORY_ENABLED=true\n",
    "    try:\n",
    "        response = run_direct_document_qa(\n",
    "            example_file,\n",
    "            example_query,\n",
    "            MODEL_CONTEXT_TOKENS,\n",
    "            session_id=example_session\n",
    "        )\n",
    "        print(\"\\n=== Answer ===\")\n",
    "        print(response)\n",
    "    except Exception as e:\n",
    "        logger.exception(\"Pipeline execution failed.\")\n",
    "        raise"
   ]
  },
  {
   "cell_type": "markdown",
   "id": "d9dd5611-533a-4470-b7a7-c8b220674e9e",
   "metadata": {},
   "source": [
    "## Test Query- Chinese (Simplified)"
   ]
  },
  {
   "cell_type": "code",
   "execution_count": 36,
   "id": "90ecfca6-b170-4cd7-b277-929ef925afc2",
   "metadata": {
    "execution": {
     "iopub.execute_input": "2025-09-22T08:49:56.190399Z",
     "iopub.status.busy": "2025-09-22T08:49:56.189679Z",
     "iopub.status.idle": "2025-09-22T08:50:01.367480Z",
     "shell.execute_reply": "2025-09-22T08:50:01.365868Z",
     "shell.execute_reply.started": "2025-09-22T08:49:56.190367Z"
    }
   },
   "outputs": [
    {
     "name": "stdout",
     "output_type": "stream",
     "text": [
      "[INFO] 2025-09-22 08:49:56,193 - Medical Chatbot G-Version - Query language: code=zh-cn (Chinese (Simplified)), conf≈1.00\n",
      "[INFO] 2025-09-22 08:49:56,194 - Medical Chatbot G-Version - Loading PDF: Drug Information Sheet.pdf\n",
      "[INFO] 2025-09-22 08:49:56,226 - Medical Chatbot G-Version - Token check: total=394, budget=128000, fits=True\n",
      "[INFO] 2025-09-22 08:50:01,351 - Medical Chatbot G-Version - Language verify OK: expected=zh-cn, detected=zh-cn\n",
      "[INFO] 2025-09-22 08:50:01,354 - Medical Chatbot G-Version - Language verify OK: expected=zh-cn, detected=zh-cn\n",
      "\n",
      "=== Answer ===\n",
      "这份药品信息表提供了关于瑞德西韦的详细信息,包括其作为抗病毒药物用于治疗COVID-19的机制、适应症、剂量、不良反应和监测要求。瑞德西韦是一种核苷类似物RNA聚合酶抑制剂,通过抑制病毒RNA依赖的RNA聚合酶来减少SARS-CoV-2的复制。它适用于需要补充氧气但不需要有创通气的住院COVID-19患者。推荐剂量为第1天200mg静脉注射,随后每天100mg,持续4-9天。常见不良反应包括恶心和转氨酶升高。使用前需检查肝肾功能,并在治疗期间定期监测。严重肾功能不全和已知对瑞德西韦过敏者禁用。\n"
     ]
    }
   ],
   "source": [
    "if __name__ == \"__main__\":\n",
    "    example_file = \"Drug Information Sheet.pdf\"\n",
    "    example_query = \"将整个文档概括为200个字\" # Chinese (Simplified)\n",
    "    example_session = os.environ.get(\"EXAMPLE_SESSION_ID\", \"demo-session-1\")\n",
    "\n",
    "    # Enable history for demo by setting CONVO_HISTORY_ENABLED=true\n",
    "    try:\n",
    "        response = run_direct_document_qa(\n",
    "            example_file,\n",
    "            example_query,\n",
    "            MODEL_CONTEXT_TOKENS,\n",
    "            session_id=example_session\n",
    "        )\n",
    "        print(\"\\n=== Answer ===\")\n",
    "        print(response)\n",
    "    except Exception as e:\n",
    "        logger.exception(\"Pipeline execution failed.\")\n",
    "        raise"
   ]
  },
  {
   "cell_type": "markdown",
   "id": "0b1cd184-8107-47f3-9996-62cc81efe018",
   "metadata": {},
   "source": [
    "## Chinese Traditional - Unable to Detect"
   ]
  },
  {
   "cell_type": "code",
   "execution_count": 37,
   "id": "1bf773ba-c9ff-4870-acc1-3b0f11bd4cf5",
   "metadata": {
    "execution": {
     "iopub.execute_input": "2025-09-22T08:50:01.369242Z",
     "iopub.status.busy": "2025-09-22T08:50:01.368714Z",
     "iopub.status.idle": "2025-09-22T08:50:08.532390Z",
     "shell.execute_reply": "2025-09-22T08:50:08.531578Z",
     "shell.execute_reply.started": "2025-09-22T08:50:01.369215Z"
    }
   },
   "outputs": [
    {
     "name": "stdout",
     "output_type": "stream",
     "text": [
      "[INFO] 2025-09-22 08:50:01,375 - Medical Chatbot G-Version - Query language: code=ko (Korean), conf≈1.00\n",
      "[INFO] 2025-09-22 08:50:01,376 - Medical Chatbot G-Version - Loading PDF: Drug Information Sheet.pdf\n",
      "[INFO] 2025-09-22 08:50:01,410 - Medical Chatbot G-Version - Token check: total=397, budget=128000, fits=True\n",
      "[WARNING] 2025-09-22 08:50:02,108 - Medical Chatbot G-Version - Language mismatch: expected=ko, detected=en\n",
      "[INFO] 2025-09-22 08:50:02,109 - Medical Chatbot G-Version - Re-prompting due to language mismatch (attempt 1/1).\n",
      "[INFO] 2025-09-22 08:50:08,517 - Medical Chatbot G-Version - Language verify OK: expected=ko, detected=ko\n",
      "[INFO] 2025-09-22 08:50:08,520 - Medical Chatbot G-Version - Language verify OK: expected=ko, detected=ko\n",
      "\n",
      "=== Answer ===\n",
      "이 문서는 COVID-19 치료를 위한 항바이러스제인 렘데시비르에 대한 약물 정보를 제공합니다. 주요 내용은 다음과 같습니다:\n",
      "\n",
      "- 분류: RNA 중합효소 억제제\n",
      "- 작용 기전: SARS-CoV-2의 복제를 감소시킴\n",
      "- 적응증: 산소 보충이 필요한 입원 환자\n",
      "- 용량: 첫날 200mg IV 투여 후 4-9일간 100mg IV 유지\n",
      "- 부작용: 구역, 간효소 상승, 드물게 과민반응과 신기능 장애\n",
      "- 모니터링: 간 및 신기능 검사\n",
      "- 금기: 중증 신장애, 렘데시비르에 대한 과민반응\n",
      "\n",
      "문서는 또한 렘데시비르의 기전, 적응증, 용량, 부작용, 모니터링 요구사항에 대한 상세 정보를 임상의에게 제공하는 것을 목적으로 합니다.\n"
     ]
    }
   ],
   "source": [
    "if __name__ == \"__main__\":\n",
    "    example_file = \"Drug Information Sheet.pdf\"\n",
    "    example_query = \"將整個文件概括為200個字\" # Chinese (Traditional)\n",
    "    example_session = os.environ.get(\"EXAMPLE_SESSION_ID\", \"demo-session-1\")\n",
    "\n",
    "    # Enable history for demo by setting CONVO_HISTORY_ENABLED=true\n",
    "    try:\n",
    "        response = run_direct_document_qa(\n",
    "            example_file,\n",
    "            example_query,\n",
    "            MODEL_CONTEXT_TOKENS,\n",
    "            session_id=example_session\n",
    "        )\n",
    "        print(\"\\n=== Answer ===\")\n",
    "        print(response)\n",
    "    except Exception as e:\n",
    "        logger.exception(\"Pipeline execution failed.\")\n",
    "        raise"
   ]
  },
  {
   "cell_type": "markdown",
   "id": "cd3138f5-1227-4f3f-b3a6-7e7182b54b41",
   "metadata": {},
   "source": [
    "## Test Query- Croatian"
   ]
  },
  {
   "cell_type": "code",
   "execution_count": 38,
   "id": "67704fe7-52a2-457f-b85b-b2e45cf8831a",
   "metadata": {
    "execution": {
     "iopub.execute_input": "2025-09-22T08:50:08.534777Z",
     "iopub.status.busy": "2025-09-22T08:50:08.534494Z",
     "iopub.status.idle": "2025-09-22T08:50:14.283299Z",
     "shell.execute_reply": "2025-09-22T08:50:14.282459Z",
     "shell.execute_reply.started": "2025-09-22T08:50:08.534757Z"
    }
   },
   "outputs": [
    {
     "name": "stdout",
     "output_type": "stream",
     "text": [
      "[INFO] 2025-09-22 08:50:08,538 - Medical Chatbot G-Version - Query language: code=hr (Croatian), conf≈1.00\n",
      "[INFO] 2025-09-22 08:50:08,541 - Medical Chatbot G-Version - Loading PDF: Drug Information Sheet.pdf\n",
      "[INFO] 2025-09-22 08:50:08,574 - Medical Chatbot G-Version - Token check: total=394, budget=128000, fits=True\n",
      "[INFO] 2025-09-22 08:50:14,265 - Medical Chatbot G-Version - Language verify OK: expected=hr, detected=hr\n",
      "[INFO] 2025-09-22 08:50:14,272 - Medical Chatbot G-Version - Language verify OK: expected=hr, detected=hr\n",
      "\n",
      "=== Answer ===\n",
      "Ovaj dokument je informativni list o lijeku remdesivir za liječenje COVID-19. Remdesivir je antivirusni lijek koji inhibira virusnu RNA-ovisnu RNA polimerazu, smanjujući replikaciju SARS-CoV-2 virusa. Indiciran je za hospitalizirane pacijente s potvrđenim COVID-19 koji zahtijevaju dodatni kisik, ali nisu na invazivnoj ventilaciji. Doziranje uključuje početnu dozu od 200 mg intravenozno prvi dan, nakon čega slijedi dnevna doza održavanja od 100 mg tijekom 4 do 9 dana. Moguće nuspojave uključuju mučninu i povišenje transaminaza, a rijetko se javljaju reakcije preosjetljivosti i bubrežna disfunkcija. Potrebno je pratiti funkciju jetre i bubrega prije i tijekom liječenja. Kontraindikacije su teško oštećenje bubrega i poznata preosjetljivost na remdesivir. Dokument sadrži i metapodatke o vrsti dokumenta, specijalnosti i ključnim riječima, kao i reference na dva znanstvena članka o remdesiviru.\n"
     ]
    }
   ],
   "source": [
    "if __name__ == \"__main__\":\n",
    "    example_file = \"Drug Information Sheet.pdf\"\n",
    "    example_query = \"Sažmite cijeli dokument u 200 riječi\" # Croatian\n",
    "    example_session = os.environ.get(\"EXAMPLE_SESSION_ID\", \"demo-session-1\")\n",
    "\n",
    "    # Enable history for demo by setting CONVO_HISTORY_ENABLED=true\n",
    "    try:\n",
    "        response = run_direct_document_qa(\n",
    "            example_file,\n",
    "            example_query,\n",
    "            MODEL_CONTEXT_TOKENS,\n",
    "            session_id=example_session\n",
    "        )\n",
    "        print(\"\\n=== Answer ===\")\n",
    "        print(response)\n",
    "    except Exception as e:\n",
    "        logger.exception(\"Pipeline execution failed.\")\n",
    "        raise"
   ]
  },
  {
   "cell_type": "markdown",
   "id": "1d63be62-dab3-4c43-88a3-f83dd0ef20f4",
   "metadata": {},
   "source": [
    "## Test Query- Czech"
   ]
  },
  {
   "cell_type": "code",
   "execution_count": 39,
   "id": "aeb3f250-2009-4379-a1f2-c4bb369adf60",
   "metadata": {
    "execution": {
     "iopub.execute_input": "2025-09-22T08:50:14.284788Z",
     "iopub.status.busy": "2025-09-22T08:50:14.284136Z",
     "iopub.status.idle": "2025-09-22T08:50:21.126705Z",
     "shell.execute_reply": "2025-09-22T08:50:21.125920Z",
     "shell.execute_reply.started": "2025-09-22T08:50:14.284761Z"
    }
   },
   "outputs": [
    {
     "name": "stdout",
     "output_type": "stream",
     "text": [
      "[INFO] 2025-09-22 08:50:14,298 - Medical Chatbot G-Version - Query language: code=sk (Slovak), conf≈0.86\n",
      "[INFO] 2025-09-22 08:50:14,299 - Medical Chatbot G-Version - Loading PDF: Drug Information Sheet.pdf\n",
      "[INFO] 2025-09-22 08:50:14,332 - Medical Chatbot G-Version - Token check: total=393, budget=128000, fits=True\n",
      "[INFO] 2025-09-22 08:50:21,109 - Medical Chatbot G-Version - Language verify OK: expected=sk, detected=sk\n",
      "[INFO] 2025-09-22 08:50:21,115 - Medical Chatbot G-Version - Language verify OK: expected=sk, detected=sk\n",
      "\n",
      "=== Answer ===\n",
      "Tento dokument je informačný list o lieku remdesivir, ktorý sa používa na liečbu COVID-19. Remdesivir je antivirotikum, ktoré inhibuje vírusovú RNA-dependentnú RNA polymerázu, čím znižuje replikáciu SARS-CoV-2. Je indikovaný pre hospitalizovaných pacientov s potvrdeným COVID-19, ktorí vyžadujú doplnkový kyslík, ale nie sú na invazívnej ventilácii. \n",
      "\n",
      "Dávkovanie zahŕňa úvodnú dávku 200 mg IV v prvý deň, po ktorej nasleduje udržiavacia dávka 100 mg IV denne počas 4 až 9 dní. Medzi nežiaduce účinky patrí nevoľnosť a zvýšenie transamináz, zriedkavo sa môžu vyskytnúť reakcie z precitlivenosti a poruchy funkcie obličiek. \n",
      "\n",
      "Pred liečbou a počas nej je potrebné monitorovať funkciu pečene a obličiek. Liek je kontraindikovaný pri ťažkej poruche funkcie obličiek (eGFR <30 mL/min) a známej precitlivenosti na remdesivir. Dokument obsahuje aj odkazy na dve odborné publikácie týkajúce sa použitia a bezpečnostného monitorovania remdesiviru.\n"
     ]
    }
   ],
   "source": [
    "if __name__ == \"__main__\":\n",
    "    example_file = \"Drug Information Sheet.pdf\"\n",
    "    example_query = \"Shrňte celý dokument do 200 slov\" # Czech\n",
    "    example_session = os.environ.get(\"EXAMPLE_SESSION_ID\", \"demo-session-1\")\n",
    "\n",
    "    # Enable history for demo by setting CONVO_HISTORY_ENABLED=true\n",
    "    try:\n",
    "        response = run_direct_document_qa(\n",
    "            example_file,\n",
    "            example_query,\n",
    "            MODEL_CONTEXT_TOKENS,\n",
    "            session_id=example_session\n",
    "        )\n",
    "        print(\"\\n=== Answer ===\")\n",
    "        print(response)\n",
    "    except Exception as e:\n",
    "        logger.exception(\"Pipeline execution failed.\")\n",
    "        raise"
   ]
  },
  {
   "cell_type": "markdown",
   "id": "2a182b99-ce5b-4f0e-bcf5-ecaf95d57088",
   "metadata": {},
   "source": [
    "## Test Query- Danish"
   ]
  },
  {
   "cell_type": "code",
   "execution_count": 40,
   "id": "0e561849-999f-4056-b1d7-506c83bc338a",
   "metadata": {
    "execution": {
     "iopub.execute_input": "2025-09-22T08:50:21.127766Z",
     "iopub.status.busy": "2025-09-22T08:50:21.127527Z",
     "iopub.status.idle": "2025-09-22T08:50:28.780519Z",
     "shell.execute_reply": "2025-09-22T08:50:28.779806Z",
     "shell.execute_reply.started": "2025-09-22T08:50:21.127746Z"
    }
   },
   "outputs": [
    {
     "name": "stdout",
     "output_type": "stream",
     "text": [
      "[INFO] 2025-09-22 08:50:21,147 - Medical Chatbot G-Version - Query language: code=no (Norwegian), conf≈1.00\n",
      "[INFO] 2025-09-22 08:50:21,149 - Medical Chatbot G-Version - Loading PDF: Drug Information Sheet.pdf\n",
      "[INFO] 2025-09-22 08:50:21,184 - Medical Chatbot G-Version - Token check: total=390, budget=128000, fits=True\n",
      "[INFO] 2025-09-22 08:50:28,758 - Medical Chatbot G-Version - Language verify OK: expected=no, detected=no\n",
      "[INFO] 2025-09-22 08:50:28,768 - Medical Chatbot G-Version - Language verify OK: expected=no, detected=no\n",
      "\n",
      "=== Answer ===\n",
      "Dette dokumentet er et legemiddelinformasjonsark om remdesivir, et antiviralt middel for behandling av COVID-19. Det gir klinisk informasjon om legemiddelets klasse, virkningsmekanisme, indikasjoner, dosering, bivirkninger og overvåkningskrav.\n",
      "\n",
      "Remdesivir er en nukleosidanalog RNA-polymerasehemmer som hemmer viral RNA-avhengig RNA-polymerase, og reduserer dermed replikasjonen av SARS-CoV-2. Det er indisert for hospitaliserte pasienter med bekreftet COVID-19 som krever supplerende oksygen, men ikke invasiv ventilasjon.\n",
      "\n",
      "Doseringen er en startdose på 200 mg intravenøst på dag 1, etterfulgt av en vedlikeholdsdose på 100 mg intravenøst daglig i 4 til 9 dager, avhengig av klinisk respons.\n",
      "\n",
      "Bivirkninger inkluderer kvalme og forhøyede transaminaser, med sjeldne tilfeller av overfølsomhetsreaksjoner og nyredysfunksjon. Baseline lever- og nyrefunksjonstester bør utføres, med periodisk overvåkning under behandlingen.\n",
      "\n",
      "Kontraindikasjoner omfatter alvorlig nedsatt nyrefunksjon (eGFR <30 mL/min) og kjent overfølsomhet for remdesivir.\n",
      "\n",
      "Dokumentet inneholder også referanser til to vitenskapelige artikler om antivirale midler i COVID-19-behandling og sikkerhetsovervåkning av remdesivir hos hospitaliserte pasienter.\n"
     ]
    }
   ],
   "source": [
    "if __name__ == \"__main__\":\n",
    "    example_file = \"Drug Information Sheet.pdf\"\n",
    "    example_query = \"Sammenfat hele dokumentet i 200 ord\" # Danish\n",
    "    example_session = os.environ.get(\"EXAMPLE_SESSION_ID\", \"demo-session-1\")\n",
    "\n",
    "    # Enable history for demo by setting CONVO_HISTORY_ENABLED=true\n",
    "    try:\n",
    "        response = run_direct_document_qa(\n",
    "            example_file,\n",
    "            example_query,\n",
    "            MODEL_CONTEXT_TOKENS,\n",
    "            session_id=example_session\n",
    "        )\n",
    "        print(\"\\n=== Answer ===\")\n",
    "        print(response)\n",
    "    except Exception as e:\n",
    "        logger.exception(\"Pipeline execution failed.\")\n",
    "        raise"
   ]
  },
  {
   "cell_type": "markdown",
   "id": "e8db8200-6360-43ce-8acf-2afbd49cc92e",
   "metadata": {},
   "source": [
    "## Test Query- Dutch"
   ]
  },
  {
   "cell_type": "code",
   "execution_count": 41,
   "id": "c5f8fd2b-08ae-4003-a02e-49cd9a929d62",
   "metadata": {
    "execution": {
     "iopub.execute_input": "2025-09-22T08:50:28.781684Z",
     "iopub.status.busy": "2025-09-22T08:50:28.781248Z",
     "iopub.status.idle": "2025-09-22T08:50:35.645795Z",
     "shell.execute_reply": "2025-09-22T08:50:35.644340Z",
     "shell.execute_reply.started": "2025-09-22T08:50:28.781663Z"
    }
   },
   "outputs": [
    {
     "name": "stdout",
     "output_type": "stream",
     "text": [
      "[INFO] 2025-09-22 08:50:28,786 - Medical Chatbot G-Version - Query language: code=nl (Dutch / Flemish), conf≈1.00\n",
      "[INFO] 2025-09-22 08:50:28,787 - Medical Chatbot G-Version - Loading PDF: Drug Information Sheet.pdf\n",
      "[INFO] 2025-09-22 08:50:28,824 - Medical Chatbot G-Version - Token check: total=391, budget=128000, fits=True\n",
      "[INFO] 2025-09-22 08:50:35,621 - Medical Chatbot G-Version - Language verify OK: expected=nl, detected=nl\n",
      "[INFO] 2025-09-22 08:50:35,632 - Medical Chatbot G-Version - Language verify OK: expected=nl, detected=nl\n",
      "\n",
      "=== Answer ===\n",
      "Dit document is een geneesmiddelinformatieblad over remdesivir, een antiviraal middel voor de behandeling van COVID-19. Het bevat de volgende belangrijke informatie:\n",
      "\n",
      "Klasse: Antiviraal middel, nucleoside-analoog RNA-polymeraseremmer.\n",
      "\n",
      "Werkingsmechanisme: Remt viraal RNA-afhankelijk RNA-polymerase, waardoor de replicatie van SARS-CoV-2 wordt verminderd.\n",
      "\n",
      "Indicaties: Gehospitaliseerde patiënten met bevestigde COVID-19 die extra zuurstof nodig hebben, maar niet aan de invasieve beademing liggen.\n",
      "\n",
      "Dosering: Oplaaddosis van 200 mg IV op dag 1, gevolgd door een onderhoudsdosis van 100 mg IV dagelijks gedurende 4 tot 9 dagen.\n",
      "\n",
      "Bijwerkingen: Misselijkheid, verhoogde transaminasen. Zelden: overgevoeligheidsreacties, nierfunctiestoornissen.\n",
      "\n",
      "Monitoring: Baseline lever- en nierfunctietests, met periodieke controle tijdens de behandeling.\n",
      "\n",
      "Contra-indicaties: Ernstige nierfunctiestoornis (eGFR <30 mL/min) en bekende overgevoeligheid voor remdesivir.\n",
      "\n",
      "Het document bevat ook metadata over het type document, specialisme en trefwoorden, evenals referenties naar twee wetenschappelijke artikelen over remdesivir.\n"
     ]
    }
   ],
   "source": [
    "if __name__ == \"__main__\":\n",
    "    example_file = \"Drug Information Sheet.pdf\"\n",
    "    example_query = \"Vat het hele document samen in 200 woorden\" # Dutch\n",
    "    example_session = os.environ.get(\"EXAMPLE_SESSION_ID\", \"demo-session-1\")\n",
    "\n",
    "    # Enable history for demo by setting CONVO_HISTORY_ENABLED=true\n",
    "    try:\n",
    "        response = run_direct_document_qa(\n",
    "            example_file,\n",
    "            example_query,\n",
    "            MODEL_CONTEXT_TOKENS,\n",
    "            session_id=example_session\n",
    "        )\n",
    "        print(\"\\n=== Answer ===\")\n",
    "        print(response)\n",
    "    except Exception as e:\n",
    "        logger.exception(\"Pipeline execution failed.\")\n",
    "        raise"
   ]
  },
  {
   "cell_type": "markdown",
   "id": "9b02a46c-867e-4f67-921c-9778330a9861",
   "metadata": {},
   "source": [
    "## Test Query- Estonian"
   ]
  },
  {
   "cell_type": "code",
   "execution_count": 42,
   "id": "4e964ccf-16ea-4fed-9f7b-916f66b46949",
   "metadata": {
    "execution": {
     "iopub.execute_input": "2025-09-22T08:50:35.646925Z",
     "iopub.status.busy": "2025-09-22T08:50:35.646671Z",
     "iopub.status.idle": "2025-09-22T08:50:43.317821Z",
     "shell.execute_reply": "2025-09-22T08:50:43.316925Z",
     "shell.execute_reply.started": "2025-09-22T08:50:35.646904Z"
    }
   },
   "outputs": [
    {
     "name": "stdout",
     "output_type": "stream",
     "text": [
      "[INFO] 2025-09-22 08:50:35,650 - Medical Chatbot G-Version - Query language: code=et (Estonian), conf≈1.00\n",
      "[INFO] 2025-09-22 08:50:35,652 - Medical Chatbot G-Version - Loading PDF: Drug Information Sheet.pdf\n",
      "[INFO] 2025-09-22 08:50:35,686 - Medical Chatbot G-Version - Token check: total=397, budget=128000, fits=True\n",
      "[INFO] 2025-09-22 08:50:43,301 - Medical Chatbot G-Version - Language verify OK: expected=et, detected=et\n",
      "[INFO] 2025-09-22 08:50:43,307 - Medical Chatbot G-Version - Language verify OK: expected=et, detected=et\n",
      "\n",
      "=== Answer ===\n",
      "See dokument on ravimiteave remdesiviri kohta, mis on viirusevastane ravim COVID-19 raviks. Peamised punktid:\n",
      "\n",
      "- Remdesivir on nukleosiidi analoog RNA polümeraasi inhibiitor.\n",
      "- See pärsib viiruse RNA-sõltuvat RNA polümeraasi, vähendades SARS-CoV-2 paljunemist.\n",
      "- Näidustatud haiglaravil olevatele kinnitatud COVID-19 patsientidele, kes vajavad lisahapnikku, kuid ei ole invasiivsel ventilatsioonil.\n",
      "- Annustamine: 200 mg IV esimesel päeval, seejärel 100 mg IV päevas 4-9 päeva jooksul.\n",
      "- Kõrvaltoimed: iiveldus, transaminaaside tõus; harva ülitundlikkusreaktsioonid, neerufunktsiooni häired.\n",
      "- Jälgida tuleb maksa- ja neerufunktsiooni.\n",
      "- Vastunäidustatud raske neerukahjustuse korral (eGFR <30 mL/min) ja teadaoleva ülitundlikkuse korral remdesiviri suhtes.\n",
      "\n",
      "Dokument sisaldab ka metaandmeid, pealkirja, lühikokkuvõtet ja viiteid kahele teadusartiklile. See on mõeldud kliiniliseks kasutamiseks, andes arstidele ülevaate remdesiviri kasutamisest COVID-19 ravis.\n"
     ]
    }
   ],
   "source": [
    "if __name__ == \"__main__\":\n",
    "    example_file = \"Drug Information Sheet.pdf\"\n",
    "    example_query = \"Kokkuvõtke kogu dokument 200 sõnaga\" # Estonian\n",
    "    example_session = os.environ.get(\"EXAMPLE_SESSION_ID\", \"demo-session-1\")\n",
    "\n",
    "    # Enable history for demo by setting CONVO_HISTORY_ENABLED=true\n",
    "    try:\n",
    "        response = run_direct_document_qa(\n",
    "            example_file,\n",
    "            example_query,\n",
    "            MODEL_CONTEXT_TOKENS,\n",
    "            session_id=example_session\n",
    "        )\n",
    "        print(\"\\n=== Answer ===\")\n",
    "        print(response)\n",
    "    except Exception as e:\n",
    "        logger.exception(\"Pipeline execution failed.\")\n",
    "        raise"
   ]
  },
  {
   "cell_type": "markdown",
   "id": "126060a4-5702-42c5-ad89-8a5e0f6a2326",
   "metadata": {},
   "source": [
    "## Test Query- Farsi / Persian"
   ]
  },
  {
   "cell_type": "code",
   "execution_count": 82,
   "id": "194f5f3a-f9c2-4833-b1f6-b73dcec69b35",
   "metadata": {
    "execution": {
     "iopub.execute_input": "2025-09-22T09:08:40.780910Z",
     "iopub.status.busy": "2025-09-22T09:08:40.780521Z",
     "iopub.status.idle": "2025-09-22T09:08:47.939000Z",
     "shell.execute_reply": "2025-09-22T09:08:47.938204Z",
     "shell.execute_reply.started": "2025-09-22T09:08:40.780885Z"
    }
   },
   "outputs": [
    {
     "name": "stdout",
     "output_type": "stream",
     "text": [
      "[INFO] 2025-09-22 09:08:40,784 - Medical Chatbot G-Version - Query language: code=fa (Farsi / Persian), conf≈1.00\n",
      "[INFO] 2025-09-22 09:08:40,786 - Medical Chatbot G-Version - Loading PDF: Drug Information Sheet.pdf\n",
      "[INFO] 2025-09-22 09:08:40,821 - Medical Chatbot G-Version - Token check: total=394, budget=128000, fits=True\n",
      "[INFO] 2025-09-22 09:08:47,923 - Medical Chatbot G-Version - Language verify OK: expected=fa, detected=fa\n",
      "[INFO] 2025-09-22 09:08:47,927 - Medical Chatbot G-Version - Language verify OK: expected=fa, detected=fa\n",
      "\n",
      "=== Answer ===\n",
      "این سند یک برگه اطلاعات دارویی درباره رمدسیویر است که برای درمان کووید-19 استفاده می‌شود. نکات اصلی عبارتند از:\n",
      "\n",
      "- رمدسیویر یک داروی ضد ویروسی است که از تکثیر ویروس SARS-CoV-2 جلوگیری می‌کند.\n",
      "- برای بیماران بستری مبتلا به کووید-19 که نیاز به اکسیژن دارند اما تحت تهویه تهاجمی نیستند، تجویز می‌شود.\n",
      "- دوز اولیه 200 میلی‌گرم و سپس 100 میلی‌گرم روزانه به مدت 4 تا 9 روز است.\n",
      "- عوارض جانبی شامل تهوع و افزایش آنزیم‌های کبدی است.\n",
      "- نیاز به پایش عملکرد کبد و کلیه دارد.\n",
      "- در نارسایی شدید کلیه و حساسیت به دارو منع مصرف دارد.\n",
      "\n",
      "این خلاصه شامل اطلاعات کلیدی در مورد مکانیسم اثر، موارد مصرف، دوز، عوارض جانبی و موارد منع مصرف رمدسیویر است.\n"
     ]
    }
   ],
   "source": [
    "if __name__ == \"__main__\":\n",
    "    example_file = \"Drug Information Sheet.pdf\"\n",
    "    example_query = \"کل سند را خلاصه کنید\" # Farsi / Persian\n",
    "    example_session = os.environ.get(\"EXAMPLE_SESSION_ID\", \"demo-session-1\")\n",
    "\n",
    "    # Enable history for demo by setting CONVO_HISTORY_ENABLED=true\n",
    "    try:\n",
    "        response = run_direct_document_qa(\n",
    "            example_file,\n",
    "            example_query,\n",
    "            MODEL_CONTEXT_TOKENS,\n",
    "            session_id=example_session\n",
    "        )\n",
    "        print(\"\\n=== Answer ===\")\n",
    "        print(response)\n",
    "    except Exception as e:\n",
    "        logger.exception(\"Pipeline execution failed.\")\n",
    "        raise"
   ]
  },
  {
   "cell_type": "markdown",
   "id": "82345870-4986-496d-aa7d-0b257f2927f4",
   "metadata": {},
   "source": [
    "## Test Query-  Finnish"
   ]
  },
  {
   "cell_type": "code",
   "execution_count": 44,
   "id": "29507b2f-81a2-46c7-ad2e-b4521c7b2537",
   "metadata": {
    "execution": {
     "iopub.execute_input": "2025-09-22T08:50:52.568930Z",
     "iopub.status.busy": "2025-09-22T08:50:52.568366Z",
     "iopub.status.idle": "2025-09-22T08:50:59.844524Z",
     "shell.execute_reply": "2025-09-22T08:50:59.843647Z",
     "shell.execute_reply.started": "2025-09-22T08:50:52.568906Z"
    }
   },
   "outputs": [
    {
     "name": "stdout",
     "output_type": "stream",
     "text": [
      "[INFO] 2025-09-22 08:50:52,572 - Medical Chatbot G-Version - Query language: code=fi (Finnish), conf≈1.00\n",
      "[INFO] 2025-09-22 08:50:52,573 - Medical Chatbot G-Version - Loading PDF: Drug Information Sheet.pdf\n",
      "[INFO] 2025-09-22 08:50:52,607 - Medical Chatbot G-Version - Token check: total=394, budget=128000, fits=True\n",
      "[INFO] 2025-09-22 08:50:59,827 - Medical Chatbot G-Version - Language verify OK: expected=fi, detected=fi\n",
      "[INFO] 2025-09-22 08:50:59,833 - Medical Chatbot G-Version - Language verify OK: expected=fi, detected=fi\n",
      "\n",
      "=== Answer ===\n",
      "Tämä asiakirja on lääketietosivu remdesiviristä, joka on antiviraalinen lääke COVID-19:n hoitoon. Remdesivir on nukleosidianalogi RNA-polymeraasin estäjä, joka vähentää SARS-CoV-2:n replikaatiota estämällä viruksen RNA-riippuvaista RNA-polymeraasia.\n",
      "\n",
      "Lääke on tarkoitettu sairaalahoidossa oleville COVID-19-potilaille, jotka tarvitsevat lisähappea mutta eivät ole invasiivisessa ventilaatiossa. Annostus on 200 mg laskimonsisäisesti ensimmäisenä päivänä, jonka jälkeen 100 mg päivittäin 4-9 päivän ajan kliinisen vasteen mukaan.\n",
      "\n",
      "Haittavaikutuksina voi esiintyä pahoinvointia ja transaminaasien nousua. Harvinaisempia haittoja ovat yliherkkyysreaktiot ja munuaisten toimintahäiriöt. Hoidon aikana tulee seurata maksan ja munuaisten toimintaa.\n",
      "\n",
      "Vasta-aiheita ovat vaikea munuaisten vajaatoiminta (eGFR <30 mL/min) ja tunnettu yliherkkyys remdesivirille.\n",
      "\n",
      "Asiakirja sisältää myös metatietoja, kuten dokumentin tyypin, erikoisalan ja avainsanat, sekä viitteet kahteen tutkimukseen remdesiviristä.\n"
     ]
    }
   ],
   "source": [
    "if __name__ == \"__main__\":\n",
    "    example_file = \"Drug Information Sheet.pdf\"\n",
    "    example_query = \"Tiivistä koko asiakirja 200 sanaan\" # Finnish\n",
    "    example_session = os.environ.get(\"EXAMPLE_SESSION_ID\", \"demo-session-1\")\n",
    "\n",
    "    # Enable history for demo by setting CONVO_HISTORY_ENABLED=true\n",
    "    try:\n",
    "        response = run_direct_document_qa(\n",
    "            example_file,\n",
    "            example_query,\n",
    "            MODEL_CONTEXT_TOKENS,\n",
    "            session_id=example_session\n",
    "        )\n",
    "        print(\"\\n=== Answer ===\")\n",
    "        print(response)\n",
    "    except Exception as e:\n",
    "        logger.exception(\"Pipeline execution failed.\")\n",
    "        raise"
   ]
  },
  {
   "cell_type": "markdown",
   "id": "3a7b3d5c-1e28-4652-bf40-f600b40c15af",
   "metadata": {},
   "source": [
    "## Test Query- French"
   ]
  },
  {
   "cell_type": "code",
   "execution_count": 45,
   "id": "fa0441e6-91bd-48e9-8b63-687ffd2a44f6",
   "metadata": {
    "execution": {
     "iopub.execute_input": "2025-09-22T08:50:59.845998Z",
     "iopub.status.busy": "2025-09-22T08:50:59.845581Z",
     "iopub.status.idle": "2025-09-22T08:51:06.554484Z",
     "shell.execute_reply": "2025-09-22T08:51:06.553233Z",
     "shell.execute_reply.started": "2025-09-22T08:50:59.845971Z"
    }
   },
   "outputs": [
    {
     "name": "stdout",
     "output_type": "stream",
     "text": [
      "[INFO] 2025-09-22 08:50:59,850 - Medical Chatbot G-Version - Query language: code=fr (French), conf≈1.00\n",
      "[INFO] 2025-09-22 08:50:59,851 - Medical Chatbot G-Version - Loading PDF: Drug Information Sheet.pdf\n",
      "[INFO] 2025-09-22 08:50:59,886 - Medical Chatbot G-Version - Token check: total=392, budget=128000, fits=True\n",
      "[INFO] 2025-09-22 08:51:06,534 - Medical Chatbot G-Version - Language verify OK: expected=fr, detected=fr\n",
      "[INFO] 2025-09-22 08:51:06,541 - Medical Chatbot G-Version - Language verify OK: expected=fr, detected=fr\n",
      "\n",
      "=== Answer ===\n",
      "Voici un résumé du document en français en environ 200 mots :\n",
      "\n",
      "Cette fiche d'information sur le remdesivir, un antiviral utilisé dans le traitement du COVID-19, fournit des détails essentiels aux cliniciens. Le remdesivir est un inhibiteur de l'ARN polymérase ARN-dépendante qui réduit la réplication du SARS-CoV-2. \n",
      "\n",
      "Il est indiqué pour les patients hospitalisés atteints de COVID-19 confirmé nécessitant une oxygénothérapie mais pas de ventilation invasive. \n",
      "\n",
      "La posologie recommandée est une dose de charge de 200 mg IV le premier jour, suivie d'une dose d'entretien de 100 mg IV par jour pendant 4 à 9 jours selon la réponse clinique.\n",
      "\n",
      "Les effets indésirables principaux sont des nausées et une élévation des transaminases. Des réactions d'hypersensibilité et une dysfonction rénale sont rares mais possibles.\n",
      "\n",
      "Un suivi de la fonction hépatique et rénale est nécessaire avant et pendant le traitement. \n",
      "\n",
      "Le médicament est contre-indiqué en cas d'insuffisance rénale sévère (DFGe <30 mL/min) ou d'hypersensibilité connue au remdesivir.\n",
      "\n",
      "Ce document fournit aux cliniciens les informations essentielles sur le mécanisme d'action, les indications, la posologie, les effets secondaires et les exigences de surveillance du remdesivir dans le traitement du COVID-19.\n"
     ]
    }
   ],
   "source": [
    "if __name__ == \"__main__\":\n",
    "    example_file = \"Drug Information Sheet.pdf\"\n",
    "    example_query = \"Résumez l'ensemble du document en 200 mots\" # French\n",
    "    example_session = os.environ.get(\"EXAMPLE_SESSION_ID\", \"demo-session-1\")\n",
    "\n",
    "    # Enable history for demo by setting CONVO_HISTORY_ENABLED=true\n",
    "    try:\n",
    "        response = run_direct_document_qa(\n",
    "            example_file,\n",
    "            example_query,\n",
    "            MODEL_CONTEXT_TOKENS,\n",
    "            session_id=example_session\n",
    "        )\n",
    "        print(\"\\n=== Answer ===\")\n",
    "        print(response)\n",
    "    except Exception as e:\n",
    "        logger.exception(\"Pipeline execution failed.\")\n",
    "        raise"
   ]
  },
  {
   "cell_type": "markdown",
   "id": "711d541d-636b-4d99-b5a1-93d1a6286baf",
   "metadata": {},
   "source": [
    "## Test Query- German"
   ]
  },
  {
   "cell_type": "code",
   "execution_count": 46,
   "id": "50a64bf5-161f-43f1-8fc2-2523886d6d55",
   "metadata": {
    "execution": {
     "iopub.execute_input": "2025-09-22T08:51:06.555685Z",
     "iopub.status.busy": "2025-09-22T08:51:06.555446Z",
     "iopub.status.idle": "2025-09-22T08:51:14.365668Z",
     "shell.execute_reply": "2025-09-22T08:51:14.364467Z",
     "shell.execute_reply.started": "2025-09-22T08:51:06.555665Z"
    }
   },
   "outputs": [
    {
     "name": "stdout",
     "output_type": "stream",
     "text": [
      "[INFO] 2025-09-22 08:51:06,559 - Medical Chatbot G-Version - Query language: code=de (German), conf≈1.00\n",
      "[INFO] 2025-09-22 08:51:06,562 - Medical Chatbot G-Version - Loading PDF: Drug Information Sheet.pdf\n",
      "[INFO] 2025-09-22 08:51:06,596 - Medical Chatbot G-Version - Token check: total=396, budget=128000, fits=True\n",
      "[INFO] 2025-09-22 08:51:14,349 - Medical Chatbot G-Version - Language verify OK: expected=de, detected=de\n",
      "[INFO] 2025-09-22 08:51:14,354 - Medical Chatbot G-Version - Language verify OK: expected=de, detected=de\n",
      "\n",
      "=== Answer ===\n",
      "Dieses Arzneimittelinformationsblatt bietet Ärzten Details zu Remdesivir, einem antiviralen Medikament zur Behandlung von COVID-19. Remdesivir ist ein Nukleosidanalogon, das die virale RNA-abhängige RNA-Polymerase hemmt und so die Replikation von SARS-CoV-2 reduziert. Es ist indiziert für hospitalisierte COVID-19-Patienten, die zusätzlichen Sauerstoff benötigen, aber nicht invasiv beatmet werden.\n",
      "\n",
      "Die Dosierung besteht aus einer Initialdosis von 200 mg intravenös am ersten Tag, gefolgt von einer Erhaltungsdosis von 100 mg täglich für 4 bis 9 Tage, abhängig vom klinischen Ansprechen. Zu den Nebenwirkungen gehören Übelkeit und erhöhte Transaminasen, selten auch Überempfindlichkeitsreaktionen und Nierenfunktionsstörungen.\n",
      "\n",
      "Vor und während der Behandlung sollten Leber- und Nierenfunktionstests durchgeführt werden. Kontraindiziert ist Remdesivir bei schwerer Nierenfunktionsstörung (eGFR <30 mL/min) und bekannter Überempfindlichkeit gegen den Wirkstoff.\n",
      "\n",
      "Das Dokument enthält auch Metadaten wie Dokumententyp, Fachgebiet und Schlüsselwörter sowie zwei Literaturverweise zu Studien über Remdesivir bei der COVID-19-Behandlung und dessen Sicherheitsüberwachung bei hospitalisierten Patienten.\n"
     ]
    }
   ],
   "source": [
    "if __name__ == \"__main__\":\n",
    "    example_file = \"Drug Information Sheet.pdf\"\n",
    "    example_query = \"Fassen Sie das gesamte Dokument in 200 Wörtern zusammen\" # German\n",
    "    example_session = os.environ.get(\"EXAMPLE_SESSION_ID\", \"demo-session-1\")\n",
    "\n",
    "    # Enable history for demo by setting CONVO_HISTORY_ENABLED=true\n",
    "    try:\n",
    "        response = run_direct_document_qa(\n",
    "            example_file,\n",
    "            example_query,\n",
    "            MODEL_CONTEXT_TOKENS,\n",
    "            session_id=example_session\n",
    "        )\n",
    "        print(\"\\n=== Answer ===\")\n",
    "        print(response)\n",
    "    except Exception as e:\n",
    "        logger.exception(\"Pipeline execution failed.\")\n",
    "        raise"
   ]
  },
  {
   "cell_type": "markdown",
   "id": "966c4bda-890c-4c2d-ba42-017d753d7927",
   "metadata": {},
   "source": [
    "## Test Query- Greek"
   ]
  },
  {
   "cell_type": "code",
   "execution_count": 47,
   "id": "0538d891-ac20-4163-8570-b8d2eefb4db9",
   "metadata": {
    "execution": {
     "iopub.execute_input": "2025-09-22T08:51:14.366772Z",
     "iopub.status.busy": "2025-09-22T08:51:14.366521Z",
     "iopub.status.idle": "2025-09-22T08:51:25.919982Z",
     "shell.execute_reply": "2025-09-22T08:51:25.919147Z",
     "shell.execute_reply.started": "2025-09-22T08:51:14.366752Z"
    }
   },
   "outputs": [
    {
     "name": "stdout",
     "output_type": "stream",
     "text": [
      "[INFO] 2025-09-22 08:51:14,368 - Medical Chatbot G-Version - Query language: code=el (Greek), conf≈1.00\n",
      "[INFO] 2025-09-22 08:51:14,371 - Medical Chatbot G-Version - Loading PDF: Drug Information Sheet.pdf\n",
      "[INFO] 2025-09-22 08:51:14,405 - Medical Chatbot G-Version - Token check: total=421, budget=128000, fits=True\n",
      "[INFO] 2025-09-22 08:51:25,902 - Medical Chatbot G-Version - Language verify OK: expected=el, detected=el\n",
      "[INFO] 2025-09-22 08:51:25,907 - Medical Chatbot G-Version - Language verify OK: expected=el, detected=el\n",
      "\n",
      "=== Answer ===\n",
      "Το έγγραφο αυτό είναι ένα φύλλο πληροφοριών φαρμάκου για το remdesivir, ένα αντιιικό φάρμακο για τη θεραπεία της COVID-19. Το remdesivir ανήκει στην κατηγορία των νουκλεοσιδικών αναλόγων που αναστέλλουν την RNA πολυμεράση. Ο μηχανισμός δράσης του είναι η αναστολή της ιικής RNA-εξαρτώμενης RNA πολυμεράσης, μειώνοντας έτσι την αναπαραγωγή του SARS-CoV-2.\n",
      "\n",
      "Ενδείκνυται για νοσηλευόμενους ασθενείς με επιβεβαιωμένη COVID-19 που χρειάζονται συμπληρωματικό οξυγόνο αλλά δεν βρίσκονται σε επεμβατικό αερισμό. Η δοσολογία περιλαμβάνει μια δόση εφόδου 200 mg ενδοφλεβίως την πρώτη ημέρα, ακολουθούμενη από δόση συντήρησης 100 mg ημερησίως για 4 έως 9 ημέρες.\n",
      "\n",
      "Οι ανεπιθύμητες ενέργειες περιλαμβάνουν ναυτία και αύξηση των τρανσαμινασών, ενώ σπανιότερα μπορεί να εμφανιστούν αντιδράσεις υπερευαισθησίας και νεφρική δυσλειτουργία. Απαιτείται παρακολούθηση της ηπατικής και νεφρικής λειτουργίας. Αντενδείκνυται σε σοβαρή νεφρική ανεπάρκεια και γνωστή υπερευαισθησία στο φάρμακο.\n",
      "\n",
      "Το έγγραφο περιλαμβάνει επίσης μεταδεδομένα και βιβλιογραφικές αναφορές σχετικά με τη χρήση και την ασφάλεια του remdesivir.\n"
     ]
    }
   ],
   "source": [
    "if __name__ == \"__main__\":\n",
    "    example_file = \"Drug Information Sheet.pdf\"\n",
    "    example_query = \"Συνοψίστε ολόκληρο το έγγραφο σε 200 λέξεις\" # Greek\n",
    "    example_session = os.environ.get(\"EXAMPLE_SESSION_ID\", \"demo-session-1\")\n",
    "\n",
    "    # Enable history for demo by setting CONVO_HISTORY_ENABLED=true\n",
    "    try:\n",
    "        response = run_direct_document_qa(\n",
    "            example_file,\n",
    "            example_query,\n",
    "            MODEL_CONTEXT_TOKENS,\n",
    "            session_id=example_session\n",
    "        )\n",
    "        print(\"\\n=== Answer ===\")\n",
    "        print(response)\n",
    "    except Exception as e:\n",
    "        logger.exception(\"Pipeline execution failed.\")\n",
    "        raise"
   ]
  },
  {
   "cell_type": "markdown",
   "id": "5c541ba2-8430-4ab3-b4a1-75799aa10caf",
   "metadata": {},
   "source": [
    "## Test Query- Gujarati"
   ]
  },
  {
   "cell_type": "code",
   "execution_count": 48,
   "id": "d27e3ae0-b6d7-4c5b-97e3-580c69a8c13d",
   "metadata": {
    "execution": {
     "iopub.execute_input": "2025-09-22T08:51:25.921379Z",
     "iopub.status.busy": "2025-09-22T08:51:25.920940Z",
     "iopub.status.idle": "2025-09-22T08:51:36.527422Z",
     "shell.execute_reply": "2025-09-22T08:51:36.526680Z",
     "shell.execute_reply.started": "2025-09-22T08:51:25.921355Z"
    }
   },
   "outputs": [
    {
     "name": "stdout",
     "output_type": "stream",
     "text": [
      "[INFO] 2025-09-22 08:51:25,923 - Medical Chatbot G-Version - Query language: code=gu (Gujarati), conf≈1.00\n",
      "[INFO] 2025-09-22 08:51:25,924 - Medical Chatbot G-Version - Loading PDF: Drug Information Sheet.pdf\n",
      "[INFO] 2025-09-22 08:51:25,957 - Medical Chatbot G-Version - Token check: total=456, budget=128000, fits=True\n",
      "[INFO] 2025-09-22 08:51:36,512 - Medical Chatbot G-Version - Language verify OK: expected=gu, detected=gu\n",
      "[INFO] 2025-09-22 08:51:36,516 - Medical Chatbot G-Version - Language verify OK: expected=gu, detected=gu\n",
      "\n",
      "=== Answer ===\n",
      "આ દસ્તાવેજ રેમડેસિવિર નામની એન્ટિવાયરલ દવા વિશે માહિતી આપે છે. તે COVID-19ના સારવાર માટે વપરાય છે. રેમડેસિવિર વાયરલ RNA પોલીમરેઝને રોકીને SARS-CoV-2નું પ્રજનન ઘટાડે છે. તે હોસ્પિટલમાં દાખલ થયેલા COVID-19ના દર્દીઓ માટે વપરાય છે જેમને ઓક્સિજનની જરૂર હોય પણ વેન્ટિલેટર પર ન હોય. \n",
      "\n",
      "પ્રથમ દિવસે 200 mg IV અને પછીના 4-9 દિવસ સુધી રોજ 100 mg IV આપવામાં આવે છે. આડઅસરોમાં ઉબકા અને લિવરના એન્ઝાઇમ્સમાં વધારો થઈ શકે છે. ભાગ્યે જ એલર્જીક પ્રતિક્રિયા અને કિડનીની સમસ્યા થઈ શકે છે. \n",
      "\n",
      "સારવાર દરમિયાન લિવર અને કિડનીના કાર્યની તપાસ કરવી જોઈએ. ગંભીર કિડનીની બિમારી અને રેમડેસિવિર પ્રત્યે એલર્જી ધરાવતા દર્દીઓમાં આ દવા આપવી જોઈએ નહીં.\n"
     ]
    }
   ],
   "source": [
    "if __name__ == \"__main__\":\n",
    "    example_file = \"Drug Information Sheet.pdf\"\n",
    "    example_query = \"સંપૂર્ણ દસ્તાવેજને 200 શબ્દોમાં સંક્ષિપ્ત કરો\" # Gujarati\n",
    "    example_session = os.environ.get(\"EXAMPLE_SESSION_ID\", \"demo-session-1\")\n",
    "\n",
    "    # Enable history for demo by setting CONVO_HISTORY_ENABLED=true\n",
    "    try:\n",
    "        response = run_direct_document_qa(\n",
    "            example_file,\n",
    "            example_query,\n",
    "            MODEL_CONTEXT_TOKENS,\n",
    "            session_id=example_session\n",
    "        )\n",
    "        print(\"\\n=== Answer ===\")\n",
    "        print(response)\n",
    "    except Exception as e:\n",
    "        logger.exception(\"Pipeline execution failed.\")\n",
    "        raise"
   ]
  },
  {
   "cell_type": "markdown",
   "id": "92f9a19b-176f-4d81-9254-f8089d71a59f",
   "metadata": {},
   "source": [
    "## Test Query- Hebrew"
   ]
  },
  {
   "cell_type": "code",
   "execution_count": 49,
   "id": "98dbce2b-1a9e-4971-a868-3eed090358ef",
   "metadata": {
    "execution": {
     "iopub.execute_input": "2025-09-22T08:51:36.528514Z",
     "iopub.status.busy": "2025-09-22T08:51:36.528280Z",
     "iopub.status.idle": "2025-09-22T08:51:47.825977Z",
     "shell.execute_reply": "2025-09-22T08:51:47.825216Z",
     "shell.execute_reply.started": "2025-09-22T08:51:36.528492Z"
    }
   },
   "outputs": [
    {
     "name": "stdout",
     "output_type": "stream",
     "text": [
      "[INFO] 2025-09-22 08:51:36,530 - Medical Chatbot G-Version - Query language: code=he (Hebrew), conf≈1.00\n",
      "[INFO] 2025-09-22 08:51:36,532 - Medical Chatbot G-Version - Loading PDF: Drug Information Sheet.pdf\n",
      "[INFO] 2025-09-22 08:51:36,564 - Medical Chatbot G-Version - Token check: total=406, budget=128000, fits=True\n",
      "[INFO] 2025-09-22 08:51:47,811 - Medical Chatbot G-Version - Language verify OK: expected=he, detected=he\n",
      "[INFO] 2025-09-22 08:51:47,814 - Medical Chatbot G-Version - Language verify OK: expected=he, detected=he\n",
      "\n",
      "=== Answer ===\n",
      "מסמך זה הוא דף מידע תרופתי על רמדסיביר, תרופה אנטי-ויראלית לטיפול ב-COVID-19. הוא מספק מידע קליני מפורט לרופאים.\n",
      "\n",
      "רמדסיביר הוא מעכב RNA פולימראז מסוג אנלוג נוקלאוזיד. הוא פועל על ידי עיכוב ה-RNA פולימראז התלוי ב-RNA של הנגיף, ובכך מפחית את שכפול SARS-CoV-2.\n",
      "\n",
      "התרופה מיועדת לחולים מאושפזים עם COVID-19 מאומת הזקוקים לחמצן נוסף, אך לא על הנשמה פולשנית.\n",
      "\n",
      "המינון כולל מנת העמסה של 200 מ\"ג ביום הראשון, ולאחר מכן 100 מ\"ג ליום למשך 4-9 ימים.\n",
      "\n",
      "תופעות לוואי אפשריות כוללות בחילה, עליה באנזימי כבד, ובמקרים נדירים תגובות רגישות יתר ופגיעה כלייתית.\n",
      "\n",
      "יש לבצע בדיקות תפקודי כבד וכליות לפני הטיפול ובמהלכו.\n",
      "\n",
      "התרופה נגדית במקרים של פגיעה כלייתית חמורה (eGFR <30 מ\"ל/דקה) או רגישות יתר ידועה לרמדסיביר.\n",
      "\n",
      "המסמך כולל גם הפניות למאמרים מדעיים רלוונטיים.\n"
     ]
    }
   ],
   "source": [
    "if __name__ == \"__main__\":\n",
    "    example_file = \"Drug Information Sheet.pdf\"\n",
    "    example_query = \"סכם את כל המסמך ב-200 מילים\" # Hebrew\n",
    "    example_session = os.environ.get(\"EXAMPLE_SESSION_ID\", \"demo-session-1\")\n",
    "\n",
    "    # Enable history for demo by setting CONVO_HISTORY_ENABLED=true\n",
    "    try:\n",
    "        response = run_direct_document_qa(\n",
    "            example_file,\n",
    "            example_query,\n",
    "            MODEL_CONTEXT_TOKENS,\n",
    "            session_id=example_session\n",
    "        )\n",
    "        print(\"\\n=== Answer ===\")\n",
    "        print(response)\n",
    "    except Exception as e:\n",
    "        logger.exception(\"Pipeline execution failed.\")\n",
    "        raise"
   ]
  },
  {
   "cell_type": "markdown",
   "id": "be79a333-099e-4eb7-b457-84aa5321d1bf",
   "metadata": {},
   "source": [
    "## Test Query- Hindi"
   ]
  },
  {
   "cell_type": "code",
   "execution_count": 50,
   "id": "e0f8f95a-b71b-4de0-a50c-211384090b87",
   "metadata": {
    "execution": {
     "iopub.execute_input": "2025-09-22T08:51:47.827582Z",
     "iopub.status.busy": "2025-09-22T08:51:47.826912Z",
     "iopub.status.idle": "2025-09-22T08:51:59.536698Z",
     "shell.execute_reply": "2025-09-22T08:51:59.535878Z",
     "shell.execute_reply.started": "2025-09-22T08:51:47.827555Z"
    }
   },
   "outputs": [
    {
     "name": "stdout",
     "output_type": "stream",
     "text": [
      "[INFO] 2025-09-22 08:51:47,830 - Medical Chatbot G-Version - Query language: code=hi (Hindi), conf≈1.00\n",
      "[INFO] 2025-09-22 08:51:47,831 - Medical Chatbot G-Version - Loading PDF: Drug Information Sheet.pdf\n",
      "[INFO] 2025-09-22 08:51:47,862 - Medical Chatbot G-Version - Token check: total=422, budget=128000, fits=True\n",
      "[INFO] 2025-09-22 08:51:59,521 - Medical Chatbot G-Version - Language verify OK: expected=hi, detected=hi\n",
      "[INFO] 2025-09-22 08:51:59,526 - Medical Chatbot G-Version - Language verify OK: expected=hi, detected=hi\n",
      "\n",
      "=== Answer ===\n",
      "यह दस्तावेज़ रेमडेसिविर नामक एंटीवायरल दवा के बारे में जानकारी प्रदान करता है, जो COVID-19 के इलाज के लिए उपयोग की जाती है। इसमें निम्नलिखित मुख्य बिंदु शामिल हैं:\n",
      "\n",
      "- रेमडेसिविर एक न्यूक्लियोसाइड एनालॉग RNA पॉलीमरेज़ अवरोधक है।\n",
      "- यह SARS-CoV-2 वायरस की प्रतिकृति को कम करता है।\n",
      "- यह उन अस्पताल में भर्ती COVID-19 रोगियों के लिए निर्देशित है जिन्हें ऑक्सीजन की आवश्यकता है लेकिन वेंटिलेटर पर नहीं हैं।\n",
      "- खुराक: पहले दिन 200 mg IV लोडिंग डोज, उसके बाद 4-9 दिनों तक 100 mg IV दैनिक।\n",
      "- दुष्प्रभाव: मतली, ट्रांसएमिनेज में वृद्धि, दुर्लभ मामलों में अतिसंवेदनशीलता प्रतिक्रियाएं और गुर्दे की खराबी।\n",
      "- निगरानी: उपचार के दौरान लीवर और गुर्दे के कार्य की जांच।\n",
      "- प्रतिकूलताएं: गंभीर गुर्दे की खराबी और रेमडेसिविर के प्रति ज्ञात अतिसंवेदनशीलता।\n",
      "\n",
      "यह दस्तावेज़ चिकित्सकों को रेमडेसिविर के उपयोग और प्रबंधन के बारे में महत्वपूर्ण जानकारी प्रदान करता है।\n"
     ]
    }
   ],
   "source": [
    "if __name__ == \"__main__\":\n",
    "    example_file = \"Drug Information Sheet.pdf\"\n",
    "    example_query = \"पूरे दस्तावेज़ को 200 शब्दों में संक्षेप करें\" # Hindi\n",
    "    example_session = os.environ.get(\"EXAMPLE_SESSION_ID\", \"demo-session-1\")\n",
    "\n",
    "    # Enable history for demo by setting CONVO_HISTORY_ENABLED=true\n",
    "    try:\n",
    "        response = run_direct_document_qa(\n",
    "            example_file,\n",
    "            example_query,\n",
    "            MODEL_CONTEXT_TOKENS,\n",
    "            session_id=example_session\n",
    "        )\n",
    "        print(\"\\n=== Answer ===\")\n",
    "        print(response)\n",
    "    except Exception as e:\n",
    "        logger.exception(\"Pipeline execution failed.\")\n",
    "        raise"
   ]
  },
  {
   "cell_type": "markdown",
   "id": "db9f9512-e00b-4b85-8e59-327ee0e14ec3",
   "metadata": {},
   "source": [
    "## Test Query- Hungarian"
   ]
  },
  {
   "cell_type": "code",
   "execution_count": 51,
   "id": "8a2de233-facb-492a-93e5-f15bc3097a28",
   "metadata": {
    "execution": {
     "iopub.execute_input": "2025-09-22T08:51:59.538259Z",
     "iopub.status.busy": "2025-09-22T08:51:59.537999Z",
     "iopub.status.idle": "2025-09-22T08:52:07.468628Z",
     "shell.execute_reply": "2025-09-22T08:52:07.467707Z",
     "shell.execute_reply.started": "2025-09-22T08:51:59.538239Z"
    }
   },
   "outputs": [
    {
     "name": "stdout",
     "output_type": "stream",
     "text": [
      "[INFO] 2025-09-22 08:51:59,541 - Medical Chatbot G-Version - Query language: code=hu (Hungarian), conf≈1.00\n",
      "[INFO] 2025-09-22 08:51:59,542 - Medical Chatbot G-Version - Loading PDF: Drug Information Sheet.pdf\n",
      "[INFO] 2025-09-22 08:51:59,575 - Medical Chatbot G-Version - Token check: total=398, budget=128000, fits=True\n",
      "[INFO] 2025-09-22 08:52:07,451 - Medical Chatbot G-Version - Language verify OK: expected=hu, detected=hu\n",
      "[INFO] 2025-09-22 08:52:07,455 - Medical Chatbot G-Version - Language verify OK: expected=hu, detected=hu\n",
      "\n",
      "=== Answer ===\n",
      "Ez a dokumentum egy gyógyszerinformációs lap a remdesivirről, amely egy antivirális szer a COVID-19 kezelésére. A fő pontok:\n",
      "\n",
      "- A remdesivir egy nukleozid-analóg RNS-polimeráz-gátló, amely gátolja a SARS-CoV-2 vírus replikációját.\n",
      "\n",
      "- Javallt kórházban kezelt, igazolt COVID-19 fertőzött betegeknek, akik kiegészítő oxigént igényelnek, de nincsenek invazív lélegeztetésen.\n",
      "\n",
      "- Adagolás: 200 mg IV telítő dózis az 1. napon, majd 100 mg IV naponta 4-9 napig a klinikai válasz függvényében.\n",
      "\n",
      "- Mellékhatások: hányinger, transzamináz-emelkedés, ritkán túlérzékenységi reakciók és vesekárosodás.\n",
      "\n",
      "- Monitorozás: kiindulási máj- és vesefunkciós vizsgálatok, majd rendszeres ellenőrzés a kezelés során.\n",
      "\n",
      "- Ellenjavallatok: súlyos vesekárosodás (eGFR <30 mL/perc) és ismert túlérzékenység a remdesivire.\n",
      "\n",
      "A dokumentum tartalmazza a gyógyszer osztályát, hatásmechanizmusát, javallatait, adagolását, mellékhatásait, monitorozási követelményeit és ellenjavallatait. Két hivatkozást is tartalmaz további információkért.\n"
     ]
    }
   ],
   "source": [
    "if __name__ == \"__main__\":\n",
    "    example_file = \"Drug Information Sheet.pdf\"\n",
    "    example_query = \"Foglalja össze az egész dokumentumot 200 szóban\" # Hungarian\n",
    "    example_session = os.environ.get(\"EXAMPLE_SESSION_ID\", \"demo-session-1\")\n",
    "\n",
    "    # Enable history for demo by setting CONVO_HISTORY_ENABLED=true\n",
    "    try:\n",
    "        response = run_direct_document_qa(\n",
    "            example_file,\n",
    "            example_query,\n",
    "            MODEL_CONTEXT_TOKENS,\n",
    "            session_id=example_session\n",
    "        )\n",
    "        print(\"\\n=== Answer ===\")\n",
    "        print(response)\n",
    "    except Exception as e:\n",
    "        logger.exception(\"Pipeline execution failed.\")\n",
    "        raise"
   ]
  },
  {
   "cell_type": "markdown",
   "id": "4512b490-c315-4a6e-8991-4465dd45ed74",
   "metadata": {},
   "source": [
    "## Test Query- Indonesian "
   ]
  },
  {
   "cell_type": "code",
   "execution_count": 52,
   "id": "7f5080a4-080d-481c-8843-f3931c463341",
   "metadata": {
    "execution": {
     "iopub.execute_input": "2025-09-22T08:52:07.470048Z",
     "iopub.status.busy": "2025-09-22T08:52:07.469556Z",
     "iopub.status.idle": "2025-09-22T08:52:14.252744Z",
     "shell.execute_reply": "2025-09-22T08:52:14.252083Z",
     "shell.execute_reply.started": "2025-09-22T08:52:07.470025Z"
    }
   },
   "outputs": [
    {
     "name": "stdout",
     "output_type": "stream",
     "text": [
      "[INFO] 2025-09-22 08:52:07,473 - Medical Chatbot G-Version - Query language: code=id (Indonesian / Malay), conf≈1.00\n",
      "[INFO] 2025-09-22 08:52:07,474 - Medical Chatbot G-Version - Loading PDF: Drug Information Sheet.pdf\n",
      "[INFO] 2025-09-22 08:52:07,620 - Medical Chatbot G-Version - Token check: total=391, budget=128000, fits=True\n",
      "[INFO] 2025-09-22 08:52:14,235 - Medical Chatbot G-Version - Language verify OK: expected=id, detected=id\n",
      "[INFO] 2025-09-22 08:52:14,241 - Medical Chatbot G-Version - Language verify OK: expected=id, detected=id\n",
      "\n",
      "=== Answer ===\n",
      "Dokumen ini adalah lembar informasi obat tentang remdesivir, sebuah agen antivirus untuk pengobatan COVID-19. Remdesivir adalah penghambat RNA polimerase analog nukleosida yang bekerja dengan menghambat RNA polimerase RNA-dependen virus, mengurangi replikasi SARS-CoV-2. \n",
      "\n",
      "Indikasinya adalah untuk pasien rawat inap dengan COVID-19 yang membutuhkan oksigen tambahan tetapi tidak menggunakan ventilasi invasif. Dosis muatannya adalah 200 mg IV pada Hari 1, diikuti dosis pemeliharaan 100 mg IV setiap hari selama 4-9 hari tergantung respons klinis.\n",
      "\n",
      "Efek samping yang mungkin terjadi meliputi mual dan peningkatan transaminase. Reaksi hipersensitivitas dan disfungsi ginjal jarang terjadi. Pemantauan fungsi hati dan ginjal diperlukan sebelum dan selama pengobatan.\n",
      "\n",
      "Remdesivir dikontraindikasikan pada gangguan ginjal berat (eGFR <30 mL/menit) dan hipersensitivitas yang diketahui terhadap obat ini.\n",
      "\n",
      "Dokumen ini juga mencantumkan metadata seperti jenis dokumen, spesialisasi, kata kunci, dan tanggal, serta dua referensi terkait penggunaan dan pemantauan keamanan remdesivir pada pasien rawat inap.\n"
     ]
    }
   ],
   "source": [
    "if __name__ == \"__main__\":\n",
    "    example_file = \"Drug Information Sheet.pdf\"\n",
    "    example_query = \"Ringkas seluruh dokumen dalam 200 kata\" # Indonesian \n",
    "    example_session = os.environ.get(\"EXAMPLE_SESSION_ID\", \"demo-session-1\")\n",
    "\n",
    "    # Enable history for demo by setting CONVO_HISTORY_ENABLED=true\n",
    "    try:\n",
    "        response = run_direct_document_qa(\n",
    "            example_file,\n",
    "            example_query,\n",
    "            MODEL_CONTEXT_TOKENS,\n",
    "            session_id=example_session\n",
    "        )\n",
    "        print(\"\\n=== Answer ===\")\n",
    "        print(response)\n",
    "    except Exception as e:\n",
    "        logger.exception(\"Pipeline execution failed.\")\n",
    "        raise"
   ]
  },
  {
   "cell_type": "markdown",
   "id": "688cf339-eced-4bc9-b0b8-a03613e5e888",
   "metadata": {},
   "source": [
    "## Test Query- Italian"
   ]
  },
  {
   "cell_type": "code",
   "execution_count": 53,
   "id": "37e250c1-d9b2-4cc4-8ed0-49a3ccda3619",
   "metadata": {
    "execution": {
     "iopub.execute_input": "2025-09-22T08:52:14.253870Z",
     "iopub.status.busy": "2025-09-22T08:52:14.253638Z",
     "iopub.status.idle": "2025-09-22T08:52:20.529337Z",
     "shell.execute_reply": "2025-09-22T08:52:20.528558Z",
     "shell.execute_reply.started": "2025-09-22T08:52:14.253851Z"
    }
   },
   "outputs": [
    {
     "name": "stdout",
     "output_type": "stream",
     "text": [
      "[INFO] 2025-09-22 08:52:14,258 - Medical Chatbot G-Version - Query language: code=it (Italian), conf≈1.00\n",
      "[INFO] 2025-09-22 08:52:14,260 - Medical Chatbot G-Version - Loading PDF: Drug Information Sheet.pdf\n",
      "[INFO] 2025-09-22 08:52:14,291 - Medical Chatbot G-Version - Token check: total=393, budget=128000, fits=True\n",
      "[INFO] 2025-09-22 08:52:20,513 - Medical Chatbot G-Version - Language verify OK: expected=it, detected=it\n",
      "[INFO] 2025-09-22 08:52:20,518 - Medical Chatbot G-Version - Language verify OK: expected=it, detected=it\n",
      "\n",
      "=== Answer ===\n",
      "Questo documento è una scheda informativa sul farmaco remdesivir, un agente antivirale utilizzato nel trattamento del COVID-19. Il remdesivir è un inibitore della RNA polimerasi RNA-dipendente che riduce la replicazione del virus SARS-CoV-2. È indicato per pazienti ospedalizzati con COVID-19 confermato che richiedono ossigeno supplementare ma non ventilazione invasiva.\n",
      "\n",
      "Il dosaggio prevede una dose di carico di 200 mg per via endovenosa il primo giorno, seguita da una dose di mantenimento di 100 mg al giorno per 4-9 giorni, in base alla risposta clinica.\n",
      "\n",
      "Gli effetti avversi più comuni includono nausea ed elevazione delle transaminasi. Raramente possono verificarsi reazioni di ipersensibilità e disfunzione renale.\n",
      "\n",
      "È necessario monitorare la funzionalità epatica e renale prima e durante il trattamento. Il farmaco è controindicato in pazienti con grave compromissione renale (eGFR <30 mL/min) o ipersensibilità nota al remdesivir.\n",
      "\n",
      "Il documento fornisce anche riferimenti bibliografici per ulteriori approfondimenti sull'uso e il monitoraggio della sicurezza del remdesivir nei pazienti ospedalizzati.\n"
     ]
    }
   ],
   "source": [
    "if __name__ == \"__main__\":\n",
    "    example_file = \"Drug Information Sheet.pdf\"\n",
    "    example_query = \"Riassumi l'intero documento in 200 parole\" # Italian\n",
    "    example_session = os.environ.get(\"EXAMPLE_SESSION_ID\", \"demo-session-1\")\n",
    "\n",
    "    # Enable history for demo by setting CONVO_HISTORY_ENABLED=true\n",
    "    try:\n",
    "        response = run_direct_document_qa(\n",
    "            example_file,\n",
    "            example_query,\n",
    "            MODEL_CONTEXT_TOKENS,\n",
    "            session_id=example_session\n",
    "        )\n",
    "        print(\"\\n=== Answer ===\")\n",
    "        print(response)\n",
    "    except Exception as e:\n",
    "        logger.exception(\"Pipeline execution failed.\")\n",
    "        raise"
   ]
  },
  {
   "cell_type": "markdown",
   "id": "56888b5a-573c-4d8f-9c68-07a325aecf0f",
   "metadata": {},
   "source": [
    "## Test Query- Japanese"
   ]
  },
  {
   "cell_type": "code",
   "execution_count": 54,
   "id": "55618b40-0c37-4176-af1b-b2e4217eac6c",
   "metadata": {
    "execution": {
     "iopub.execute_input": "2025-09-22T08:52:20.530780Z",
     "iopub.status.busy": "2025-09-22T08:52:20.530377Z",
     "iopub.status.idle": "2025-09-22T08:52:27.622179Z",
     "shell.execute_reply": "2025-09-22T08:52:27.621235Z",
     "shell.execute_reply.started": "2025-09-22T08:52:20.530745Z"
    }
   },
   "outputs": [
    {
     "name": "stdout",
     "output_type": "stream",
     "text": [
      "[INFO] 2025-09-22 08:52:20,533 - Medical Chatbot G-Version - Query language: code=ja (Japanese), conf≈1.00\n",
      "[INFO] 2025-09-22 08:52:20,534 - Medical Chatbot G-Version - Loading PDF: Drug Information Sheet.pdf\n",
      "[INFO] 2025-09-22 08:52:20,567 - Medical Chatbot G-Version - Token check: total=395, budget=128000, fits=True\n",
      "[INFO] 2025-09-22 08:52:27,605 - Medical Chatbot G-Version - Language verify OK: expected=ja, detected=ja\n",
      "[INFO] 2025-09-22 08:52:27,609 - Medical Chatbot G-Version - Language verify OK: expected=ja, detected=ja\n",
      "\n",
      "=== Answer ===\n",
      "この文書は、COVID-19治療に使用される抗ウイルス薬レムデシビルに関する薬剤情報シートです。\n",
      "\n",
      "レムデシビルは、RNA依存性RNAポリメラーゼを阻害してSARS-CoV-2の複製を減少させる核酸アナログです。\n",
      "\n",
      "適応は、補助酸素を必要とするが侵襲的人工呼吸器を使用していないCOVID-19入院患者です。\n",
      "\n",
      "投与量は、初日に200 mg静脈内投与し、その後4〜9日間100 mg/日を投与します。\n",
      "\n",
      "副作用には悪心や肝酵素上昇があり、まれに過敏反応や腎機能障害が起こる可能性があります。\n",
      "\n",
      "治療中は肝機能と腎機能のモニタリングが必要です。\n",
      "\n",
      "重度の腎機能障害(eGFR <30 mL/min)やレムデシビルに対する過敏症がある患者には禁忌です。\n",
      "\n",
      "この情報シートは、臨床医にレムデシビルの作用機序、適応、投与量、副作用、モニタリング要件に関する詳細を提供することを目的としています。\n"
     ]
    }
   ],
   "source": [
    "if __name__ == \"__main__\":\n",
    "    example_file = \"Drug Information Sheet.pdf\"\n",
    "    example_query = \"文書全体を200語で要約してください\" # Japanese\n",
    "    example_session = os.environ.get(\"EXAMPLE_SESSION_ID\", \"demo-session-1\")\n",
    "\n",
    "    # Enable history for demo by setting CONVO_HISTORY_ENABLED=true\n",
    "    try:\n",
    "        response = run_direct_document_qa(\n",
    "            example_file,\n",
    "            example_query,\n",
    "            MODEL_CONTEXT_TOKENS,\n",
    "            session_id=example_session\n",
    "        )\n",
    "        print(\"\\n=== Answer ===\")\n",
    "        print(response)\n",
    "    except Exception as e:\n",
    "        logger.exception(\"Pipeline execution failed.\")\n",
    "        raise"
   ]
  },
  {
   "cell_type": "markdown",
   "id": "2762f615-6b01-4104-8d8d-450faf5167a7",
   "metadata": {},
   "source": [
    "## Test Query- Kannada"
   ]
  },
  {
   "cell_type": "code",
   "execution_count": 55,
   "id": "b62ef032-193d-4d95-be78-8939de3c6725",
   "metadata": {
    "execution": {
     "iopub.execute_input": "2025-09-22T08:52:27.623962Z",
     "iopub.status.busy": "2025-09-22T08:52:27.623331Z",
     "iopub.status.idle": "2025-09-22T08:52:45.611048Z",
     "shell.execute_reply": "2025-09-22T08:52:45.610352Z",
     "shell.execute_reply.started": "2025-09-22T08:52:27.623929Z"
    }
   },
   "outputs": [
    {
     "name": "stdout",
     "output_type": "stream",
     "text": [
      "[INFO] 2025-09-22 08:52:27,626 - Medical Chatbot G-Version - Query language: code=kn (Kannada), conf≈1.00\n",
      "[INFO] 2025-09-22 08:52:27,627 - Medical Chatbot G-Version - Loading PDF: Drug Information Sheet.pdf\n",
      "[INFO] 2025-09-22 08:52:27,663 - Medical Chatbot G-Version - Token check: total=458, budget=128000, fits=True\n",
      "[INFO] 2025-09-22 08:52:45,596 - Medical Chatbot G-Version - Language verify OK: expected=kn, detected=kn\n",
      "[INFO] 2025-09-22 08:52:45,599 - Medical Chatbot G-Version - Language verify OK: expected=kn, detected=kn\n",
      "\n",
      "=== Answer ===\n",
      "ಈ ಔಷಧ ಮಾಹಿತಿ ಪತ್ರವು ರೆಮ್ಡೆಸಿವಿರ್ ಬಗ್ಗೆ ವಿವರಗಳನ್ನು ನೀಡುತ್ತದೆ. ಇದು ಕೋವಿಡ್-19 ಚಿಕಿತ್ಸೆಗಾಗಿ ಬಳಸುವ ಆಂಟಿವೈರಲ್ ಔಷಧವಾಗಿದೆ. ಇದು ವೈರಸ್ ಆರ್ಎನ್ಎ ಪಾಲಿಮರೇಸ್ ಅನ್ನು ತಡೆಯುತ್ತದೆ. ಆಮ್ಲಜನಕ ಅಗತ್ಯವಿರುವ ಆಸ್ಪತ್ರೆಯಲ್ಲಿ ದಾಖಲಾದ ಕೋವಿಡ್-19 ರೋಗಿಗಳಿಗೆ ಇದನ್ನು ಬಳಸಲಾಗುತ್ತದೆ. ಮೊದಲ ದಿನ 200 ಮಿಗ್ರಾಂ ಮತ್ತು ನಂತರ 4-9 ದಿನಗಳವರೆಗೆ ದಿನಕ್ಕೆ 100 ಮಿಗ್ರಾಂ ನೀಡಲಾಗುತ್ತದೆ. ವಾಕರಿಕೆ ಮತ್ತು ಯಕೃತ್ತಿನ ಎನ್ಜೈಮ್ ಹೆಚ್ಚಳ ಸಾಮಾನ್ಯ ಅಡ್ಡಪರಿಣಾಮಗಳಾಗಿವೆ. ಚಿಕಿತ್ಸೆಯ ಮೊದಲು ಮತ್ತು ನಂತರ ಯಕೃತ್ತು ಮತ್ತು ಮೂತ್ರಪಿಂಡದ ಕಾರ್ಯಗಳನ್ನು ಪರೀಕ್ಷಿಸಬೇಕು. ತೀವ್ರ ಮೂತ್ರಪಿಂಡದ ಸಮಸ್ಯೆ ಇರುವವರಿಗೆ ಮತ್ತು ರೆಮ್ಡೆಸಿವಿರ್ಗೆ ಅಲರ್ಜಿ ಇರುವವರಿಗೆ ಇದನ್ನು ನೀಡಬಾರದು.\n"
     ]
    }
   ],
   "source": [
    "if __name__ == \"__main__\":\n",
    "    example_file = \"Drug Information Sheet.pdf\"\n",
    "    example_query = \"ಪೂರ್ಣ ದಾಖಲೆವನ್ನು 200 ಪದಗಳಲ್ಲಿ ಸಂಕ್ಷಿಪ್ತಗೊಳಿಸಿ\" # Kannada\n",
    "    example_session = os.environ.get(\"EXAMPLE_SESSION_ID\", \"demo-session-1\")\n",
    "\n",
    "    # Enable history for demo by setting CONVO_HISTORY_ENABLED=true\n",
    "    try:\n",
    "        response = run_direct_document_qa(\n",
    "            example_file,\n",
    "            example_query,\n",
    "            MODEL_CONTEXT_TOKENS,\n",
    "            session_id=example_session\n",
    "        )\n",
    "        print(\"\\n=== Answer ===\")\n",
    "        print(response)\n",
    "    except Exception as e:\n",
    "        logger.exception(\"Pipeline execution failed.\")\n",
    "        raise"
   ]
  },
  {
   "cell_type": "markdown",
   "id": "8de3226e-f145-44eb-bd35-816c87939d77",
   "metadata": {},
   "source": [
    "## Test Query- Korean"
   ]
  },
  {
   "cell_type": "code",
   "execution_count": 56,
   "id": "e160b6b3-a63b-4382-85da-a250a2b7dea3",
   "metadata": {
    "execution": {
     "iopub.execute_input": "2025-09-22T08:52:45.615446Z",
     "iopub.status.busy": "2025-09-22T08:52:45.614754Z",
     "iopub.status.idle": "2025-09-22T08:52:53.594802Z",
     "shell.execute_reply": "2025-09-22T08:52:53.594094Z",
     "shell.execute_reply.started": "2025-09-22T08:52:45.615419Z"
    }
   },
   "outputs": [
    {
     "name": "stdout",
     "output_type": "stream",
     "text": [
      "[INFO] 2025-09-22 08:52:45,617 - Medical Chatbot G-Version - Query language: code=ko (Korean), conf≈1.00\n",
      "[INFO] 2025-09-22 08:52:45,618 - Medical Chatbot G-Version - Loading PDF: Drug Information Sheet.pdf\n",
      "[INFO] 2025-09-22 08:52:45,652 - Medical Chatbot G-Version - Token check: total=395, budget=128000, fits=True\n",
      "[INFO] 2025-09-22 08:52:53,578 - Medical Chatbot G-Version - Language verify OK: expected=ko, detected=ko\n",
      "[INFO] 2025-09-22 08:52:53,580 - Medical Chatbot G-Version - Language verify OK: expected=ko, detected=ko\n",
      "\n",
      "=== Answer ===\n",
      "이 문서는 COVID-19 치료를 위한 항바이러스제인 렘데시비르에 대한 약물 정보를 제공합니다. 렘데시비르는 RNA 의존성 RNA 중합효소를 억제하여 SARS-CoV-2의 복제를 감소시키는 뉴클레오시드 유사체입니다. \n",
      "\n",
      "주요 적응증은 보조 산소가 필요하지만 침습적 인공호흡기를 사용하지 않는 입원 COVID-19 환자입니다. \n",
      "\n",
      "용법은 첫날 200mg 정맥 주사 후 4-9일간 100mg 정맥 주사를 매일 유지합니다. \n",
      "\n",
      "주요 부작용으로는 구역과 트랜스아미나제 상승이 있으며, 드물게 과민반응과 신기능 장애가 발생할 수 있습니다. \n",
      "\n",
      "치료 중 간 기능과 신장 기능 검사를 주기적으로 모니터링해야 합니다. \n",
      "\n",
      "중증 신장애 환자(eGFR <30 mL/min)와 렘데시비르에 과민반응이 있는 환자에게는 금기입니다. \n",
      "\n",
      "이 정보는 임상의들이 렘데시비르의 기전, 적응증, 용량, 부작용 및 모니터링 요구사항을 이해하는 데 도움을 줍니다.\n"
     ]
    }
   ],
   "source": [
    "if __name__ == \"__main__\":\n",
    "    example_file = \"Drug Information Sheet.pdf\"\n",
    "    example_query = \"전체 문서를 200단어로 요약하세요\"# Korean\n",
    "    example_session = os.environ.get(\"EXAMPLE_SESSION_ID\", \"demo-session-1\")\n",
    "\n",
    "    # Enable history for demo by setting CONVO_HISTORY_ENABLED=true\n",
    "    try:\n",
    "        response = run_direct_document_qa(\n",
    "            example_file,\n",
    "            example_query,\n",
    "            MODEL_CONTEXT_TOKENS,\n",
    "            session_id=example_session\n",
    "        )\n",
    "        print(\"\\n=== Answer ===\")\n",
    "        print(response)\n",
    "    except Exception as e:\n",
    "        logger.exception(\"Pipeline execution failed.\")\n",
    "        raise"
   ]
  },
  {
   "cell_type": "markdown",
   "id": "6e276bc2-93d6-40f2-8458-2ced1e2e4882",
   "metadata": {},
   "source": [
    "## Test Query- Latvian"
   ]
  },
  {
   "cell_type": "code",
   "execution_count": 57,
   "id": "da939830-624b-4256-9cc0-c3dd9d418db3",
   "metadata": {
    "execution": {
     "iopub.execute_input": "2025-09-22T08:52:53.596165Z",
     "iopub.status.busy": "2025-09-22T08:52:53.595592Z",
     "iopub.status.idle": "2025-09-22T08:53:02.619297Z",
     "shell.execute_reply": "2025-09-22T08:53:02.618371Z",
     "shell.execute_reply.started": "2025-09-22T08:52:53.596142Z"
    }
   },
   "outputs": [
    {
     "name": "stdout",
     "output_type": "stream",
     "text": [
      "[INFO] 2025-09-22 08:52:53,600 - Medical Chatbot G-Version - Query language: code=lv (Latvian), conf≈1.00\n",
      "[INFO] 2025-09-22 08:52:53,601 - Medical Chatbot G-Version - Loading PDF: Drug Information Sheet.pdf\n",
      "[INFO] 2025-09-22 08:52:53,634 - Medical Chatbot G-Version - Token check: total=394, budget=128000, fits=True\n",
      "[INFO] 2025-09-22 08:53:02,601 - Medical Chatbot G-Version - Language verify OK: expected=lv, detected=lv\n",
      "[INFO] 2025-09-22 08:53:02,606 - Medical Chatbot G-Version - Language verify OK: expected=lv, detected=lv\n",
      "\n",
      "=== Answer ===\n",
      "Šis dokuments ir zāļu informācijas lapa par remdesiviru, kas ir pretvīrusu līdzeklis COVID-19 ārstēšanai. Tas sniedz klīnicistiem detalizētu informāciju par remdesivira mehānismu, indikācijām, dozēšanu, blakusparādībām un uzraudzības prasībām.\n",
      "\n",
      "Remdesivirs ir nukleozīdu analogs, kas inhibē vīrusu RNS-atkarīgo RNS polimerāzi, samazinot SARS-CoV-2 replikāciju. Tas ir indicēts hospitalizētiem pacientiem ar apstiprinātu COVID-19, kuriem nepieciešams papildu skābeklis, bet nav invazīvās ventilācijas.\n",
      "\n",
      "Dozēšana ietver piesātinošo devu 200 mg intravenozi 1. dienā, kam seko uzturošā deva 100 mg intravenozi dienā 4 līdz 9 dienas atkarībā no klīniskās atbildes.\n",
      "\n",
      "Biežākās blakusparādības ir slikta dūša un transamināžu paaugstināšanās. Reti var novērot paaugstinātas jutības reakcijas un nieru disfunkciju.\n",
      "\n",
      "Ārstēšanas laikā jāveic sākotnējie un periodiski aknu un nieru funkciju testi. Remdesivirs ir kontrindicēts pacientiem ar smagu nieru mazspēju un zināmu paaugstinātu jutību pret zālēm.\n",
      "\n",
      "Dokumentā iekļautas arī divas atsauces uz zinātniskiem rakstiem par remdesivira lietošanu un drošības uzraudzību COVID-19 ārstēšanā.\n"
     ]
    }
   ],
   "source": [
    "if __name__ == \"__main__\":\n",
    "    example_file = \"Drug Information Sheet.pdf\"\n",
    "    example_query =\"Apkopojiet visu dokumentu 200 vārdos\" # Latvian\n",
    "    example_session = os.environ.get(\"EXAMPLE_SESSION_ID\", \"demo-session-1\")\n",
    "\n",
    "    # Enable history for demo by setting CONVO_HISTORY_ENABLED=true\n",
    "    try:\n",
    "        response = run_direct_document_qa(\n",
    "            example_file,\n",
    "            example_query,\n",
    "            MODEL_CONTEXT_TOKENS,\n",
    "            session_id=example_session\n",
    "        )\n",
    "        print(\"\\n=== Answer ===\")\n",
    "        print(response)\n",
    "    except Exception as e:\n",
    "        logger.exception(\"Pipeline execution failed.\")\n",
    "        raise"
   ]
  },
  {
   "cell_type": "markdown",
   "id": "20b45eac-653c-42a7-9204-8d0665525761",
   "metadata": {},
   "source": [
    "## Test Query- Lithuanian"
   ]
  },
  {
   "cell_type": "code",
   "execution_count": 58,
   "id": "e240d6c8-ca4e-4684-9915-12c3ecd79dcf",
   "metadata": {
    "execution": {
     "iopub.execute_input": "2025-09-22T08:53:02.620390Z",
     "iopub.status.busy": "2025-09-22T08:53:02.620137Z",
     "iopub.status.idle": "2025-09-22T08:53:10.086133Z",
     "shell.execute_reply": "2025-09-22T08:53:10.085443Z",
     "shell.execute_reply.started": "2025-09-22T08:53:02.620360Z"
    }
   },
   "outputs": [
    {
     "name": "stdout",
     "output_type": "stream",
     "text": [
      "[INFO] 2025-09-22 08:53:02,623 - Medical Chatbot G-Version - Query language: code=lt (Lithuanian), conf≈1.00\n",
      "[INFO] 2025-09-22 08:53:02,625 - Medical Chatbot G-Version - Loading PDF: Drug Information Sheet.pdf\n",
      "[INFO] 2025-09-22 08:53:02,658 - Medical Chatbot G-Version - Token check: total=395, budget=128000, fits=True\n",
      "[INFO] 2025-09-22 08:53:10,070 - Medical Chatbot G-Version - Language verify OK: expected=lt, detected=lt\n",
      "[INFO] 2025-09-22 08:53:10,075 - Medical Chatbot G-Version - Language verify OK: expected=lt, detected=lt\n",
      "\n",
      "=== Answer ===\n",
      "Šis dokumentas yra vaisto informacinis lapas apie remdesivirą, antivirusinį vaistą, skirtą gydyti COVID-19. Jame pateikiama informacija apie vaisto klasę, veikimo mechanizmą, indikacijas, dozavimą, šalutinius poveikius ir stebėjimo reikalavimus.\n",
      "\n",
      "Remdesiviras yra nukleozidų analogas, slopinantis viruso RNR polimerazę ir mažinantis SARS-CoV-2 replikaciją. Jis skiriamas hospitalizuotiems COVID-19 pacientams, kuriems reikia papildomo deguonies, bet nėra taikoma invazinė ventiliacija.\n",
      "\n",
      "Dozavimas: 200 mg į veną pirmą dieną, po to 100 mg į veną kasdien 4-9 dienas, priklausomai nuo klinikinio atsako.\n",
      "\n",
      "Galimi šalutiniai poveikiai: pykinimas, transaminazių padidėjimas, reti atvejai - padidėjęs jautrumas ir inkstų funkcijos sutrikimas.\n",
      "\n",
      "Būtina stebėti kepenų ir inkstų funkcijos rodiklius gydymo metu. Kontraindikacijos: sunkus inkstų funkcijos sutrikimas (eGFR <30 mL/min) ir žinomas padidėjęs jautrumas remdesivirui.\n",
      "\n",
      "Dokumentas taip pat pateikia du literatūros šaltinius tolesniam skaitymui apie remdesivirą ir jo saugumą.\n"
     ]
    }
   ],
   "source": [
    "if __name__ == \"__main__\":\n",
    "    example_file = \"Drug Information Sheet.pdf\"\n",
    "    example_query = \"Apibendrinkite visą dokumentą 200 žodžiais\" # Lithuanian\n",
    "    example_session = os.environ.get(\"EXAMPLE_SESSION_ID\", \"demo-session-1\")\n",
    "\n",
    "    # Enable history for demo by setting CONVO_HISTORY_ENABLED=true\n",
    "    try:\n",
    "        response = run_direct_document_qa(\n",
    "            example_file,\n",
    "            example_query,\n",
    "            MODEL_CONTEXT_TOKENS,\n",
    "            session_id=example_session\n",
    "        )\n",
    "        print(\"\\n=== Answer ===\")\n",
    "        print(response)\n",
    "    except Exception as e:\n",
    "        logger.exception(\"Pipeline execution failed.\")\n",
    "        raise"
   ]
  },
  {
   "cell_type": "markdown",
   "id": "24c8bb1a-c081-4d4c-9fb5-6213c0a10360",
   "metadata": {},
   "source": [
    "## Test Query- Macedonian"
   ]
  },
  {
   "cell_type": "code",
   "execution_count": 59,
   "id": "4994dd58-0864-493b-ac35-93d0f8eb8f7b",
   "metadata": {
    "execution": {
     "iopub.execute_input": "2025-09-22T08:53:10.087065Z",
     "iopub.status.busy": "2025-09-22T08:53:10.086835Z",
     "iopub.status.idle": "2025-09-22T08:53:18.800737Z",
     "shell.execute_reply": "2025-09-22T08:53:18.799764Z",
     "shell.execute_reply.started": "2025-09-22T08:53:10.087046Z"
    }
   },
   "outputs": [
    {
     "name": "stdout",
     "output_type": "stream",
     "text": [
      "[INFO] 2025-09-22 08:53:10,090 - Medical Chatbot G-Version - Query language: code=mk (Macedonian), conf≈1.00\n",
      "[INFO] 2025-09-22 08:53:10,092 - Medical Chatbot G-Version - Loading PDF: Drug Information Sheet.pdf\n",
      "[INFO] 2025-09-22 08:53:10,126 - Medical Chatbot G-Version - Token check: total=403, budget=128000, fits=True\n",
      "[INFO] 2025-09-22 08:53:18,782 - Medical Chatbot G-Version - Language verify OK: expected=mk, detected=mk\n",
      "[INFO] 2025-09-22 08:53:18,788 - Medical Chatbot G-Version - Language verify OK: expected=mk, detected=mk\n",
      "\n",
      "=== Answer ===\n",
      "Овој документ е информативен лист за лекот ремдесивир, антивирусен агенс за третман на КОВИД-19. Тој содржи клучни информации за клиничарите, вклучувајќи:\n",
      "\n",
      "Класа: Антивирусен нуклеозиден аналог инхибитор на РНК полимераза.\n",
      "\n",
      "Механизам на дејство: Инхибира вирусната РНК-зависна РНК полимераза, намалувајќи ја репликацијата на САРС-КоВ-2.\n",
      "\n",
      "Индикации: Хоспитализирани пациенти со потврден КОВИД-19 кои бараат дополнителен кислород, но не се на инвазивна вентилација.\n",
      "\n",
      "Дозирање: Почетна доза од 200 мг интравенозно првиот ден, потоа 100 мг дневно 4-9 дена.\n",
      "\n",
      "Несакани ефекти: Гадење, покачување на трансаминазите, ретко хиперсензитивни реакции и бубрежна дисфункција.\n",
      "\n",
      "Следење: Почетни и периодични тестови на црнодробната и бубрежната функција.\n",
      "\n",
      "Контраиндикации: Тешко бубрежно оштетување и позната хиперсензитивност на ремдесивир.\n",
      "\n",
      "Документот вклучува и референци за понатамошно читање за употребата и безбедносното следење на ремдесивир кај хоспитализирани пациенти.\n"
     ]
    }
   ],
   "source": [
    "if __name__ == \"__main__\":\n",
    "    example_file = \"Drug Information Sheet.pdf\"\n",
    "    example_query = \"Сумирајте го целиот документ во 200 зборови\" # Macedonian\n",
    "    example_session = os.environ.get(\"EXAMPLE_SESSION_ID\", \"demo-session-1\")\n",
    "\n",
    "    # Enable history for demo by setting CONVO_HISTORY_ENABLED=true\n",
    "    try:\n",
    "        response = run_direct_document_qa(\n",
    "            example_file,\n",
    "            example_query,\n",
    "            MODEL_CONTEXT_TOKENS,\n",
    "            session_id=example_session\n",
    "        )\n",
    "        print(\"\\n=== Answer ===\")\n",
    "        print(response)\n",
    "    except Exception as e:\n",
    "        logger.exception(\"Pipeline execution failed.\")\n",
    "        raise"
   ]
  },
  {
   "cell_type": "markdown",
   "id": "b8d11907-ae5b-4e22-a2ca-5db36f19a2d4",
   "metadata": {},
   "source": [
    "## Test Query- Malayalam"
   ]
  },
  {
   "cell_type": "code",
   "execution_count": 60,
   "id": "2b731df0-147d-431c-8dbb-4e9e098c10d3",
   "metadata": {
    "execution": {
     "iopub.execute_input": "2025-09-22T08:53:18.802398Z",
     "iopub.status.busy": "2025-09-22T08:53:18.801759Z",
     "iopub.status.idle": "2025-09-22T08:53:33.370543Z",
     "shell.execute_reply": "2025-09-22T08:53:33.369723Z",
     "shell.execute_reply.started": "2025-09-22T08:53:18.802371Z"
    }
   },
   "outputs": [
    {
     "name": "stdout",
     "output_type": "stream",
     "text": [
      "[INFO] 2025-09-22 08:53:18,805 - Medical Chatbot G-Version - Query language: code=ml (Malayalam), conf≈1.00\n",
      "[INFO] 2025-09-22 08:53:18,806 - Medical Chatbot G-Version - Loading PDF: Drug Information Sheet.pdf\n",
      "[INFO] 2025-09-22 08:53:18,838 - Medical Chatbot G-Version - Token check: total=447, budget=128000, fits=True\n",
      "[INFO] 2025-09-22 08:53:33,355 - Medical Chatbot G-Version - Language verify OK: expected=ml, detected=ml\n",
      "[INFO] 2025-09-22 08:53:33,359 - Medical Chatbot G-Version - Language verify OK: expected=ml, detected=ml\n",
      "\n",
      "=== Answer ===\n",
      "ഈ രേഖ റെംഡെസിവിർ എന്ന കോവിഡ്-19 ചികിത്സയ്ക്കുള്ള ആന്റിവൈറൽ മരുന്നിനെക്കുറിച്ചുള്ള വിവരങ്ങൾ നൽകുന്നു. ഇത് ഒരു ന്യൂക്ലിയോസൈഡ് അനലോഗ് RNA പോളിമറേസ് ഇൻഹിബിറ്റർ ആണ്. SARS-CoV-2 വൈറസിന്റെ പ്രതിലിപി നിർമ്മാണത്തെ തടയുന്നു. \n",
      "\n",
      "ഓക്സിജൻ ആവശ്യമുള്ള, എന്നാൽ വെന്റിലേറ്റർ ഉപയോഗിക്കാത്ത കോവിഡ് രോഗികൾക്കാണ് ഇത് നൽകുന്നത്. ആദ്യ ദിവസം 200 mg IV ഡോസ് നൽകി, തുടർന്ന് 4-9 ദിവസം 100 mg വീതം നൽകുന്നു. \n",
      "\n",
      "പാർശ്വഫലങ്ങളിൽ ഓക്കാനം, ട്രാൻസാമിനേസ് വർധന എന്നിവ ഉൾപ്പെടുന്നു. അപൂർവമായി അതിവേദനാജനകമായ പ്രതികരണങ്ങളും വൃക്ക തകരാറും ഉണ്ടാകാം. \n",
      "\n",
      "ചികിത്സയ്ക്ക് മുമ്പും പിന്നീടും കരൾ, വൃക്ക പ്രവർത്തനങ്ങൾ നിരീക്ഷിക്കണം. തീവ്രമായ വൃക്കത്തകരാറുള്ളവർക്കും റെംഡെസിവിറിനോട് അലർജിയുള്ളവർക്കും ഇത് നൽകരുത്.\n"
     ]
    }
   ],
   "source": [
    "if __name__ == \"__main__\":\n",
    "    example_file = \"Drug Information Sheet.pdf\"\n",
    "    example_query = \"മുഴുവൻ രേഖയും 200 വാക്കുകളിൽ സംഗ്രഹിക്കുക\" # Malayalam\n",
    "    example_session = os.environ.get(\"EXAMPLE_SESSION_ID\", \"demo-session-1\")\n",
    "\n",
    "    # Enable history for demo by setting CONVO_HISTORY_ENABLED=true\n",
    "    try:\n",
    "        response = run_direct_document_qa(\n",
    "            example_file,\n",
    "            example_query,\n",
    "            MODEL_CONTEXT_TOKENS,\n",
    "            session_id=example_session\n",
    "        )\n",
    "        print(\"\\n=== Answer ===\")\n",
    "        print(response)\n",
    "    except Exception as e:\n",
    "        logger.exception(\"Pipeline execution failed.\")\n",
    "        raise"
   ]
  },
  {
   "cell_type": "markdown",
   "id": "b58eacc5-de67-43e9-a7a5-516ab1cce56c",
   "metadata": {},
   "source": [
    "## Test Query- Marathi"
   ]
  },
  {
   "cell_type": "code",
   "execution_count": 61,
   "id": "64f1591f-f6f8-415f-aa44-406920fa6a7f",
   "metadata": {
    "execution": {
     "iopub.execute_input": "2025-09-22T08:53:33.373378Z",
     "iopub.status.busy": "2025-09-22T08:53:33.371988Z",
     "iopub.status.idle": "2025-09-22T08:53:45.073946Z",
     "shell.execute_reply": "2025-09-22T08:53:45.073002Z",
     "shell.execute_reply.started": "2025-09-22T08:53:33.373350Z"
    }
   },
   "outputs": [
    {
     "name": "stdout",
     "output_type": "stream",
     "text": [
      "[INFO] 2025-09-22 08:53:33,379 - Medical Chatbot G-Version - Query language: code=mr (Marathi), conf≈1.00\n",
      "[INFO] 2025-09-22 08:53:33,381 - Medical Chatbot G-Version - Loading PDF: Drug Information Sheet.pdf\n",
      "[INFO] 2025-09-22 08:53:33,413 - Medical Chatbot G-Version - Token check: total=425, budget=128000, fits=True\n",
      "[INFO] 2025-09-22 08:53:45,054 - Medical Chatbot G-Version - Language verify OK: expected=mr, detected=mr\n",
      "[INFO] 2025-09-22 08:53:45,061 - Medical Chatbot G-Version - Language verify OK: expected=mr, detected=mr\n",
      "\n",
      "=== Answer ===\n",
      "हा दस्तऐवज रेमडेसिविर या कोविड-19 साठीच्या अँटीव्हायरल औषधाबद्दल माहिती देतो. त्यात खालील मुद्दे आहेत:\n",
      "\n",
      "- रेमडेसिविर हे RNA पॉलिमरेज इनहिबिटर आहे जे SARS-CoV-2 चे प्रतिकृतीकरण कमी करते.\n",
      "- हे रुग्णालयात दाखल झालेल्या, पुरवणी ऑक्सिजन आवश्यक असलेल्या कोविड-19 रुग्णांसाठी वापरले जाते.\n",
      "- मात्रा: पहिल्या दिवशी 200 mg IV लोडिंग डोस, नंतर दररोज 100 mg IV 4 ते 9 दिवस.\n",
      "- दुष्परिणाम: मळमळ, ट्रान्सअमिनेस वाढ; क्वचित अतिसंवेदनशीलता, मूत्रपिंड बिघाड.\n",
      "- यकृत आणि मूत्रपिंड कार्य तपासणी आवश्यक.\n",
      "- तीव्र मूत्रपिंड बिघाड (eGFR <30 mL/min) किंवा रेमडेसिविरला अतिसंवेदनशीलता असल्यास वापरू नये.\n",
      "\n",
      "हा दस्तऐवज डॉक्टरांना रेमडेसिविरचा वापर, फायदे आणि धोके समजण्यास मदत करतो.\n"
     ]
    }
   ],
   "source": [
    "if __name__ == \"__main__\":\n",
    "    example_file = \"Drug Information Sheet.pdf\"\n",
    "    example_query = \"संपूर्ण दस्तऐवज 200 शब्दांमध्ये संक्षेप करा\"# Marathi\n",
    "    example_session = os.environ.get(\"EXAMPLE_SESSION_ID\", \"demo-session-1\")\n",
    "\n",
    "    # Enable history for demo by setting CONVO_HISTORY_ENABLED=true\n",
    "    try:\n",
    "        response = run_direct_document_qa(\n",
    "            example_file,\n",
    "            example_query,\n",
    "            MODEL_CONTEXT_TOKENS,\n",
    "            session_id=example_session\n",
    "        )\n",
    "        print(\"\\n=== Answer ===\")\n",
    "        print(response)\n",
    "    except Exception as e:\n",
    "        logger.exception(\"Pipeline execution failed.\")\n",
    "        raise"
   ]
  },
  {
   "cell_type": "markdown",
   "id": "24d470b3-9e5c-44ae-a53d-1f445774df8c",
   "metadata": {},
   "source": [
    "## Test Query- Norwegian"
   ]
  },
  {
   "cell_type": "code",
   "execution_count": 62,
   "id": "a1c28a10-c06f-47c0-b167-109d3b4fcbc3",
   "metadata": {
    "execution": {
     "iopub.execute_input": "2025-09-22T08:53:45.075445Z",
     "iopub.status.busy": "2025-09-22T08:53:45.074903Z",
     "iopub.status.idle": "2025-09-22T08:53:52.887342Z",
     "shell.execute_reply": "2025-09-22T08:53:52.886502Z",
     "shell.execute_reply.started": "2025-09-22T08:53:45.075416Z"
    }
   },
   "outputs": [
    {
     "name": "stdout",
     "output_type": "stream",
     "text": [
      "[INFO] 2025-09-22 08:53:45,083 - Medical Chatbot G-Version - Query language: code=no (Norwegian), conf≈1.00\n",
      "[INFO] 2025-09-22 08:53:45,086 - Medical Chatbot G-Version - Loading PDF: Drug Information Sheet.pdf\n",
      "[INFO] 2025-09-22 08:53:45,120 - Medical Chatbot G-Version - Token check: total=389, budget=128000, fits=True\n",
      "[INFO] 2025-09-22 08:53:52,863 - Medical Chatbot G-Version - Language verify OK: expected=no, detected=no\n",
      "[INFO] 2025-09-22 08:53:52,875 - Medical Chatbot G-Version - Language verify OK: expected=no, detected=no\n",
      "\n",
      "=== Answer ===\n",
      "Dette dokumentet er et legemiddelinformasjonsark om remdesivir, et antiviralt middel for behandling av COVID-19. Det gir klinisk informasjon om legemiddelets klasse, virkningsmekanisme, indikasjoner, dosering, bivirkninger og overvåkningskrav.\n",
      "\n",
      "Remdesivir er klassifisert som et nukleosidanalog RNA-polymerasehemmer. Det virker ved å hemme viral RNA-avhengig RNA-polymerase, noe som reduserer replikasjonen av SARS-CoV-2.\n",
      "\n",
      "Indikasjonen er for hospitaliserte pasienter med bekreftet COVID-19 som trenger oksygentilskudd, men ikke er på invasiv ventilasjon.\n",
      "\n",
      "Doseringen består av en startdose på 200 mg intravenøst på dag 1, etterfulgt av en vedlikeholdsdose på 100 mg intravenøst daglig i 4 til 9 dager, avhengig av klinisk respons.\n",
      "\n",
      "Bivirkninger inkluderer kvalme og forhøyede transaminaser. Sjeldne bivirkninger omfatter overfølsomhetsreaksjoner og nyredysfunksjon.\n",
      "\n",
      "Overvåkning krever baseline lever- og nyrefunksjonstester, med periodisk oppfølging under behandlingen.\n",
      "\n",
      "Kontraindikasjoner inkluderer alvorlig nedsatt nyrefunksjon (eGFR <30 mL/min) og kjent overfølsomhet for remdesivir.\n",
      "\n",
      "Dokumentet inneholder også referanser til to relevante studier om remdesivir i behandlingen av COVID-19 og sikkerhetsovervåkning hos hospitaliserte pasienter.\n"
     ]
    }
   ],
   "source": [
    "if __name__ == \"__main__\":\n",
    "    example_file = \"Drug Information Sheet.pdf\"\n",
    "    example_query = \"Oppsummer hele dokumentet på 200 ord\" # Norwegian\n",
    "    example_session = os.environ.get(\"EXAMPLE_SESSION_ID\", \"demo-session-1\")\n",
    "\n",
    "    # Enable history for demo by setting CONVO_HISTORY_ENABLED=true\n",
    "    try:\n",
    "        response = run_direct_document_qa(\n",
    "            example_file,\n",
    "            example_query,\n",
    "            MODEL_CONTEXT_TOKENS,\n",
    "            session_id=example_session\n",
    "        )\n",
    "        print(\"\\n=== Answer ===\")\n",
    "        print(response)\n",
    "    except Exception as e:\n",
    "        logger.exception(\"Pipeline execution failed.\")\n",
    "        raise"
   ]
  },
  {
   "cell_type": "markdown",
   "id": "1521dd77-f4d7-478f-bcc3-98d41b2bc531",
   "metadata": {},
   "source": [
    "## Test Query- Polish"
   ]
  },
  {
   "cell_type": "code",
   "execution_count": 63,
   "id": "39dad46e-3286-49fe-802a-5d51d7472bf4",
   "metadata": {
    "execution": {
     "iopub.execute_input": "2025-09-22T08:53:52.888609Z",
     "iopub.status.busy": "2025-09-22T08:53:52.888278Z",
     "iopub.status.idle": "2025-09-22T08:53:59.755938Z",
     "shell.execute_reply": "2025-09-22T08:53:59.755232Z",
     "shell.execute_reply.started": "2025-09-22T08:53:52.888585Z"
    }
   },
   "outputs": [
    {
     "name": "stdout",
     "output_type": "stream",
     "text": [
      "[INFO] 2025-09-22 08:53:52,891 - Medical Chatbot G-Version - Query language: code=pl (Polish), conf≈1.00\n",
      "[INFO] 2025-09-22 08:53:52,892 - Medical Chatbot G-Version - Loading PDF: Drug Information Sheet.pdf\n",
      "[INFO] 2025-09-22 08:53:52,926 - Medical Chatbot G-Version - Token check: total=392, budget=128000, fits=True\n",
      "[INFO] 2025-09-22 08:53:59,740 - Medical Chatbot G-Version - Language verify OK: expected=pl, detected=pl\n",
      "[INFO] 2025-09-22 08:53:59,745 - Medical Chatbot G-Version - Language verify OK: expected=pl, detected=pl\n",
      "\n",
      "=== Answer ===\n",
      "Dokument przedstawia informacje o leku remdesivir stosowanym w leczeniu COVID-19. Jest to lek przeciwwirusowy z grupy analogów nukleozydów, który hamuje wirusową polimerazę RNA zależną od RNA, zmniejszając replikację SARS-CoV-2. \n",
      "\n",
      "Wskazaniem do stosowania remdesiviru są hospitalizowani pacjenci z potwierdzonym COVID-19 wymagający tlenoterapii, ale nie będący na inwazyjnej wentylacji. \n",
      "\n",
      "Dawkowanie obejmuje dawkę nasycającą 200 mg dożylnie w pierwszym dniu, a następnie dawkę podtrzymującą 100 mg dożylnie dziennie przez 4-9 dni, w zależności od odpowiedzi klinicznej.\n",
      "\n",
      "Możliwe działania niepożądane to nudności i podwyższenie poziomu transaminaz, rzadko reakcje nadwrażliwości i zaburzenia czynności nerek. \n",
      "\n",
      "Lek wymaga monitorowania czynności wątroby i nerek przed i w trakcie leczenia. \n",
      "\n",
      "Przeciwwskazania obejmują ciężkie upośledzenie czynności nerek (eGFR <30 mL/min) oraz znaną nadwrażliwość na remdesivir.\n",
      "\n",
      "Dokument zawiera również metadane oraz dwa odniesienia do literatury naukowej dotyczącej stosowania i monitorowania bezpieczeństwa remdesiviru u pacjentów hospitalizowanych.\n"
     ]
    }
   ],
   "source": [
    "if __name__ == \"__main__\":\n",
    "    example_file = \"Drug Information Sheet.pdf\"\n",
    "    example_query = \"Streść cały dokument w 200 słowach\" # Polish\n",
    "    example_session = os.environ.get(\"EXAMPLE_SESSION_ID\", \"demo-session-1\")\n",
    "\n",
    "    # Enable history for demo by setting CONVO_HISTORY_ENABLED=true\n",
    "    try:\n",
    "        response = run_direct_document_qa(\n",
    "            example_file,\n",
    "            example_query,\n",
    "            MODEL_CONTEXT_TOKENS,\n",
    "            session_id=example_session\n",
    "        )\n",
    "        print(\"\\n=== Answer ===\")\n",
    "        print(response)\n",
    "    except Exception as e:\n",
    "        logger.exception(\"Pipeline execution failed.\")\n",
    "        raise"
   ]
  },
  {
   "cell_type": "markdown",
   "id": "a7da72fe-5c97-45c2-b119-b091ae811674",
   "metadata": {},
   "source": [
    "## Test Query- Portuguese"
   ]
  },
  {
   "cell_type": "code",
   "execution_count": 64,
   "id": "90bec80a-0b31-4bec-9a39-f5b073ebac88",
   "metadata": {
    "execution": {
     "iopub.execute_input": "2025-09-22T08:53:59.756838Z",
     "iopub.status.busy": "2025-09-22T08:53:59.756617Z",
     "iopub.status.idle": "2025-09-22T08:54:05.891850Z",
     "shell.execute_reply": "2025-09-22T08:54:05.890998Z",
     "shell.execute_reply.started": "2025-09-22T08:53:59.756819Z"
    }
   },
   "outputs": [
    {
     "name": "stdout",
     "output_type": "stream",
     "text": [
      "[INFO] 2025-09-22 08:53:59,760 - Medical Chatbot G-Version - Query language: code=pt (Portuguese), conf≈1.00\n",
      "[INFO] 2025-09-22 08:53:59,761 - Medical Chatbot G-Version - Loading PDF: Drug Information Sheet.pdf\n",
      "[INFO] 2025-09-22 08:53:59,795 - Medical Chatbot G-Version - Token check: total=390, budget=128000, fits=True\n",
      "[INFO] 2025-09-22 08:54:05,873 - Medical Chatbot G-Version - Language verify OK: expected=pt, detected=pt\n",
      "[INFO] 2025-09-22 08:54:05,880 - Medical Chatbot G-Version - Language verify OK: expected=pt, detected=pt\n",
      "\n",
      "=== Answer ===\n",
      "Este documento é uma ficha de informação sobre o medicamento remdesivir, um agente antiviral usado no tratamento da COVID-19. O remdesivir é um inibidor da RNA polimerase que reduz a replicação do SARS-CoV-2. É indicado para pacientes hospitalizados com COVID-19 confirmada que necessitam de oxigênio suplementar, mas não estão em ventilação invasiva.\n",
      "\n",
      "A dosagem recomendada é uma dose de ataque de 200 mg IV no primeiro dia, seguida de uma dose de manutenção de 100 mg IV diariamente por 4 a 9 dias, dependendo da resposta clínica.\n",
      "\n",
      "Os efeitos adversos incluem náuseas e elevações das transaminases, com reações de hipersensibilidade e disfunção renal sendo raras. O monitoramento inclui testes de função hepática e renal no início e periodicamente durante o tratamento.\n",
      "\n",
      "O remdesivir é contraindicado em pacientes com insuficiência renal grave (TFGe <30 mL/min) e em casos de hipersensibilidade conhecida ao medicamento.\n",
      "\n",
      "O documento também inclui metadados sobre o tipo de documento, especialidade, palavras-chave e data, além de referências a dois artigos científicos sobre o uso e monitoramento de segurança do remdesivir.\n"
     ]
    }
   ],
   "source": [
    "if __name__ == \"__main__\":\n",
    "    example_file = \"Drug Information Sheet.pdf\"\n",
    "    example_query = \"Resuma todo o documento em 200 palavras\" # Portuguese (Brazil & Portugal)\n",
    "    example_session = os.environ.get(\"EXAMPLE_SESSION_ID\", \"demo-session-1\")\n",
    "\n",
    "    # Enable history for demo by setting CONVO_HISTORY_ENABLED=true\n",
    "    try:\n",
    "        response = run_direct_document_qa(\n",
    "            example_file,\n",
    "            example_query,\n",
    "            MODEL_CONTEXT_TOKENS,\n",
    "            session_id=example_session\n",
    "        )\n",
    "        print(\"\\n=== Answer ===\")\n",
    "        print(response)\n",
    "    except Exception as e:\n",
    "        logger.exception(\"Pipeline execution failed.\")\n",
    "        raise"
   ]
  },
  {
   "cell_type": "markdown",
   "id": "a2350ee7-3933-4642-a4a5-73ff82634848",
   "metadata": {},
   "source": [
    "## Test Query- Punjabi"
   ]
  },
  {
   "cell_type": "code",
   "execution_count": 65,
   "id": "10ab3d95-6137-43b4-9efb-4c14493ee176",
   "metadata": {
    "execution": {
     "iopub.execute_input": "2025-09-22T08:54:05.893332Z",
     "iopub.status.busy": "2025-09-22T08:54:05.892963Z",
     "iopub.status.idle": "2025-09-22T08:54:25.210103Z",
     "shell.execute_reply": "2025-09-22T08:54:25.209221Z",
     "shell.execute_reply.started": "2025-09-22T08:54:05.893307Z"
    }
   },
   "outputs": [
    {
     "name": "stdout",
     "output_type": "stream",
     "text": [
      "[INFO] 2025-09-22 08:54:05,895 - Medical Chatbot G-Version - Query language: code=pa (Punjabi), conf≈1.00\n",
      "[INFO] 2025-09-22 08:54:05,897 - Medical Chatbot G-Version - Loading PDF: Drug Information Sheet.pdf\n",
      "[INFO] 2025-09-22 08:54:05,931 - Medical Chatbot G-Version - Token check: total=448, budget=128000, fits=True\n",
      "[INFO] 2025-09-22 08:54:25,195 - Medical Chatbot G-Version - Language verify OK: expected=pa, detected=pa\n",
      "[INFO] 2025-09-22 08:54:25,199 - Medical Chatbot G-Version - Language verify OK: expected=pa, detected=pa\n",
      "\n",
      "=== Answer ===\n",
      "ਇਹ ਦਸਤਾਵੇਜ਼ ਰੇਮਡੇਸੀਵੀਰ ਬਾਰੇ ਜਾਣਕਾਰੀ ਦਿੰਦਾ ਹੈ, ਜੋ ਕਿ COVID-19 ਦੇ ਇਲਾਜ ਲਈ ਇੱਕ ਐਂਟੀਵਾਇਰਲ ਦਵਾਈ ਹੈ। ਇਹ RNA ਪੋਲੀਮਰੇਜ਼ ਨੂੰ ਰੋਕ ਕੇ ਵਾਇਰਸ ਦੇ ਵਾਧੇ ਨੂੰ ਘਟਾਉਂਦੀ ਹੈ। ਇਹ ਹਸਪਤਾਲ ਵਿੱਚ ਦਾਖਲ COVID-19 ਮਰੀਜ਼ਾਂ ਲਈ ਵਰਤੀ ਜਾਂਦੀ ਹੈ ਜਿਨ੍ਹਾਂ ਨੂੰ ਆਕਸੀਜਨ ਦੀ ਲੋੜ ਹੈ ਪਰ ਵੈਂਟੀਲੇਟਰ 'ਤੇ ਨਹੀਂ ਹਨ। \n",
      "\n",
      "ਖੁਰਾਕ ਪਹਿਲੇ ਦਿਨ 200 mg IV ਅਤੇ ਫਿਰ 4-9 ਦਿਨਾਂ ਲਈ 100 mg IV ਰੋਜ਼ਾਨਾ ਹੈ। ਮਾੜੇ ਪ੍ਰਭਾਵਾਂ ਵਿੱਚ ਮਤਲੀ ਅਤੇ ਲੀਵਰ ਐਨਜ਼ਾਈਮਾਂ ਵਿੱਚ ਵਾਧਾ ਸ਼ਾਮਲ ਹਨ। ਗੁਰਦੇ ਦੀ ਗੰਭੀਰ ਕਮਜ਼ੋਰੀ ਵਾਲੇ ਮਰੀਜ਼ਾਂ ਲਈ ਇਹ ਮਨ੍ਹਾ ਹੈ। \n",
      "\n",
      "ਇਲਾਜ ਦੌਰਾਨ ਲੀਵਰ ਅਤੇ ਗੁਰਦੇ ਦੇ ਕੰਮ ਦੀ ਨਿਯਮਿਤ ਜਾਂਚ ਕਰਨੀ ਚਾਹੀਦੀ ਹੈ। ਇਹ ਜਾਣਕਾਰੀ ਡਾਕਟਰਾਂ ਨੂੰ ਰੇਮਡ\n"
     ]
    }
   ],
   "source": [
    "if __name__ == \"__main__\":\n",
    "    example_file = \"Drug Information Sheet.pdf\"\n",
    "    example_query = \"ਪੂਰੇ ਦਸਤਾਵੇਜ਼ ਨੂੰ 200 ਸ਼ਬਦਾਂ ਵਿੱਚ ਸੰਖੇਪ ਕਰੋ\" # Punjabi\n",
    "    example_session = os.environ.get(\"EXAMPLE_SESSION_ID\", \"demo-session-1\")\n",
    "\n",
    "    # Enable history for demo by setting CONVO_HISTORY_ENABLED=true\n",
    "    try:\n",
    "        response = run_direct_document_qa(\n",
    "            example_file,\n",
    "            example_query,\n",
    "            MODEL_CONTEXT_TOKENS,\n",
    "            session_id=example_session\n",
    "        )\n",
    "        print(\"\\n=== Answer ===\")\n",
    "        print(response)\n",
    "    except Exception as e:\n",
    "        logger.exception(\"Pipeline execution failed.\")\n",
    "        raise"
   ]
  },
  {
   "cell_type": "markdown",
   "id": "b22dccec-c1b6-4f8e-ad43-01447d9aec3f",
   "metadata": {},
   "source": [
    "## Test Query- Romanian"
   ]
  },
  {
   "cell_type": "code",
   "execution_count": 66,
   "id": "98fb4004-8260-457a-b2db-d63bbffe04e1",
   "metadata": {
    "execution": {
     "iopub.execute_input": "2025-09-22T08:54:25.211222Z",
     "iopub.status.busy": "2025-09-22T08:54:25.210983Z",
     "iopub.status.idle": "2025-09-22T08:54:32.586318Z",
     "shell.execute_reply": "2025-09-22T08:54:32.585527Z",
     "shell.execute_reply.started": "2025-09-22T08:54:25.211201Z"
    }
   },
   "outputs": [
    {
     "name": "stdout",
     "output_type": "stream",
     "text": [
      "[INFO] 2025-09-22 08:54:25,214 - Medical Chatbot G-Version - Query language: code=ro (Romanian), conf≈1.00\n",
      "[INFO] 2025-09-22 08:54:25,215 - Medical Chatbot G-Version - Loading PDF: Drug Information Sheet.pdf\n",
      "[INFO] 2025-09-22 08:54:25,248 - Medical Chatbot G-Version - Token check: total=395, budget=128000, fits=True\n",
      "[INFO] 2025-09-22 08:54:32,566 - Medical Chatbot G-Version - Language verify OK: expected=ro, detected=ro\n",
      "[INFO] 2025-09-22 08:54:32,574 - Medical Chatbot G-Version - Language verify OK: expected=ro, detected=ro\n",
      "\n",
      "=== Answer ===\n",
      "Acest document este o fișă informativă despre medicamentul remdesivir, un agent antiviral utilizat în tratamentul COVID-19. Documentul include următoarele informații:\n",
      "\n",
      "- Remdesivir face parte din clasa antiviralelor, fiind un inhibitor al ARN polimerazei.\n",
      "- Mecanismul său de acțiune constă în inhibarea ARN polimerazei virale, reducând replicarea SARS-CoV-2.\n",
      "- Este indicat pentru pacienții spitalizați cu COVID-19 confirmat, care necesită oxigen suplimentar, dar nu sunt ventilați invaziv.\n",
      "- Dozajul include o doză de încărcare de 200 mg IV în ziua 1, urmată de o doză de întreținere de 100 mg IV zilnic timp de 4-9 zile.\n",
      "- Efectele adverse includ greață și creșteri ale transaminazelor, iar rar pot apărea reacții de hipersensibilitate și disfuncție renală.\n",
      "- Se recomandă monitorizarea funcției hepatice și renale înainte și în timpul tratamentului.\n",
      "- Contraindicațiile includ insuficiența renală severă și hipersensibilitatea cunoscută la remdesivir.\n",
      "\n",
      "Documentul oferă informații concise și relevante pentru clinicieni despre utilizarea remdesivirului în tratamentul COVID-19, incluzând detalii despre mecanism, indicații, dozare, efecte adverse și cerințe de monitorizare.\n"
     ]
    }
   ],
   "source": [
    "if __name__ == \"__main__\":\n",
    "    example_file = \"Drug Information Sheet.pdf\"\n",
    "    example_query = \"Rezumați întregul document în 200 de cuvinte\" # Romanian\n",
    "    example_session = os.environ.get(\"EXAMPLE_SESSION_ID\", \"demo-session-1\")\n",
    "\n",
    "    # Enable history for demo by setting CONVO_HISTORY_ENABLED=true\n",
    "    try:\n",
    "        response = run_direct_document_qa(\n",
    "            example_file,\n",
    "            example_query,\n",
    "            MODEL_CONTEXT_TOKENS,\n",
    "            session_id=example_session\n",
    "        )\n",
    "        print(\"\\n=== Answer ===\")\n",
    "        print(response)\n",
    "    except Exception as e:\n",
    "        logger.exception(\"Pipeline execution failed.\")\n",
    "        raise"
   ]
  },
  {
   "cell_type": "markdown",
   "id": "ee3bf2a6-fde4-4ec8-8f81-61e02f8eba1c",
   "metadata": {},
   "source": [
    "## Test Query- Russian"
   ]
  },
  {
   "cell_type": "code",
   "execution_count": 67,
   "id": "5478865e-7354-406c-897d-ee20df1621ed",
   "metadata": {
    "execution": {
     "iopub.execute_input": "2025-09-22T08:54:32.587679Z",
     "iopub.status.busy": "2025-09-22T08:54:32.587413Z",
     "iopub.status.idle": "2025-09-22T08:54:40.316216Z",
     "shell.execute_reply": "2025-09-22T08:54:40.315402Z",
     "shell.execute_reply.started": "2025-09-22T08:54:32.587655Z"
    }
   },
   "outputs": [
    {
     "name": "stdout",
     "output_type": "stream",
     "text": [
      "[INFO] 2025-09-22 08:54:32,591 - Medical Chatbot G-Version - Query language: code=ru (Russian), conf≈1.00\n",
      "[INFO] 2025-09-22 08:54:32,595 - Medical Chatbot G-Version - Loading PDF: Drug Information Sheet.pdf\n",
      "[INFO] 2025-09-22 08:54:32,629 - Medical Chatbot G-Version - Token check: total=396, budget=128000, fits=True\n",
      "[INFO] 2025-09-22 08:54:40,299 - Medical Chatbot G-Version - Language verify OK: expected=ru, detected=ru\n",
      "[INFO] 2025-09-22 08:54:40,305 - Medical Chatbot G-Version - Language verify OK: expected=ru, detected=ru\n",
      "\n",
      "=== Answer ===\n",
      "Этот документ представляет собой информационный лист о препарате ремдесивир для лечения COVID-19. Ремдесивир - это противовирусный препарат класса нуклеозидных аналогов, ингибирующий РНК-зависимую РНК-полимеразу вируса SARS-CoV-2. Он показан для госпитализированных пациентов с подтвержденным COVID-19, требующих дополнительного кислорода, но не находящихся на инвазивной вентиляции легких. \n",
      "\n",
      "Схема дозирования включает нагрузочную дозу 200 мг внутривенно в первый день, затем поддерживающую дозу 100 мг внутривенно ежедневно в течение 4-9 дней в зависимости от клинического ответа. \n",
      "\n",
      "Побочные эффекты включают тошноту и повышение уровня трансаминаз. Редко могут возникать реакции гиперчувствительности и нарушения функции почек. \n",
      "\n",
      "Необходим мониторинг функции печени и почек до и во время лечения. Противопоказания включают тяжелую почечную недостаточность (СКФ <30 мл/мин) и известную гиперчувствительность к ремдесивиру.\n",
      "\n",
      "Документ также содержит метаданные и ссылки на два исследования по применению и безопасности ремдесивира при COVID-19.\n"
     ]
    }
   ],
   "source": [
    "if __name__ == \"__main__\":\n",
    "    example_file = \"Drug Information Sheet.pdf\"\n",
    "    example_query = \"Суммируйте весь документ в 200 словах\" # Russian\n",
    "    example_session = os.environ.get(\"EXAMPLE_SESSION_ID\", \"demo-session-1\")\n",
    "\n",
    "    # Enable history for demo by setting CONVO_HISTORY_ENABLED=true\n",
    "    try:\n",
    "        response = run_direct_document_qa(\n",
    "            example_file,\n",
    "            example_query,\n",
    "            MODEL_CONTEXT_TOKENS,\n",
    "            session_id=example_session\n",
    "        )\n",
    "        print(\"\\n=== Answer ===\")\n",
    "        print(response)\n",
    "    except Exception as e:\n",
    "        logger.exception(\"Pipeline execution failed.\")\n",
    "        raise"
   ]
  },
  {
   "cell_type": "markdown",
   "id": "2a4abb9b-c255-4ebd-bbf9-330e2e144590",
   "metadata": {},
   "source": [
    "## Test Query- Slovak"
   ]
  },
  {
   "cell_type": "code",
   "execution_count": 68,
   "id": "ab83165c-0133-48e4-858a-6020b80e890b",
   "metadata": {
    "execution": {
     "iopub.execute_input": "2025-09-22T08:54:40.317754Z",
     "iopub.status.busy": "2025-09-22T08:54:40.317194Z",
     "iopub.status.idle": "2025-09-22T08:54:47.825607Z",
     "shell.execute_reply": "2025-09-22T08:54:47.824829Z",
     "shell.execute_reply.started": "2025-09-22T08:54:40.317728Z"
    }
   },
   "outputs": [
    {
     "name": "stdout",
     "output_type": "stream",
     "text": [
      "[INFO] 2025-09-22 08:54:40,332 - Medical Chatbot G-Version - Query language: code=sk (Slovak), conf≈1.00\n",
      "[INFO] 2025-09-22 08:54:40,333 - Medical Chatbot G-Version - Loading PDF: Drug Information Sheet.pdf\n",
      "[INFO] 2025-09-22 08:54:40,367 - Medical Chatbot G-Version - Token check: total=393, budget=128000, fits=True\n",
      "[INFO] 2025-09-22 08:54:47,807 - Medical Chatbot G-Version - Language verify OK: expected=sk, detected=sk\n",
      "[INFO] 2025-09-22 08:54:47,814 - Medical Chatbot G-Version - Language verify OK: expected=sk, detected=sk\n",
      "\n",
      "=== Answer ===\n",
      "Tento dokument je informačný list o lieku remdesivir, ktorý sa používa na liečbu COVID-19. Remdesivir je antivirotikum, ktoré inhibuje vírusovú RNA-dependentnú RNA polymerázu, čím znižuje replikáciu SARS-CoV-2. Je indikovaný pre hospitalizovaných pacientov s potvrdeným COVID-19, ktorí vyžadujú doplnkový kyslík, ale nie sú na invazívnej ventilácii. \n",
      "\n",
      "Dávkovanie zahŕňa úvodnú dávku 200 mg intravenózne v prvý deň, po ktorej nasleduje udržiavacia dávka 100 mg denne po dobu 4 až 9 dní. Medzi nežiaduce účinky patrí nevoľnosť a zvýšenie transamináz, zriedkavo sa môžu vyskytnúť reakcie z precitlivenosti a poruchy funkcie obličiek. \n",
      "\n",
      "Pred liečbou a počas nej je potrebné monitorovať funkciu pečene a obličiek. Liek je kontraindikovaný pri závažnej poruche funkcie obličiek a známej precitlivenosti na remdesivir. Dokument obsahuje aj metadáta a odkazy na ďalšie štúdie o remdesivire.\n"
     ]
    }
   ],
   "source": [
    "if __name__ == \"__main__\":\n",
    "    example_file = \"Drug Information Sheet.pdf\"\n",
    "    example_query = \"Zhrňte celý dokument do 200 slov\" # Slovak\n",
    "    example_session = os.environ.get(\"EXAMPLE_SESSION_ID\", \"demo-session-1\")\n",
    "\n",
    "    # Enable history for demo by setting CONVO_HISTORY_ENABLED=true\n",
    "    try:\n",
    "        response = run_direct_document_qa(\n",
    "            example_file,\n",
    "            example_query,\n",
    "            MODEL_CONTEXT_TOKENS,\n",
    "            session_id=example_session\n",
    "        )\n",
    "        print(\"\\n=== Answer ===\")\n",
    "        print(response)\n",
    "    except Exception as e:\n",
    "        logger.exception(\"Pipeline execution failed.\")\n",
    "        raise"
   ]
  },
  {
   "cell_type": "markdown",
   "id": "201ace32-edd7-4dc6-9107-f226add80609",
   "metadata": {},
   "source": [
    "## Test Query- Slovene"
   ]
  },
  {
   "cell_type": "code",
   "execution_count": 69,
   "id": "b917e90c-306a-410b-9160-5dc496b20c88",
   "metadata": {
    "execution": {
     "iopub.execute_input": "2025-09-22T08:54:47.827057Z",
     "iopub.status.busy": "2025-09-22T08:54:47.826428Z",
     "iopub.status.idle": "2025-09-22T08:54:55.132880Z",
     "shell.execute_reply": "2025-09-22T08:54:55.132206Z",
     "shell.execute_reply.started": "2025-09-22T08:54:47.827031Z"
    }
   },
   "outputs": [
    {
     "name": "stdout",
     "output_type": "stream",
     "text": [
      "[INFO] 2025-09-22 08:54:47,851 - Medical Chatbot G-Version - Query language: code=sl (Slovene), conf≈0.82\n",
      "[INFO] 2025-09-22 08:54:47,852 - Medical Chatbot G-Version - Loading PDF: Drug Information Sheet.pdf\n",
      "[INFO] 2025-09-22 08:54:47,884 - Medical Chatbot G-Version - Token check: total=393, budget=128000, fits=True\n",
      "[INFO] 2025-09-22 08:54:55,112 - Medical Chatbot G-Version - Language verify OK: expected=sl, detected=sl\n",
      "[INFO] 2025-09-22 08:54:55,121 - Medical Chatbot G-Version - Language verify OK: expected=sl, detected=sl\n",
      "\n",
      "=== Answer ===\n",
      "Ta dokument je informacijski list o zdravilu remdesivir, protivirusnem zdravilu za zdravljenje COVID-19. Vsebuje naslednje ključne informacije:\n",
      "\n",
      "- Remdesivir je nukleozidni analog, ki zavira virusno RNA-odvisno RNA polimerazo in tako zmanjšuje replikacijo SARS-CoV-2.\n",
      "\n",
      "- Indiciran je za hospitalizirane bolnike s potrjenim COVID-19, ki potrebujejo dodatni kisik, vendar niso na invazivni ventilaciji.\n",
      "\n",
      "- Odmerjanje: začetni odmerek 200 mg intravensko prvi dan, nato vzdrževalni odmerek 100 mg intravensko dnevno 4 do 9 dni.\n",
      "\n",
      "- Neželeni učinki vključujejo slabost in povišanje transaminaz, redko pa lahko pride do preobčutljivostnih reakcij in ledvične disfunkcije.\n",
      "\n",
      "- Potrebno je spremljanje jetrne in ledvične funkcije pred in med zdravljenjem.\n",
      "\n",
      "- Kontraindikacije so huda ledvična okvara (eGFR <30 mL/min) in znana preobčutljivost na remdesivir.\n",
      "\n",
      "Dokument vsebuje tudi metapodatke o vrsti dokumenta, specialnosti in ključnih besedah ter dva bibliografska vira za nadaljnje informacije.\n"
     ]
    }
   ],
   "source": [
    "if __name__ == \"__main__\":\n",
    "    example_file = \"Drug Information Sheet.pdf\"\n",
    "    example_query = \"Povzemite celoten dokument v 200 besedah\" # Slovene\n",
    "    example_session = os.environ.get(\"EXAMPLE_SESSION_ID\", \"demo-session-1\")\n",
    "\n",
    "    # Enable history for demo by setting CONVO_HISTORY_ENABLED=true\n",
    "    try:\n",
    "        response = run_direct_document_qa(\n",
    "            example_file,\n",
    "            example_query,\n",
    "            MODEL_CONTEXT_TOKENS,\n",
    "            session_id=example_session\n",
    "        )\n",
    "        print(\"\\n=== Answer ===\")\n",
    "        print(response)\n",
    "    except Exception as e:\n",
    "        logger.exception(\"Pipeline execution failed.\")\n",
    "        raise"
   ]
  },
  {
   "cell_type": "markdown",
   "id": "4036f306-8ecf-4811-b991-529c51a8020a",
   "metadata": {},
   "source": [
    "## Test Query- Spanish "
   ]
  },
  {
   "cell_type": "code",
   "execution_count": 70,
   "id": "6f31f7bd-6ab5-487c-9d6e-cf4b7d22db44",
   "metadata": {
    "execution": {
     "iopub.execute_input": "2025-09-22T08:54:55.134053Z",
     "iopub.status.busy": "2025-09-22T08:54:55.133818Z",
     "iopub.status.idle": "2025-09-22T08:55:01.682691Z",
     "shell.execute_reply": "2025-09-22T08:55:01.681764Z",
     "shell.execute_reply.started": "2025-09-22T08:54:55.134033Z"
    }
   },
   "outputs": [
    {
     "name": "stdout",
     "output_type": "stream",
     "text": [
      "[INFO] 2025-09-22 08:54:55,142 - Medical Chatbot G-Version - Query language: code=es (Spanish), conf≈0.86\n",
      "[INFO] 2025-09-22 08:54:55,144 - Medical Chatbot G-Version - Loading PDF: Drug Information Sheet.pdf\n",
      "[INFO] 2025-09-22 08:54:55,178 - Medical Chatbot G-Version - Token check: total=389, budget=128000, fits=True\n",
      "[INFO] 2025-09-22 08:55:01,663 - Medical Chatbot G-Version - Language verify OK: expected=es, detected=es\n",
      "[INFO] 2025-09-22 08:55:01,671 - Medical Chatbot G-Version - Language verify OK: expected=es, detected=es\n",
      "\n",
      "=== Answer ===\n",
      "Este documento es una hoja informativa sobre el remdesivir, un medicamento antiviral utilizado para tratar el COVID-19. Proporciona información clave para los médicos sobre:\n",
      "\n",
      "- Tipo de medicamento: Antiviral inhibidor de la polimerasa de ARN\n",
      "- Mecanismo de acción: Inhibe la replicación del SARS-CoV-2\n",
      "- Indicaciones: Pacientes hospitalizados con COVID-19 que requieren oxígeno suplementario pero no ventilación invasiva\n",
      "- Dosificación: 200 mg IV el día 1, seguido de 100 mg IV diarios durante 4-9 días\n",
      "- Efectos adversos: Náuseas, elevación de transaminasas, y raramente reacciones de hipersensibilidad y disfunción renal\n",
      "- Monitoreo: Pruebas de función hepática y renal al inicio y periódicamente durante el tratamiento\n",
      "- Contraindicaciones: Insuficiencia renal grave e hipersensibilidad conocida al remdesivir\n",
      "\n",
      "El documento incluye metadatos sobre el tipo de documento, especialidad y palabras clave, así como un título, resumen y contenido principal detallado. También proporciona dos referencias bibliográficas de estudios recientes sobre el uso y la seguridad del remdesivir en el tratamiento del COVID-19.\n"
     ]
    }
   ],
   "source": [
    "if __name__ == \"__main__\":\n",
    "    example_file = \"Drug Information Sheet.pdf\"\n",
    "    example_query = \"Resuma todo el documento en 200 palabras\" # Spanish (incl. Mexico)\n",
    "    example_session = os.environ.get(\"EXAMPLE_SESSION_ID\", \"demo-session-1\")\n",
    "\n",
    "    # Enable history for demo by setting CONVO_HISTORY_ENABLED=true\n",
    "    try:\n",
    "        response = run_direct_document_qa(\n",
    "            example_file,\n",
    "            example_query,\n",
    "            MODEL_CONTEXT_TOKENS,\n",
    "            session_id=example_session\n",
    "        )\n",
    "        print(\"\\n=== Answer ===\")\n",
    "        print(response)\n",
    "    except Exception as e:\n",
    "        logger.exception(\"Pipeline execution failed.\")\n",
    "        raise"
   ]
  },
  {
   "cell_type": "markdown",
   "id": "4cd3b40f-af04-4976-b67b-45049d8ad3d0",
   "metadata": {},
   "source": [
    "## Test Query- Swahili"
   ]
  },
  {
   "cell_type": "code",
   "execution_count": 71,
   "id": "e74cbf64-0277-401f-ae22-e56d72b6c54b",
   "metadata": {
    "execution": {
     "iopub.execute_input": "2025-09-22T08:55:01.684374Z",
     "iopub.status.busy": "2025-09-22T08:55:01.683693Z",
     "iopub.status.idle": "2025-09-22T08:55:12.975948Z",
     "shell.execute_reply": "2025-09-22T08:55:12.975046Z",
     "shell.execute_reply.started": "2025-09-22T08:55:01.684348Z"
    }
   },
   "outputs": [
    {
     "name": "stdout",
     "output_type": "stream",
     "text": [
      "[INFO] 2025-09-22 08:55:01,687 - Medical Chatbot G-Version - Query language: code=sw (Swahili), conf≈1.00\n",
      "[INFO] 2025-09-22 08:55:01,690 - Medical Chatbot G-Version - Loading PDF: Drug Information Sheet.pdf\n",
      "[INFO] 2025-09-22 08:55:01,725 - Medical Chatbot G-Version - Token check: total=393, budget=128000, fits=True\n",
      "[INFO] 2025-09-22 08:55:12,961 - Medical Chatbot G-Version - Language verify OK: expected=sw, detected=sw\n",
      "[INFO] 2025-09-22 08:55:12,965 - Medical Chatbot G-Version - Language verify OK: expected=sw, detected=sw\n",
      "\n",
      "=== Answer ===\n",
      "Hati hii ni kuhusu dawa ya remdesivir inayotumika kutibu COVID-19. Yafuatayo ni muhtasari wa hati hiyo:\n",
      "\n",
      "Remdesivir ni dawa ya kupambana na virusi aina ya nucleoside analogue ambayo huzuia RNA polymerase. Inafanya kazi kwa kuzuia utengenezaji wa virusi vya SARS-CoV-2.\n",
      "\n",
      "Inapendekezwa kwa wagonjwa waliolazwa hospitali wenye COVID-19 iliyothibitishwa na wanahitaji oksijeni ya ziada lakini hawako kwenye ventilator.\n",
      "\n",
      "Dozi ya kwanza ni 200 mg kwa njia ya mshipa siku ya kwanza, ikifuatiwa na dozi ya 100 mg kila siku kwa siku 4 hadi 9 kulingana na mwitikio wa mgonjwa.\n",
      "\n",
      "Madhara yanayoweza kutokea ni kichefuchefu na kuongezeka kwa viwango vya transaminase. Mara chache, inaweza kusababisha mzio au shida za figo.\n",
      "\n",
      "Ni muhimu kufanya vipimo vya utendaji wa ini na figo kabla ya kuanza matibabu na kufuatilia mara kwa mara wakati wa matibabu.\n",
      "\n",
      "Haipaswi kutumika kwa wagonjwa wenye shida kali za figo au wale wenye mzio wa remdesivir.\n",
      "\n",
      "Hati hii pia inatoa marejeleo ya tafiti mbili kuhusu matumizi na usalama wa remdesivir.\n"
     ]
    }
   ],
   "source": [
    "if __name__ == \"__main__\":\n",
    "    example_file = \"Drug Information Sheet.pdf\"\n",
    "    example_query =\"Fupisha hati nzima kwa maneno 200\" # Swahili\n",
    "    example_session = os.environ.get(\"EXAMPLE_SESSION_ID\", \"demo-session-1\")\n",
    "\n",
    "    # Enable history for demo by setting CONVO_HISTORY_ENABLED=true\n",
    "    try:\n",
    "        response = run_direct_document_qa(\n",
    "            example_file,\n",
    "            example_query,\n",
    "            MODEL_CONTEXT_TOKENS,\n",
    "            session_id=example_session\n",
    "        )\n",
    "        print(\"\\n=== Answer ===\")\n",
    "        print(response)\n",
    "    except Exception as e:\n",
    "        logger.exception(\"Pipeline execution failed.\")\n",
    "        raise"
   ]
  },
  {
   "cell_type": "markdown",
   "id": "567ba973-8cd0-4e81-a45e-f7f0c6b21347",
   "metadata": {},
   "source": [
    "## Test Query- Swedish"
   ]
  },
  {
   "cell_type": "code",
   "execution_count": 72,
   "id": "15df45d9-9d64-4a83-9506-8562770457fa",
   "metadata": {
    "execution": {
     "iopub.execute_input": "2025-09-22T08:55:12.976983Z",
     "iopub.status.busy": "2025-09-22T08:55:12.976761Z",
     "iopub.status.idle": "2025-09-22T08:55:20.949693Z",
     "shell.execute_reply": "2025-09-22T08:55:20.947838Z",
     "shell.execute_reply.started": "2025-09-22T08:55:12.976963Z"
    }
   },
   "outputs": [
    {
     "name": "stdout",
     "output_type": "stream",
     "text": [
      "[INFO] 2025-09-22 08:55:12,984 - Medical Chatbot G-Version - Query language: code=sv (Swedish), conf≈1.00\n",
      "[INFO] 2025-09-22 08:55:12,985 - Medical Chatbot G-Version - Loading PDF: Drug Information Sheet.pdf\n",
      "[INFO] 2025-09-22 08:55:13,028 - Medical Chatbot G-Version - Token check: total=392, budget=128000, fits=True\n",
      "[INFO] 2025-09-22 08:55:20,931 - Medical Chatbot G-Version - Language verify OK: expected=sv, detected=sv\n",
      "[INFO] 2025-09-22 08:55:20,937 - Medical Chatbot G-Version - Language verify OK: expected=sv, detected=sv\n",
      "\n",
      "=== Answer ===\n",
      "Här är en sammanfattning av dokumentet på cirka 200 ord:\n",
      "\n",
      "Detta är ett läkemedelsinformationsblad om remdesivir, ett antiviralt medel för behandling av COVID-19. Remdesivir är en nukleosidanalog som hämmar virusets RNA-beroende RNA-polymeras och minskar därmed replikationen av SARS-CoV-2.\n",
      "\n",
      "Indikationen är för sjukhusvårdade patienter med bekräftad COVID-19 som kräver extra syretillförsel men inte invasiv ventilation. \n",
      "\n",
      "Doseringen består av en laddningsdos på 200 mg intravenöst dag 1, följt av en underhållsdos på 100 mg intravenöst dagligen i 4-9 dagar beroende på kliniskt svar.\n",
      "\n",
      "Biverkningar inkluderar illamående och förhöjda transaminaser. Sällsynta biverkningar är överkänslighetsreaktioner och njurdysfunktion.\n",
      "\n",
      "Övervakning av lever- och njurfunktion krävs vid baslinjen och regelbundet under behandlingen. \n",
      "\n",
      "Kontraindikationer inkluderar svår njurfunktionsnedsättning (eGFR <30 mL/min) och känd överkänslighet mot remdesivir.\n",
      "\n",
      "Dokumentet innehåller även metadata som dokumenttyp, specialitet och nyckelord, samt två referenser till vetenskapliga artiklar om remdesivir vid behandling av COVID-19 och säkerhetsövervakning hos sjukhusvårdade patienter.\n"
     ]
    }
   ],
   "source": [
    "if __name__ == \"__main__\":\n",
    "    example_file = \"Drug Information Sheet.pdf\"\n",
    "    example_query = \"Sammanfatta hela dokumentet på 200 ord\" # Swedish\n",
    "    example_session = os.environ.get(\"EXAMPLE_SESSION_ID\", \"demo-session-1\")\n",
    "\n",
    "    # Enable history for demo by setting CONVO_HISTORY_ENABLED=true\n",
    "    try:\n",
    "        response = run_direct_document_qa(\n",
    "            example_file,\n",
    "            example_query,\n",
    "            MODEL_CONTEXT_TOKENS,\n",
    "            session_id=example_session\n",
    "        )\n",
    "        print(\"\\n=== Answer ===\")\n",
    "        print(response)\n",
    "    except Exception as e:\n",
    "        logger.exception(\"Pipeline execution failed.\")\n",
    "        raise"
   ]
  },
  {
   "cell_type": "markdown",
   "id": "83cee839-64b9-4bf6-ac32-e0e82b7a7cc3",
   "metadata": {},
   "source": [
    "## Test Query- Tamil"
   ]
  },
  {
   "cell_type": "code",
   "execution_count": 73,
   "id": "6b7b865a-2e3a-41d1-b61e-e75c4b3cc486",
   "metadata": {
    "execution": {
     "iopub.execute_input": "2025-09-22T08:55:20.950703Z",
     "iopub.status.busy": "2025-09-22T08:55:20.950466Z",
     "iopub.status.idle": "2025-09-22T08:55:35.416294Z",
     "shell.execute_reply": "2025-09-22T08:55:35.415484Z",
     "shell.execute_reply.started": "2025-09-22T08:55:20.950682Z"
    }
   },
   "outputs": [
    {
     "name": "stdout",
     "output_type": "stream",
     "text": [
      "[INFO] 2025-09-22 08:55:20,952 - Medical Chatbot G-Version - Query language: code=ta (Tamil), conf≈1.00\n",
      "[INFO] 2025-09-22 08:55:20,954 - Medical Chatbot G-Version - Loading PDF: Drug Information Sheet.pdf\n",
      "[INFO] 2025-09-22 08:55:20,988 - Medical Chatbot G-Version - Token check: total=435, budget=128000, fits=True\n",
      "[INFO] 2025-09-22 08:55:35,400 - Medical Chatbot G-Version - Language verify OK: expected=ta, detected=ta\n",
      "[INFO] 2025-09-22 08:55:35,404 - Medical Chatbot G-Version - Language verify OK: expected=ta, detected=ta\n",
      "\n",
      "=== Answer ===\n",
      "இந்த மருந்து தகவல் தாள் ரெம்டெசிவிர் பற்றிய விவரங்களை வழங்குகிறது. இது COVID-19க்கான ஒரு ஆன்டிவைரல் மருந்தாகும். இது வைரஸ் RNA பாலிமரேஸை தடுக்கிறது. SARS-CoV-2 பெருக்கத்தைக் குறைக்கிறது. \n",
      "\n",
      "மருத்துவமனையில் அனுமதிக்கப்பட்ட COVID-19 நோயாளிகளுக்கு பரிந்துரைக்கப்படுகிறது. முதல் நாள் 200 மி.கி. IV லோடிங் டோஸ், பின்னர் 4-9 நாட்களுக்கு தினமும் 100 மி.கி. IV பராமரிப்பு டோஸ் கொடுக்கப்படுகிறது.\n",
      "\n",
      "பக்க விளைவுகளில் குமட்டல், டிரான்சாமினேஸ் உயர்வு ஆகியவை அடங்கும். அரிதாக ஒவ்வாமை, சிறுநீரக செயலிழப்பு ஏற்படலாம். \n",
      "\n",
      "சிகிச்சைக்கு முன்பும் பின்பும் கல்லீரல் மற்றும் சிறுநீரக செயல்பாட்டு சோதனைகள் தேவை. கடுமையான சிறுநீரக பாதிப்பு உள்ளவர்களுக்கும், ரெம்டெசிவிருக்கு ஒவ்வாமை உள்ளவர்களுக்கும் தவிர்க்க வேண்டும்.\n"
     ]
    }
   ],
   "source": [
    "if __name__ == \"__main__\":\n",
    "    example_file = \"Drug Information Sheet.pdf\"\n",
    "    example_query = \"முழு ஆவணத்தையும் 200 சொற்களில் சுருக்கவும்\" # Tamil\n",
    "    example_session = os.environ.get(\"EXAMPLE_SESSION_ID\", \"demo-session-1\")\n",
    "\n",
    "    # Enable history for demo by setting CONVO_HISTORY_ENABLED=true\n",
    "    try:\n",
    "        response = run_direct_document_qa(\n",
    "            example_file,\n",
    "            example_query,\n",
    "            MODEL_CONTEXT_TOKENS,\n",
    "            session_id=example_session\n",
    "        )\n",
    "        print(\"\\n=== Answer ===\")\n",
    "        print(response)\n",
    "    except Exception as e:\n",
    "        logger.exception(\"Pipeline execution failed.\")\n",
    "        raise"
   ]
  },
  {
   "cell_type": "markdown",
   "id": "bbdcaa39-6cc8-4028-9979-322e3c92761a",
   "metadata": {},
   "source": [
    "## Test Query- Telugu"
   ]
  },
  {
   "cell_type": "code",
   "execution_count": 74,
   "id": "f9555b48-bc6e-4348-a7e4-efd9da8eab39",
   "metadata": {
    "execution": {
     "iopub.execute_input": "2025-09-22T08:55:35.417628Z",
     "iopub.status.busy": "2025-09-22T08:55:35.417337Z",
     "iopub.status.idle": "2025-09-22T08:55:48.447346Z",
     "shell.execute_reply": "2025-09-22T08:55:48.446627Z",
     "shell.execute_reply.started": "2025-09-22T08:55:35.417608Z"
    }
   },
   "outputs": [
    {
     "name": "stdout",
     "output_type": "stream",
     "text": [
      "[INFO] 2025-09-22 08:55:35,421 - Medical Chatbot G-Version - Query language: code=te (Telugu), conf≈1.00\n",
      "[INFO] 2025-09-22 08:55:35,421 - Medical Chatbot G-Version - Loading PDF: Drug Information Sheet.pdf\n",
      "[INFO] 2025-09-22 08:55:35,458 - Medical Chatbot G-Version - Token check: total=450, budget=128000, fits=True\n",
      "[INFO] 2025-09-22 08:55:48,432 - Medical Chatbot G-Version - Language verify OK: expected=te, detected=te\n",
      "[INFO] 2025-09-22 08:55:48,436 - Medical Chatbot G-Version - Language verify OK: expected=te, detected=te\n",
      "\n",
      "=== Answer ===\n",
      "ఈ పత్రం రెమ్డెసివిర్ అనే COVID-19 చికిత్స కోసం ఉపయోగించే యాంటీవైరల్ ఔషధం గురించి సమాచారాన్ని అందిస్తుంది. ఇది RNA పాలిమరేజ్ ఇన్హిబిటర్ గా పనిచేస్తుంది. ఆస్పత్రిలో చేరిన COVID-19 రోగులకు ఇది సూచించబడింది. మొదటి రోజు 200 mg IV లోడింగ్ డోస్ తో మొదలై, తరువాత 4-9 రోజులు రోజుకు 100 mg IV నిర్వహణ మోతాదు ఇవ్వబడుతుంది. దీని దుష్ప్రభావాలలో వాంతులు, ట్రాన్సమినేస్ పెరుగుదల ఉన్నాయి. చికిత్స సమయంలో కాలేయం, మూత్రపిండాల పనితీరును పరీక్షించాలి. తీవ్రమైన మూత్రపిండాల సమస్యలు లేదా రెమ్డెసివిర్ పట్ల అతిస్పందన ఉన్నవారికి ఇది వాడకూడదు. ఈ సమాచారం వైద్యులకు రెమ్డెసివిర్ గురించి అవగాహన కల్పించడానికి ఉద్దేశించబడింది.\n"
     ]
    }
   ],
   "source": [
    "if __name__ == \"__main__\":\n",
    "    example_file = \"Drug Information Sheet.pdf\"\n",
    "    example_query = \"మొత్తం పత్రాన్ని 200 పదాలలో సారాంశం చేయండి\" # Telugu\n",
    "    example_session = os.environ.get(\"EXAMPLE_SESSION_ID\", \"demo-session-1\")\n",
    "\n",
    "    # Enable history for demo by setting CONVO_HISTORY_ENABLED=true\n",
    "    try:\n",
    "        response = run_direct_document_qa(\n",
    "            example_file,\n",
    "            example_query,\n",
    "            MODEL_CONTEXT_TOKENS,\n",
    "            session_id=example_session\n",
    "        )\n",
    "        print(\"\\n=== Answer ===\")\n",
    "        print(response)\n",
    "    except Exception as e:\n",
    "        logger.exception(\"Pipeline execution failed.\")\n",
    "        raise"
   ]
  },
  {
   "cell_type": "markdown",
   "id": "4e895002-edaf-4aaf-b9e1-e8eaebac25f8",
   "metadata": {},
   "source": [
    "## Test Query- Thai"
   ]
  },
  {
   "cell_type": "code",
   "execution_count": 75,
   "id": "124e27c2-5534-46d9-87ba-6618b475190d",
   "metadata": {
    "execution": {
     "iopub.execute_input": "2025-09-22T08:55:48.448418Z",
     "iopub.status.busy": "2025-09-22T08:55:48.448174Z",
     "iopub.status.idle": "2025-09-22T08:56:01.734508Z",
     "shell.execute_reply": "2025-09-22T08:56:01.733771Z",
     "shell.execute_reply.started": "2025-09-22T08:55:48.448398Z"
    }
   },
   "outputs": [
    {
     "name": "stdout",
     "output_type": "stream",
     "text": [
      "[INFO] 2025-09-22 08:55:48,450 - Medical Chatbot G-Version - Query language: code=th (Thai), conf≈1.00\n",
      "[INFO] 2025-09-22 08:55:48,451 - Medical Chatbot G-Version - Loading PDF: Drug Information Sheet.pdf\n",
      "[INFO] 2025-09-22 08:55:48,486 - Medical Chatbot G-Version - Token check: total=403, budget=128000, fits=True\n",
      "[INFO] 2025-09-22 08:56:01,719 - Medical Chatbot G-Version - Language verify OK: expected=th, detected=th\n",
      "[INFO] 2025-09-22 08:56:01,723 - Medical Chatbot G-Version - Language verify OK: expected=th, detected=th\n",
      "\n",
      "=== Answer ===\n",
      "เอกสารนี้เป็นแผ่นข้อมูลยาเกี่ยวกับ remdesivir ซึ่งเป็นยาต้านไวรัสสำหรับรักษา COVID-19 โดยมีรายละเอียดดังนี้:\n",
      "\n",
      "- ประเภท: ยาต้านไวรัสกลุ่ม nucleoside analogue ที่ยับยั้งเอนไซม์ RNA polymerase\n",
      "- กลไกการออกฤทธิ์: ยับยั้งการทำงานของ viral RNA-dependent RNA polymerase ทำให้ไวรัส SARS-CoV-2 ลดการแบ่งตัว\n",
      "- ข้อบ่งใช้: ผู้ป่วย COVID-19 ที่ต้องรับการรักษาในโรงพยาบาลและต้องการออกซิเจนเสริม แต่ไม่ได้ใช้เครื่องช่วยหายใจ\n",
      "- ขนาดยา: วันแรกให้ 200 มก. ทางหลอดเลือดดำ หลังจากนั้นให้ 100 มก. ต่อวันเป็นเวลา 4-9 วัน\n",
      "- ผลข้างเคียง: คลื่นไส้ ค่าเอนไซม์ตับสูงขึ้น และอาจพบภาวะแพ้ยาหรือการทำงานของไตผิดปกติได้น้อย\n",
      "- การติดตาม: ตรวจการทำงานของตับและไตก่อนและระหว่างการรักษา\n",
      "- ข้อห้ามใช้: ผู้ที่มีการทำงานของไตบกพร่องรุนแรง หรือแพ้ยา remdesivir\n",
      "\n",
      "เอกสารนี้มีไว้เพื่อให้ข้อมูลแก่แพทย์เกี่ยวกับการใช้ยา remdesivir ในการรักษาผู้ป่วย COVID-19\n"
     ]
    }
   ],
   "source": [
    "if __name__ == \"__main__\":\n",
    "    example_file = \"Drug Information Sheet.pdf\"\n",
    "    example_query = \"สรุปเอกสารทั้งหมดใน 200 คำ\" # Thai\n",
    "    example_session = os.environ.get(\"EXAMPLE_SESSION_ID\", \"demo-session-1\")\n",
    "\n",
    "    # Enable history for demo by setting CONVO_HISTORY_ENABLED=true\n",
    "    try:\n",
    "        response = run_direct_document_qa(\n",
    "            example_file,\n",
    "            example_query,\n",
    "            MODEL_CONTEXT_TOKENS,\n",
    "            session_id=example_session\n",
    "        )\n",
    "        print(\"\\n=== Answer ===\")\n",
    "        print(response)\n",
    "    except Exception as e:\n",
    "        logger.exception(\"Pipeline execution failed.\")\n",
    "        raise"
   ]
  },
  {
   "cell_type": "markdown",
   "id": "1177a0b7-d4e3-4595-9ca0-78072ac2cf06",
   "metadata": {},
   "source": [
    "## Test Query- Tagalog"
   ]
  },
  {
   "cell_type": "code",
   "execution_count": 76,
   "id": "1b6a51db-88b7-4782-a06a-5ccf3ab38375",
   "metadata": {
    "execution": {
     "iopub.execute_input": "2025-09-22T08:56:01.735516Z",
     "iopub.status.busy": "2025-09-22T08:56:01.735286Z",
     "iopub.status.idle": "2025-09-22T08:56:10.761418Z",
     "shell.execute_reply": "2025-09-22T08:56:10.760516Z",
     "shell.execute_reply.started": "2025-09-22T08:56:01.735497Z"
    }
   },
   "outputs": [
    {
     "name": "stdout",
     "output_type": "stream",
     "text": [
      "[INFO] 2025-09-22 08:56:01,739 - Medical Chatbot G-Version - Query language: code=tl (Tagalog), conf≈1.00\n",
      "[INFO] 2025-09-22 08:56:01,740 - Medical Chatbot G-Version - Loading PDF: Drug Information Sheet.pdf\n",
      "[INFO] 2025-09-22 08:56:01,882 - Medical Chatbot G-Version - Token check: total=393, budget=128000, fits=True\n",
      "[INFO] 2025-09-22 08:56:10,744 - Medical Chatbot G-Version - Language verify OK: expected=tl, detected=tl\n",
      "[INFO] 2025-09-22 08:56:10,750 - Medical Chatbot G-Version - Language verify OK: expected=tl, detected=tl\n",
      "\n",
      "=== Answer ===\n",
      "Ang dokumentong ito ay isang drug information sheet tungkol sa remdesivir, isang antiviral na gamot para sa COVID-19. Ito ay nagbibigay ng mahahalagang impormasyon para sa mga clinician.\n",
      "\n",
      "Ang remdesivir ay kabilang sa klase ng antiviral na nucleoside analogue RNA polymerase inhibitor. Gumagana ito sa pamamagitan ng pag-inhibit ng viral RNA-dependent RNA polymerase, na nagpapababa ng pagdami ng SARS-CoV-2.\n",
      "\n",
      "Inirerekomenda ito para sa mga pasyenteng na-ospital dahil sa COVID-19 na nangangailangan ng supplemental oxygen ngunit hindi naka-invasive ventilation.\n",
      "\n",
      "Ang dosis ay 200 mg IV sa unang araw, at 100 mg IV araw-araw sa susunod na 4-9 na araw depende sa tugon ng pasyente.\n",
      "\n",
      "Ang mga posibleng side effect ay pagduduwal at pagtaas ng transaminase. Bihirang kaso ng hypersensitivity reactions at renal dysfunction ay naiulat din.\n",
      "\n",
      "Kailangang subaybayan ang liver at renal function tests bago at habang ginagamot.\n",
      "\n",
      "Hindi ito dapat ibigay sa mga may malubhang renal impairment o may kilalang hypersensitivity sa remdesivir.\n",
      "\n",
      "Ang dokumentong ito ay naglalaman din ng dalawang sanggunian mula sa mga journal ng infectious diseases at therapy.\n"
     ]
    }
   ],
   "source": [
    "if __name__ == \"__main__\":\n",
    "    example_file = \"Drug Information Sheet.pdf\"\n",
    "    example_query = \"Ibuod ang buong dokumento sa 200 salita\" # Tagalog\n",
    "    example_session = os.environ.get(\"EXAMPLE_SESSION_ID\", \"demo-session-1\")\n",
    "\n",
    "    # Enable history for demo by setting CONVO_HISTORY_ENABLED=true\n",
    "    try:\n",
    "        response = run_direct_document_qa(\n",
    "            example_file,\n",
    "            example_query,\n",
    "            MODEL_CONTEXT_TOKENS,\n",
    "            session_id=example_session\n",
    "        )\n",
    "        print(\"\\n=== Answer ===\")\n",
    "        print(response)\n",
    "    except Exception as e:\n",
    "        logger.exception(\"Pipeline execution failed.\")\n",
    "        raise"
   ]
  },
  {
   "cell_type": "markdown",
   "id": "9512be34-7015-4cb0-b255-6a8801501c54",
   "metadata": {},
   "source": [
    "## Test Query- Turkish"
   ]
  },
  {
   "cell_type": "code",
   "execution_count": 77,
   "id": "f03fd0cb-29af-4e87-942d-9f80b30a2018",
   "metadata": {
    "execution": {
     "iopub.execute_input": "2025-09-22T08:56:10.762416Z",
     "iopub.status.busy": "2025-09-22T08:56:10.762170Z",
     "iopub.status.idle": "2025-09-22T08:56:20.498949Z",
     "shell.execute_reply": "2025-09-22T08:56:20.498238Z",
     "shell.execute_reply.started": "2025-09-22T08:56:10.762389Z"
    }
   },
   "outputs": [
    {
     "name": "stdout",
     "output_type": "stream",
     "text": [
      "[INFO] 2025-09-22 08:56:10,765 - Medical Chatbot G-Version - Query language: code=tr (Turkish), conf≈1.00\n",
      "[INFO] 2025-09-22 08:56:10,767 - Medical Chatbot G-Version - Loading PDF: Drug Information Sheet.pdf\n",
      "[INFO] 2025-09-22 08:56:10,802 - Medical Chatbot G-Version - Token check: total=394, budget=128000, fits=True\n",
      "[INFO] 2025-09-22 08:56:20,482 - Medical Chatbot G-Version - Language verify OK: expected=tr, detected=tr\n",
      "[INFO] 2025-09-22 08:56:20,488 - Medical Chatbot G-Version - Language verify OK: expected=tr, detected=tr\n",
      "\n",
      "=== Answer ===\n",
      "Bu belge, COVID-19 tedavisinde kullanılan remdesivir adlı antiviral ilaca ilişkin bir ilaç bilgi formudur. Belge, remdesivirin sınıfı, etki mekanizması, endikasyonları, dozajı, yan etkileri ve izleme gereksinimleri hakkında klinisyenlere bilgi sağlamaktadır.\n",
      "\n",
      "Remdesivir, viral RNA bağımlı RNA polimerazı inhibe ederek SARS-CoV-2'nin replikasyonunu azaltan bir nükleozid analoğu RNA polimeraz inhibitörüdür. İlaç, ek oksijen gerektiren ancak invaziv ventilasyonda olmayan, hastanede yatan COVID-19 hastaları için endikedir.\n",
      "\n",
      "Dozaj, ilk gün 200 mg IV yükleme dozu ve ardından klinik yanıta bağlı olarak 4 ila 9 gün boyunca günlük 100 mg IV idame dozundan oluşur. \n",
      "\n",
      "Yan etkiler arasında bulantı ve transaminaz yükselmeleri bulunur. Nadir olarak aşırı duyarlılık reaksiyonları ve böbrek disfonksiyonu görülebilir.\n",
      "\n",
      "Tedavi sırasında karaciğer ve böbrek fonksiyon testlerinin başlangıçta ve periyodik olarak izlenmesi önerilir. Şiddetli böbrek yetmezliği (eGFR <30 mL/dak) ve remdesivire karşı bilinen aşırı duyarlılık, ilacın kontrendikasyonlarıdır.\n",
      "\n",
      "Belge, iki referans içermektedir ve 10 Eylül 2025 tarihlidir.\n"
     ]
    }
   ],
   "source": [
    "if __name__ == \"__main__\":\n",
    "    example_file = \"Drug Information Sheet.pdf\"\n",
    "    example_query = \"Tüm belgeyi 200 kelimede özetleyin\" # Turkish\n",
    "    example_session = os.environ.get(\"EXAMPLE_SESSION_ID\", \"demo-session-1\")\n",
    "\n",
    "    # Enable history for demo by setting CONVO_HISTORY_ENABLED=true\n",
    "    try:\n",
    "        response = run_direct_document_qa(\n",
    "            example_file,\n",
    "            example_query,\n",
    "            MODEL_CONTEXT_TOKENS,\n",
    "            session_id=example_session\n",
    "        )\n",
    "        print(\"\\n=== Answer ===\")\n",
    "        print(response)\n",
    "    except Exception as e:\n",
    "        logger.exception(\"Pipeline execution failed.\")\n",
    "        raise"
   ]
  },
  {
   "cell_type": "markdown",
   "id": "dde167d0-bbef-4cb0-bba4-b87aa9a0cb37",
   "metadata": {},
   "source": [
    "## Test Query- Ukrainian"
   ]
  },
  {
   "cell_type": "code",
   "execution_count": 78,
   "id": "8a4fbbfb-dca9-4a98-a852-ce92de7ffa3f",
   "metadata": {
    "execution": {
     "iopub.execute_input": "2025-09-22T08:56:20.500574Z",
     "iopub.status.busy": "2025-09-22T08:56:20.500061Z",
     "iopub.status.idle": "2025-09-22T08:56:27.992737Z",
     "shell.execute_reply": "2025-09-22T08:56:27.991981Z",
     "shell.execute_reply.started": "2025-09-22T08:56:20.500547Z"
    }
   },
   "outputs": [
    {
     "name": "stdout",
     "output_type": "stream",
     "text": [
      "[INFO] 2025-09-22 08:56:20,504 - Medical Chatbot G-Version - Query language: code=uk (Ukrainian), conf≈1.00\n",
      "[INFO] 2025-09-22 08:56:20,505 - Medical Chatbot G-Version - Loading PDF: Drug Information Sheet.pdf\n",
      "[INFO] 2025-09-22 08:56:20,537 - Medical Chatbot G-Version - Token check: total=399, budget=128000, fits=True\n",
      "[INFO] 2025-09-22 08:56:27,973 - Medical Chatbot G-Version - Language verify OK: expected=uk, detected=uk\n",
      "[INFO] 2025-09-22 08:56:27,978 - Medical Chatbot G-Version - Language verify OK: expected=uk, detected=uk\n",
      "\n",
      "=== Answer ===\n",
      "Цей документ є інформаційним листком про препарат ремдесивір для лікування COVID-19. Ремдесивір - це противірусний засіб, що інгібує РНК-залежну РНК-полімеразу вірусу, зменшуючи реплікацію SARS-CoV-2. \n",
      "\n",
      "Показання: госпіталізовані пацієнти з підтвердженим COVID-19, які потребують додаткового кисню, але не на інвазивній вентиляції.\n",
      "\n",
      "Дозування: \n",
      "- Навантажувальна доза: 200 мг внутрішньовенно в 1-й день\n",
      "- Підтримуюча доза: 100 мг внутрішньовенно щодня протягом 4-9 днів\n",
      "\n",
      "Побічні ефекти: нудота, підвищення трансаміназ; рідко - реакції гіперчутливості, порушення функції нирок.\n",
      "\n",
      "Моніторинг: базові та періодичні тести функції печінки та нирок.\n",
      "\n",
      "Протипоказання: \n",
      "- Тяжке порушення функції нирок (рШКФ <30 мл/хв)\n",
      "- Відома гіперчутливість до ремдесивіру\n",
      "\n",
      "Документ також містить метадані та посилання на джерела.\n"
     ]
    }
   ],
   "source": [
    "if __name__ == \"__main__\":\n",
    "    example_file = \"Drug Information Sheet.pdf\"\n",
    "    example_query = \"Стисло викладіть увесь документ у 200 словах\" # Ukrainian\n",
    "    example_session = os.environ.get(\"EXAMPLE_SESSION_ID\", \"demo-session-1\")\n",
    "\n",
    "    # Enable history for demo by setting CONVO_HISTORY_ENABLED=true\n",
    "    try:\n",
    "        response = run_direct_document_qa(\n",
    "            example_file,\n",
    "            example_query,\n",
    "            MODEL_CONTEXT_TOKENS,\n",
    "            session_id=example_session\n",
    "        )\n",
    "        print(\"\\n=== Answer ===\")\n",
    "        print(response)\n",
    "    except Exception as e:\n",
    "        logger.exception(\"Pipeline execution failed.\")\n",
    "        raise"
   ]
  },
  {
   "cell_type": "markdown",
   "id": "a578dd14-eace-4fbb-bb0a-6b6172652b0c",
   "metadata": {},
   "source": [
    "## Test Query- Urdu"
   ]
  },
  {
   "cell_type": "code",
   "execution_count": 79,
   "id": "c4d46ae3-e178-42d9-b255-83065adb31ee",
   "metadata": {
    "execution": {
     "iopub.execute_input": "2025-09-22T08:56:27.994035Z",
     "iopub.status.busy": "2025-09-22T08:56:27.993802Z",
     "iopub.status.idle": "2025-09-22T08:56:42.487531Z",
     "shell.execute_reply": "2025-09-22T08:56:42.486539Z",
     "shell.execute_reply.started": "2025-09-22T08:56:27.994017Z"
    }
   },
   "outputs": [
    {
     "name": "stdout",
     "output_type": "stream",
     "text": [
      "[INFO] 2025-09-22 08:56:27,996 - Medical Chatbot G-Version - Query language: code=ur (Urdu), conf≈1.00\n",
      "[INFO] 2025-09-22 08:56:27,998 - Medical Chatbot G-Version - Loading PDF: Drug Information Sheet.pdf\n",
      "[INFO] 2025-09-22 08:56:28,030 - Medical Chatbot G-Version - Token check: total=412, budget=128000, fits=True\n",
      "[INFO] 2025-09-22 08:56:42,471 - Medical Chatbot G-Version - Language verify OK: expected=ur, detected=ur\n",
      "[INFO] 2025-09-22 08:56:42,475 - Medical Chatbot G-Version - Language verify OK: expected=ur, detected=ur\n",
      "\n",
      "=== Answer ===\n",
      "یہ دستاویز ریمڈیسیویر کے بارے میں ایک دوائی کی معلوماتی شیٹ ہے، جو کہ COVID-19 کے علاج کے لیے استعمال ہونے والی ایک اینٹی وائرل دوا ہے۔ یہ RNA پولیمریز کو روک کر SARS-CoV-2 وائرس کی نقل کو کم کرتی ہے۔ یہ دوا ان مریضوں کے لیے تجویز کی جاتی ہے جو اسپتال میں داخل ہیں، COVID-19 کی تصدیق شدہ تشخیص رکھتے ہیں، اور جنہیں آکسیجن کی ضرورت ہے لیکن وینٹیلیٹر پر نہیں ہیں۔\n",
      "\n",
      "خوراک کے طور پر، پہلے دن 200 mg IV دیا جاتا ہے، اس کے بعد 4 سے 9 دنوں تک روزانہ 100 mg IV دیا جاتا ہے۔ اس کے ضمنی اثرات میں متلی اور جگر کے خون کے ٹیسٹوں میں تبدیلی شامل ہیں۔ نادر صورتوں میں، حساسیت کے ردعمل اور گردے کی خرابی بھی ہو سکتی ہے۔\n",
      "\n",
      "علاج کے دوران جگر اور گردے کے فنکشن ٹیسٹوں کی نگرانی ضروری ہے۔ شدید گردے کی خرابی (eGFR <30 mL/min) والے مریضوں اور ریمڈیسیویر سے معلوم حساسیت رکھنے والے افراد کے لیے یہ دوا منع ہے۔\n"
     ]
    }
   ],
   "source": [
    "if __name__ == \"__main__\":\n",
    "    example_file = \"Drug Information Sheet.pdf\"\n",
    "    example_query = \"پورے دستاویز کو 200 الفاظ میں خلاصہ کریں\" # Urdu\n",
    "    example_session = os.environ.get(\"EXAMPLE_SESSION_ID\", \"demo-session-1\")\n",
    "\n",
    "    # Enable history for demo by setting CONVO_HISTORY_ENABLED=true\n",
    "    try:\n",
    "        response = run_direct_document_qa(\n",
    "            example_file,\n",
    "            example_query,\n",
    "            MODEL_CONTEXT_TOKENS,\n",
    "            session_id=example_session\n",
    "        )\n",
    "        print(\"\\n=== Answer ===\")\n",
    "        print(response)\n",
    "    except Exception as e:\n",
    "        logger.exception(\"Pipeline execution failed.\")\n",
    "        raise"
   ]
  },
  {
   "cell_type": "markdown",
   "id": "a30e414a-a0fc-4d31-9599-46f32ba0378e",
   "metadata": {},
   "source": [
    "## Test Query- Vietnamese"
   ]
  },
  {
   "cell_type": "code",
   "execution_count": 80,
   "id": "822f5923-4790-46ad-83ce-264f71a8357c",
   "metadata": {
    "execution": {
     "iopub.execute_input": "2025-09-22T08:56:42.488778Z",
     "iopub.status.busy": "2025-09-22T08:56:42.488356Z",
     "iopub.status.idle": "2025-09-22T08:56:51.997714Z",
     "shell.execute_reply": "2025-09-22T08:56:51.996858Z",
     "shell.execute_reply.started": "2025-09-22T08:56:42.488742Z"
    }
   },
   "outputs": [
    {
     "name": "stdout",
     "output_type": "stream",
     "text": [
      "[INFO] 2025-09-22 08:56:42,491 - Medical Chatbot G-Version - Query language: code=vi (Vietnamese), conf≈1.00\n",
      "[INFO] 2025-09-22 08:56:42,493 - Medical Chatbot G-Version - Loading PDF: Drug Information Sheet.pdf\n",
      "[INFO] 2025-09-22 08:56:42,528 - Medical Chatbot G-Version - Token check: total=396, budget=128000, fits=True\n",
      "[INFO] 2025-09-22 08:56:51,981 - Medical Chatbot G-Version - Language verify OK: expected=vi, detected=vi\n",
      "[INFO] 2025-09-22 08:56:51,985 - Medical Chatbot G-Version - Language verify OK: expected=vi, detected=vi\n",
      "\n",
      "=== Answer ===\n",
      "Tài liệu này là một bảng thông tin thuốc về remdesivir, một loại thuốc kháng virus được sử dụng để điều trị COVID-19. Nó bao gồm các thông tin sau:\n",
      "\n",
      "- Loại thuốc: Thuốc kháng virus - chất ức chế RNA polymerase tương tự nucleoside.\n",
      "- Cơ chế tác dụng: Ức chế RNA polymerase phụ thuộc RNA của virus, giảm sự nhân lên của SARS-CoV-2.\n",
      "- Chỉ định: Bệnh nhân nhập viện có xác nhận COVID-19 cần bổ sung oxy nhưng không cần thở máy xâm lấn.\n",
      "- Liều dùng: Liều nạp 200 mg tiêm tĩnh mạch ngày 1, sau đó duy trì 100 mg tiêm tĩnh mạch hàng ngày trong 4-9 ngày tùy đáp ứng lâm sàng.\n",
      "- Tác dụng phụ: Buồn nôn, tăng men gan; hiếm gặp: phản ứng quá mẫn, rối loạn chức năng thận.\n",
      "- Theo dõi: Xét nghiệm chức năng gan và thận ban đầu và định kỳ trong quá trình điều trị.\n",
      "- Chống chỉ định: Suy thận nặng (eGFR <30 mL/phút), quá mẫn với remdesivir.\n",
      "\n",
      "Tài liệu cũng bao gồm hai tài liệu tham khảo liên quan đến việc sử dụng và theo dõi an toàn của remdesivir.\n"
     ]
    }
   ],
   "source": [
    "if __name__ == \"__main__\":\n",
    "    example_file = \"Drug Information Sheet.pdf\"\n",
    "    example_query = \"Tóm tắt toàn bộ tài liệu trong 200 từ\" # Vietnamese\n",
    "    example_session = os.environ.get(\"EXAMPLE_SESSION_ID\", \"demo-session-1\")\n",
    "\n",
    "    # Enable history for demo by setting CONVO_HISTORY_ENABLED=true\n",
    "    try:\n",
    "        response = run_direct_document_qa(\n",
    "            example_file,\n",
    "            example_query,\n",
    "            MODEL_CONTEXT_TOKENS,\n",
    "            session_id=example_session\n",
    "        )\n",
    "        print(\"\\n=== Answer ===\")\n",
    "        print(response)\n",
    "    except Exception as e:\n",
    "        logger.exception(\"Pipeline execution failed.\")\n",
    "        raise"
   ]
  }
 ],
 "metadata": {
  "kernelspec": {
   "display_name": "Python 3 (ipykernel)",
   "language": "python",
   "name": "python3"
  },
  "language_info": {
   "codemirror_mode": {
    "name": "ipython",
    "version": 3
   },
   "file_extension": ".py",
   "mimetype": "text/x-python",
   "name": "python",
   "nbconvert_exporter": "python",
   "pygments_lexer": "ipython3",
   "version": "3.12.9"
  }
 },
 "nbformat": 4,
 "nbformat_minor": 5
}
